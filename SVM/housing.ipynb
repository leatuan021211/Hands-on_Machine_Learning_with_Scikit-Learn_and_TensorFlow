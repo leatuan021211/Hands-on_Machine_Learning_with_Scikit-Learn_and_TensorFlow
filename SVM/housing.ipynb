{
 "cells": [
  {
   "cell_type": "code",
   "execution_count": 16,
   "id": "2b43d158",
   "metadata": {},
   "outputs": [],
   "source": [
    "from sklearn.datasets import fetch_california_housing\n",
    "\n",
    "housing = fetch_california_housing()"
   ]
  },
  {
   "cell_type": "code",
   "execution_count": 17,
   "id": "2c6c421c",
   "metadata": {},
   "outputs": [],
   "source": [
    "X = housing[\"data\"]\n",
    "y = housing[\"target\"]"
   ]
  },
  {
   "cell_type": "code",
   "execution_count": 18,
   "id": "5a00b15d",
   "metadata": {},
   "outputs": [],
   "source": [
    "from sklearn.model_selection import train_test_split\n",
    "\n",
    "X_train, X_test, y_train, y_test = train_test_split(X, y, test_size=0.2, random_state=42)"
   ]
  },
  {
   "cell_type": "code",
   "execution_count": 19,
   "id": "18fe19a5",
   "metadata": {},
   "outputs": [],
   "source": [
    "from sklearn.preprocessing import StandardScaler\n",
    "\n",
    "scaler = StandardScaler()\n",
    "X_train_scaled = scaler.fit_transform(X_train)\n",
    "X_test_scaled = scaler.fit_transform(X_test)"
   ]
  },
  {
   "cell_type": "code",
   "execution_count": 20,
   "id": "853b3aac",
   "metadata": {},
   "outputs": [
    {
     "name": "stderr",
     "output_type": "stream",
     "text": [
      "C:\\Users\\leatu\\anaconda3\\envs\\py39\\lib\\site-packages\\sklearn\\svm\\_base.py:1206: ConvergenceWarning: Liblinear failed to converge, increase the number of iterations.\n",
      "  warnings.warn(\n"
     ]
    },
    {
     "data": {
      "text/plain": [
       "LinearSVR(random_state=42)"
      ]
     },
     "execution_count": 20,
     "metadata": {},
     "output_type": "execute_result"
    }
   ],
   "source": [
    "from sklearn.svm import LinearSVR\n",
    "\n",
    "lin_svr = LinearSVR(random_state=42)\n",
    "lin_svr.fit(X_train_scaled, y_train)"
   ]
  },
  {
   "cell_type": "code",
   "execution_count": 21,
   "id": "586e85cb",
   "metadata": {},
   "outputs": [
    {
     "data": {
      "text/plain": [
       "0.9819256687727764"
      ]
     },
     "execution_count": 21,
     "metadata": {},
     "output_type": "execute_result"
    }
   ],
   "source": [
    "from sklearn.metrics import mean_squared_error, accuracy_score\n",
    "import numpy as np\n",
    "\n",
    "np.random.seed(42)\n",
    "\n",
    "y_pred = lin_svr.predict(X_train_scaled)\n",
    "mse = mean_squared_error(y_train, y_pred)\n",
    "np.sqrt(mse)"
   ]
  },
  {
   "cell_type": "code",
   "execution_count": 22,
   "id": "38d5fd19",
   "metadata": {},
   "outputs": [
    {
     "data": {
      "text/plain": [
       "0.9540755517635612"
      ]
     },
     "execution_count": 22,
     "metadata": {},
     "output_type": "execute_result"
    }
   ],
   "source": [
    "y_pred = lin_svr.predict(X_test_scaled)\n",
    "mse = mean_squared_error(y_test, y_pred)\n",
    "np.sqrt(mse)"
   ]
  },
  {
   "cell_type": "code",
   "execution_count": 27,
   "id": "18c46a41",
   "metadata": {},
   "outputs": [
    {
     "name": "stdout",
     "output_type": "stream",
     "text": [
      "Fitting 5 folds for each of 10 candidates, totalling 50 fits\n",
      "[CV] END .....C=4.745401188473625, gamma=0.07969454818643928; total time=  12.0s\n",
      "[CV] END .....C=4.745401188473625, gamma=0.07969454818643928; total time=  11.9s\n",
      "[CV] END .....C=4.745401188473625, gamma=0.07969454818643928; total time=  11.9s\n",
      "[CV] END .....C=4.745401188473625, gamma=0.07969454818643928; total time=  12.0s\n",
      "[CV] END .....C=4.745401188473625, gamma=0.07969454818643928; total time=  20.8s\n",
      "[CV] END .....C=8.31993941811405, gamma=0.015751320499779724; total time=  20.6s\n",
      "[CV] END .....C=8.31993941811405, gamma=0.015751320499779724; total time=  20.2s\n",
      "[CV] END .....C=8.31993941811405, gamma=0.015751320499779724; total time=  20.2s\n",
      "[CV] END .....C=8.31993941811405, gamma=0.015751320499779724; total time=  21.7s\n",
      "[CV] END .....C=8.31993941811405, gamma=0.015751320499779724; total time=  20.6s\n",
      "[CV] END ....C=2.560186404424365, gamma=0.002051110418843397; total time=  20.2s\n",
      "[CV] END ....C=2.560186404424365, gamma=0.002051110418843397; total time=  21.4s\n",
      "[CV] END ....C=2.560186404424365, gamma=0.002051110418843397; total time=  23.2s\n",
      "[CV] END ....C=2.560186404424365, gamma=0.002051110418843397; total time=  24.0s\n",
      "[CV] END ....C=2.560186404424365, gamma=0.002051110418843397; total time=  29.9s\n",
      "[CV] END ....C=1.5808361216819946, gamma=0.05399484409787431; total time=  20.9s\n",
      "[CV] END ....C=1.5808361216819946, gamma=0.05399484409787431; total time=  24.8s\n",
      "[CV] END ....C=1.5808361216819946, gamma=0.05399484409787431; total time=  25.5s\n",
      "[CV] END ....C=1.5808361216819946, gamma=0.05399484409787431; total time=  23.1s\n",
      "[CV] END ....C=1.5808361216819946, gamma=0.05399484409787431; total time=  27.0s\n",
      "[CV] END ....C=7.011150117432088, gamma=0.026070247583707663; total time=  32.3s\n",
      "[CV] END ....C=7.011150117432088, gamma=0.026070247583707663; total time=  42.5s\n",
      "[CV] END ....C=7.011150117432088, gamma=0.026070247583707663; total time=  40.6s\n",
      "[CV] END ....C=7.011150117432088, gamma=0.026070247583707663; total time=  37.5s\n",
      "[CV] END ....C=7.011150117432088, gamma=0.026070247583707663; total time=  27.9s\n",
      "[CV] END .....C=1.2058449429580245, gamma=0.0870602087830485; total time=  24.3s\n",
      "[CV] END .....C=1.2058449429580245, gamma=0.0870602087830485; total time=  18.8s\n",
      "[CV] END .....C=1.2058449429580245, gamma=0.0870602087830485; total time=  36.4s\n",
      "[CV] END .....C=1.2058449429580245, gamma=0.0870602087830485; total time=  28.9s\n",
      "[CV] END .....C=1.2058449429580245, gamma=0.0870602087830485; total time=  22.7s\n",
      "[CV] END ...C=9.324426408004218, gamma=0.0026587543983272693; total time=  21.7s\n",
      "[CV] END ...C=9.324426408004218, gamma=0.0026587543983272693; total time=  22.1s\n",
      "[CV] END ...C=9.324426408004218, gamma=0.0026587543983272693; total time=  21.7s\n",
      "[CV] END ...C=9.324426408004218, gamma=0.0026587543983272693; total time=  22.2s\n",
      "[CV] END ...C=9.324426408004218, gamma=0.0026587543983272693; total time=  21.7s\n",
      "[CV] END ...C=2.818249672071006, gamma=0.0023270677083837795; total time=  23.2s\n",
      "[CV] END ...C=2.818249672071006, gamma=0.0023270677083837795; total time=  22.1s\n",
      "[CV] END ...C=2.818249672071006, gamma=0.0023270677083837795; total time=  21.9s\n",
      "[CV] END ...C=2.818249672071006, gamma=0.0023270677083837795; total time=  22.5s\n",
      "[CV] END ...C=2.818249672071006, gamma=0.0023270677083837795; total time=  21.9s\n",
      "[CV] END ....C=4.042422429595377, gamma=0.011207606211860567; total time=  21.8s\n",
      "[CV] END ....C=4.042422429595377, gamma=0.011207606211860567; total time=  22.8s\n",
      "[CV] END ....C=4.042422429595377, gamma=0.011207606211860567; total time=  22.8s\n",
      "[CV] END ....C=4.042422429595377, gamma=0.011207606211860567; total time=  21.6s\n",
      "[CV] END ....C=4.042422429595377, gamma=0.011207606211860567; total time=  21.3s\n",
      "[CV] END ....C=5.319450186421157, gamma=0.003823475224675185; total time=  22.4s\n",
      "[CV] END ....C=5.319450186421157, gamma=0.003823475224675185; total time=  22.2s\n",
      "[CV] END ....C=5.319450186421157, gamma=0.003823475224675185; total time=  21.9s\n",
      "[CV] END ....C=5.319450186421157, gamma=0.003823475224675185; total time=  24.0s\n",
      "[CV] END ....C=5.319450186421157, gamma=0.003823475224675185; total time=  22.1s\n"
     ]
    },
    {
     "data": {
      "text/plain": [
       "RandomizedSearchCV(cv=5, estimator=SVR(),\n",
       "                   param_distributions={'C': <scipy.stats._distn_infrastructure.rv_frozen object at 0x0000016BF948BDC0>,\n",
       "                                        'gamma': <scipy.stats._distn_infrastructure.rv_frozen object at 0x0000016BF9A87F10>},\n",
       "                   random_state=42, verbose=2)"
      ]
     },
     "execution_count": 27,
     "metadata": {},
     "output_type": "execute_result"
    }
   ],
   "source": [
    "from sklearn.svm import SVR\n",
    "from sklearn.model_selection import RandomizedSearchCV\n",
    "from scipy.stats import reciprocal, uniform\n",
    "\n",
    "param_distributions = {\"gamma\": reciprocal(0.001, 0.1), \"C\": uniform(1, 10)}\n",
    "rnd_search_cv = RandomizedSearchCV(SVR(), param_distributions, n_iter=10, verbose=2, cv=5, random_state=42)\n",
    "rnd_search_cv.fit(X_train_scaled, y_train)"
   ]
  },
  {
   "cell_type": "code",
   "execution_count": 28,
   "id": "a531df8d",
   "metadata": {
    "scrolled": true
   },
   "outputs": [
    {
     "data": {
      "text/plain": [
       "SVR(C=4.745401188473625, gamma=0.07969454818643928)"
      ]
     },
     "execution_count": 28,
     "metadata": {},
     "output_type": "execute_result"
    }
   ],
   "source": [
    "rnd_search_cv.best_estimator_"
   ]
  },
  {
   "cell_type": "code",
   "execution_count": 29,
   "id": "5ed3accc",
   "metadata": {},
   "outputs": [
    {
     "data": {
      "text/plain": [
       "0.5727524770785372"
      ]
     },
     "execution_count": 29,
     "metadata": {},
     "output_type": "execute_result"
    }
   ],
   "source": [
    "y_pred = rnd_search_cv.best_estimator_.predict(X_train_scaled)\n",
    "mse = mean_squared_error(y_train, y_pred)\n",
    "np.sqrt(mse)"
   ]
  },
  {
   "cell_type": "code",
   "execution_count": 30,
   "id": "a9ffc5c0",
   "metadata": {},
   "outputs": [
    {
     "data": {
      "text/plain": [
       "1.1066673077043263"
      ]
     },
     "execution_count": 30,
     "metadata": {},
     "output_type": "execute_result"
    }
   ],
   "source": [
    "y_pred = rnd_search_cv.best_estimator_.predict(X_test_scaled)\n",
    "mse = mean_squared_error(y_test, y_pred)\n",
    "np.sqrt(mse)"
   ]
  },
  {
   "cell_type": "code",
   "execution_count": null,
   "id": "38b65a90",
   "metadata": {},
   "outputs": [],
   "source": []
  }
 ],
 "metadata": {
  "kernelspec": {
   "display_name": "Python 3 (ipykernel)",
   "language": "python",
   "name": "python3"
  },
  "language_info": {
   "codemirror_mode": {
    "name": "ipython",
    "version": 3
   },
   "file_extension": ".py",
   "mimetype": "text/x-python",
   "name": "python",
   "nbconvert_exporter": "python",
   "pygments_lexer": "ipython3",
   "version": "3.9.7"
  }
 },
 "nbformat": 4,
 "nbformat_minor": 5
}
