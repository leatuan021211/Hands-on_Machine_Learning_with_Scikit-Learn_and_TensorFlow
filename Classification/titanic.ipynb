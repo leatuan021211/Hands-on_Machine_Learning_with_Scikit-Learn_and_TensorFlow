{
 "cells": [
  {
   "cell_type": "code",
   "execution_count": 1,
   "id": "ab6ff435",
   "metadata": {},
   "outputs": [],
   "source": [
    "import os\n",
    "TITANIC_PATH = os.path.join(\"datasets\", \"titanic\")"
   ]
  },
  {
   "cell_type": "code",
   "execution_count": 4,
   "id": "c3328408",
   "metadata": {},
   "outputs": [],
   "source": [
    "import pandas as pd\n",
    "\n",
    "def load_titanic_data(filename, titanic_path=TITANIC_PATH):\n",
    "    csv_path = os.path.join(titanic_path, filename)\n",
    "    return pd.read_csv(csv_path)"
   ]
  },
  {
   "cell_type": "code",
   "execution_count": 5,
   "id": "959dcb98",
   "metadata": {},
   "outputs": [],
   "source": [
    "train_data = load_titanic_data(\"train.csv\")\n",
    "test_data = load_titanic_data(\"test.csv\")"
   ]
  },
  {
   "cell_type": "code",
   "execution_count": 6,
   "id": "d2b74e24",
   "metadata": {},
   "outputs": [
    {
     "data": {
      "text/html": [
       "<div>\n",
       "<style scoped>\n",
       "    .dataframe tbody tr th:only-of-type {\n",
       "        vertical-align: middle;\n",
       "    }\n",
       "\n",
       "    .dataframe tbody tr th {\n",
       "        vertical-align: top;\n",
       "    }\n",
       "\n",
       "    .dataframe thead th {\n",
       "        text-align: right;\n",
       "    }\n",
       "</style>\n",
       "<table border=\"1\" class=\"dataframe\">\n",
       "  <thead>\n",
       "    <tr style=\"text-align: right;\">\n",
       "      <th></th>\n",
       "      <th>PassengerId</th>\n",
       "      <th>Survived</th>\n",
       "      <th>Pclass</th>\n",
       "      <th>Name</th>\n",
       "      <th>Sex</th>\n",
       "      <th>Age</th>\n",
       "      <th>SibSp</th>\n",
       "      <th>Parch</th>\n",
       "      <th>Ticket</th>\n",
       "      <th>Fare</th>\n",
       "      <th>Cabin</th>\n",
       "      <th>Embarked</th>\n",
       "    </tr>\n",
       "  </thead>\n",
       "  <tbody>\n",
       "    <tr>\n",
       "      <th>0</th>\n",
       "      <td>1</td>\n",
       "      <td>0</td>\n",
       "      <td>3</td>\n",
       "      <td>Braund, Mr. Owen Harris</td>\n",
       "      <td>male</td>\n",
       "      <td>22.0</td>\n",
       "      <td>1</td>\n",
       "      <td>0</td>\n",
       "      <td>A/5 21171</td>\n",
       "      <td>7.2500</td>\n",
       "      <td>NaN</td>\n",
       "      <td>S</td>\n",
       "    </tr>\n",
       "    <tr>\n",
       "      <th>1</th>\n",
       "      <td>2</td>\n",
       "      <td>1</td>\n",
       "      <td>1</td>\n",
       "      <td>Cumings, Mrs. John Bradley (Florence Briggs Th...</td>\n",
       "      <td>female</td>\n",
       "      <td>38.0</td>\n",
       "      <td>1</td>\n",
       "      <td>0</td>\n",
       "      <td>PC 17599</td>\n",
       "      <td>71.2833</td>\n",
       "      <td>C85</td>\n",
       "      <td>C</td>\n",
       "    </tr>\n",
       "    <tr>\n",
       "      <th>2</th>\n",
       "      <td>3</td>\n",
       "      <td>1</td>\n",
       "      <td>3</td>\n",
       "      <td>Heikkinen, Miss. Laina</td>\n",
       "      <td>female</td>\n",
       "      <td>26.0</td>\n",
       "      <td>0</td>\n",
       "      <td>0</td>\n",
       "      <td>STON/O2. 3101282</td>\n",
       "      <td>7.9250</td>\n",
       "      <td>NaN</td>\n",
       "      <td>S</td>\n",
       "    </tr>\n",
       "    <tr>\n",
       "      <th>3</th>\n",
       "      <td>4</td>\n",
       "      <td>1</td>\n",
       "      <td>1</td>\n",
       "      <td>Futrelle, Mrs. Jacques Heath (Lily May Peel)</td>\n",
       "      <td>female</td>\n",
       "      <td>35.0</td>\n",
       "      <td>1</td>\n",
       "      <td>0</td>\n",
       "      <td>113803</td>\n",
       "      <td>53.1000</td>\n",
       "      <td>C123</td>\n",
       "      <td>S</td>\n",
       "    </tr>\n",
       "    <tr>\n",
       "      <th>4</th>\n",
       "      <td>5</td>\n",
       "      <td>0</td>\n",
       "      <td>3</td>\n",
       "      <td>Allen, Mr. William Henry</td>\n",
       "      <td>male</td>\n",
       "      <td>35.0</td>\n",
       "      <td>0</td>\n",
       "      <td>0</td>\n",
       "      <td>373450</td>\n",
       "      <td>8.0500</td>\n",
       "      <td>NaN</td>\n",
       "      <td>S</td>\n",
       "    </tr>\n",
       "  </tbody>\n",
       "</table>\n",
       "</div>"
      ],
      "text/plain": [
       "   PassengerId  Survived  Pclass  \\\n",
       "0            1         0       3   \n",
       "1            2         1       1   \n",
       "2            3         1       3   \n",
       "3            4         1       1   \n",
       "4            5         0       3   \n",
       "\n",
       "                                                Name     Sex   Age  SibSp  \\\n",
       "0                            Braund, Mr. Owen Harris    male  22.0      1   \n",
       "1  Cumings, Mrs. John Bradley (Florence Briggs Th...  female  38.0      1   \n",
       "2                             Heikkinen, Miss. Laina  female  26.0      0   \n",
       "3       Futrelle, Mrs. Jacques Heath (Lily May Peel)  female  35.0      1   \n",
       "4                           Allen, Mr. William Henry    male  35.0      0   \n",
       "\n",
       "   Parch            Ticket     Fare Cabin Embarked  \n",
       "0      0         A/5 21171   7.2500   NaN        S  \n",
       "1      0          PC 17599  71.2833   C85        C  \n",
       "2      0  STON/O2. 3101282   7.9250   NaN        S  \n",
       "3      0            113803  53.1000  C123        S  \n",
       "4      0            373450   8.0500   NaN        S  "
      ]
     },
     "execution_count": 6,
     "metadata": {},
     "output_type": "execute_result"
    }
   ],
   "source": [
    "train_data.head()"
   ]
  },
  {
   "cell_type": "code",
   "execution_count": 7,
   "id": "cc24585d",
   "metadata": {},
   "outputs": [
    {
     "name": "stdout",
     "output_type": "stream",
     "text": [
      "<class 'pandas.core.frame.DataFrame'>\n",
      "RangeIndex: 891 entries, 0 to 890\n",
      "Data columns (total 12 columns):\n",
      " #   Column       Non-Null Count  Dtype  \n",
      "---  ------       --------------  -----  \n",
      " 0   PassengerId  891 non-null    int64  \n",
      " 1   Survived     891 non-null    int64  \n",
      " 2   Pclass       891 non-null    int64  \n",
      " 3   Name         891 non-null    object \n",
      " 4   Sex          891 non-null    object \n",
      " 5   Age          714 non-null    float64\n",
      " 6   SibSp        891 non-null    int64  \n",
      " 7   Parch        891 non-null    int64  \n",
      " 8   Ticket       891 non-null    object \n",
      " 9   Fare         891 non-null    float64\n",
      " 10  Cabin        204 non-null    object \n",
      " 11  Embarked     889 non-null    object \n",
      "dtypes: float64(2), int64(5), object(5)\n",
      "memory usage: 83.7+ KB\n"
     ]
    }
   ],
   "source": [
    "train_data.info()"
   ]
  },
  {
   "cell_type": "code",
   "execution_count": 10,
   "id": "c86762f2",
   "metadata": {},
   "outputs": [
    {
     "data": {
      "text/html": [
       "<div>\n",
       "<style scoped>\n",
       "    .dataframe tbody tr th:only-of-type {\n",
       "        vertical-align: middle;\n",
       "    }\n",
       "\n",
       "    .dataframe tbody tr th {\n",
       "        vertical-align: top;\n",
       "    }\n",
       "\n",
       "    .dataframe thead th {\n",
       "        text-align: right;\n",
       "    }\n",
       "</style>\n",
       "<table border=\"1\" class=\"dataframe\">\n",
       "  <thead>\n",
       "    <tr style=\"text-align: right;\">\n",
       "      <th></th>\n",
       "      <th>PassengerId</th>\n",
       "      <th>Survived</th>\n",
       "      <th>Pclass</th>\n",
       "      <th>Age</th>\n",
       "      <th>SibSp</th>\n",
       "      <th>Parch</th>\n",
       "      <th>Fare</th>\n",
       "    </tr>\n",
       "  </thead>\n",
       "  <tbody>\n",
       "    <tr>\n",
       "      <th>count</th>\n",
       "      <td>891.000000</td>\n",
       "      <td>891.000000</td>\n",
       "      <td>891.000000</td>\n",
       "      <td>714.000000</td>\n",
       "      <td>891.000000</td>\n",
       "      <td>891.000000</td>\n",
       "      <td>891.000000</td>\n",
       "    </tr>\n",
       "    <tr>\n",
       "      <th>mean</th>\n",
       "      <td>446.000000</td>\n",
       "      <td>0.383838</td>\n",
       "      <td>2.308642</td>\n",
       "      <td>29.699118</td>\n",
       "      <td>0.523008</td>\n",
       "      <td>0.381594</td>\n",
       "      <td>32.204208</td>\n",
       "    </tr>\n",
       "    <tr>\n",
       "      <th>std</th>\n",
       "      <td>257.353842</td>\n",
       "      <td>0.486592</td>\n",
       "      <td>0.836071</td>\n",
       "      <td>14.526497</td>\n",
       "      <td>1.102743</td>\n",
       "      <td>0.806057</td>\n",
       "      <td>49.693429</td>\n",
       "    </tr>\n",
       "    <tr>\n",
       "      <th>min</th>\n",
       "      <td>1.000000</td>\n",
       "      <td>0.000000</td>\n",
       "      <td>1.000000</td>\n",
       "      <td>0.420000</td>\n",
       "      <td>0.000000</td>\n",
       "      <td>0.000000</td>\n",
       "      <td>0.000000</td>\n",
       "    </tr>\n",
       "    <tr>\n",
       "      <th>25%</th>\n",
       "      <td>223.500000</td>\n",
       "      <td>0.000000</td>\n",
       "      <td>2.000000</td>\n",
       "      <td>20.125000</td>\n",
       "      <td>0.000000</td>\n",
       "      <td>0.000000</td>\n",
       "      <td>7.910400</td>\n",
       "    </tr>\n",
       "    <tr>\n",
       "      <th>50%</th>\n",
       "      <td>446.000000</td>\n",
       "      <td>0.000000</td>\n",
       "      <td>3.000000</td>\n",
       "      <td>28.000000</td>\n",
       "      <td>0.000000</td>\n",
       "      <td>0.000000</td>\n",
       "      <td>14.454200</td>\n",
       "    </tr>\n",
       "    <tr>\n",
       "      <th>75%</th>\n",
       "      <td>668.500000</td>\n",
       "      <td>1.000000</td>\n",
       "      <td>3.000000</td>\n",
       "      <td>38.000000</td>\n",
       "      <td>1.000000</td>\n",
       "      <td>0.000000</td>\n",
       "      <td>31.000000</td>\n",
       "    </tr>\n",
       "    <tr>\n",
       "      <th>max</th>\n",
       "      <td>891.000000</td>\n",
       "      <td>1.000000</td>\n",
       "      <td>3.000000</td>\n",
       "      <td>80.000000</td>\n",
       "      <td>8.000000</td>\n",
       "      <td>6.000000</td>\n",
       "      <td>512.329200</td>\n",
       "    </tr>\n",
       "  </tbody>\n",
       "</table>\n",
       "</div>"
      ],
      "text/plain": [
       "       PassengerId    Survived      Pclass         Age       SibSp  \\\n",
       "count   891.000000  891.000000  891.000000  714.000000  891.000000   \n",
       "mean    446.000000    0.383838    2.308642   29.699118    0.523008   \n",
       "std     257.353842    0.486592    0.836071   14.526497    1.102743   \n",
       "min       1.000000    0.000000    1.000000    0.420000    0.000000   \n",
       "25%     223.500000    0.000000    2.000000   20.125000    0.000000   \n",
       "50%     446.000000    0.000000    3.000000   28.000000    0.000000   \n",
       "75%     668.500000    1.000000    3.000000   38.000000    1.000000   \n",
       "max     891.000000    1.000000    3.000000   80.000000    8.000000   \n",
       "\n",
       "            Parch        Fare  \n",
       "count  891.000000  891.000000  \n",
       "mean     0.381594   32.204208  \n",
       "std      0.806057   49.693429  \n",
       "min      0.000000    0.000000  \n",
       "25%      0.000000    7.910400  \n",
       "50%      0.000000   14.454200  \n",
       "75%      0.000000   31.000000  \n",
       "max      6.000000  512.329200  "
      ]
     },
     "execution_count": 10,
     "metadata": {},
     "output_type": "execute_result"
    }
   ],
   "source": [
    "train_data.describe()"
   ]
  },
  {
   "cell_type": "code",
   "execution_count": 11,
   "id": "dd0bb4ed",
   "metadata": {},
   "outputs": [
    {
     "data": {
      "text/plain": [
       "0    549\n",
       "1    342\n",
       "Name: Survived, dtype: int64"
      ]
     },
     "execution_count": 11,
     "metadata": {},
     "output_type": "execute_result"
    }
   ],
   "source": [
    "train_data[\"Survived\"].value_counts()"
   ]
  },
  {
   "cell_type": "code",
   "execution_count": 13,
   "id": "6f28f1a3",
   "metadata": {},
   "outputs": [
    {
     "data": {
      "text/plain": [
       "3    491\n",
       "1    216\n",
       "2    184\n",
       "Name: Pclass, dtype: int64"
      ]
     },
     "execution_count": 13,
     "metadata": {},
     "output_type": "execute_result"
    }
   ],
   "source": [
    "train_data[\"Pclass\"].value_counts()"
   ]
  },
  {
   "cell_type": "code",
   "execution_count": 14,
   "id": "ce808717",
   "metadata": {},
   "outputs": [
    {
     "data": {
      "text/plain": [
       "0    608\n",
       "1    209\n",
       "2     28\n",
       "4     18\n",
       "3     16\n",
       "8      7\n",
       "5      5\n",
       "Name: SibSp, dtype: int64"
      ]
     },
     "execution_count": 14,
     "metadata": {},
     "output_type": "execute_result"
    }
   ],
   "source": [
    "train_data[\"SibSp\"].value_counts()"
   ]
  },
  {
   "cell_type": "code",
   "execution_count": 15,
   "id": "80ed5198",
   "metadata": {},
   "outputs": [
    {
     "data": {
      "text/plain": [
       "male      577\n",
       "female    314\n",
       "Name: Sex, dtype: int64"
      ]
     },
     "execution_count": 15,
     "metadata": {},
     "output_type": "execute_result"
    }
   ],
   "source": [
    "train_data[\"Sex\"].value_counts()"
   ]
  },
  {
   "cell_type": "code",
   "execution_count": 16,
   "id": "47182c7a",
   "metadata": {},
   "outputs": [
    {
     "data": {
      "text/plain": [
       "S    644\n",
       "C    168\n",
       "Q     77\n",
       "Name: Embarked, dtype: int64"
      ]
     },
     "execution_count": 16,
     "metadata": {},
     "output_type": "execute_result"
    }
   ],
   "source": [
    "train_data[\"Embarked\"].value_counts()"
   ]
  },
  {
   "cell_type": "code",
   "execution_count": 17,
   "id": "659b0c01",
   "metadata": {},
   "outputs": [],
   "source": [
    "train_data_copy = train_data.copy()"
   ]
  },
  {
   "cell_type": "code",
   "execution_count": 18,
   "id": "834daf1e",
   "metadata": {},
   "outputs": [],
   "source": [
    "from sklearn.base import BaseEstimator, TransformerMixin\n",
    "from sklearn.impute import SimpleImputer\n",
    "\n",
    "class DataFrameSelector(BaseEstimator, TransformerMixin):\n",
    "    def __init__(self, attribute_name):\n",
    "        self.attribute_name = attribute_name\n",
    "        \n",
    "    def fit(self, X, y=None):\n",
    "        return self\n",
    "    \n",
    "    def transform(self, X):\n",
    "        return X[self.attribute_name]"
   ]
  },
  {
   "cell_type": "code",
   "execution_count": 19,
   "id": "1b433636",
   "metadata": {},
   "outputs": [],
   "source": [
    "from sklearn.pipeline import Pipeline\n",
    "\n",
    "num_pipeline = Pipeline([\n",
    "        (\"select_numeric\", DataFrameSelector([\"Age\", \"SibSp\", \"Parch\", \"Fare\"])),\n",
    "        (\"imputer\", SimpleImputer(strategy=\"median\"))\n",
    "    ])"
   ]
  },
  {
   "cell_type": "code",
   "execution_count": 20,
   "id": "a40c4c0c",
   "metadata": {},
   "outputs": [
    {
     "data": {
      "text/plain": [
       "array([[22.    ,  1.    ,  0.    ,  7.25  ],\n",
       "       [38.    ,  1.    ,  0.    , 71.2833],\n",
       "       [26.    ,  0.    ,  0.    ,  7.925 ],\n",
       "       ...,\n",
       "       [28.    ,  1.    ,  2.    , 23.45  ],\n",
       "       [26.    ,  0.    ,  0.    , 30.    ],\n",
       "       [32.    ,  0.    ,  0.    ,  7.75  ]])"
      ]
     },
     "execution_count": 20,
     "metadata": {},
     "output_type": "execute_result"
    }
   ],
   "source": [
    "num_pipeline.fit_transform(train_data)"
   ]
  },
  {
   "cell_type": "code",
   "execution_count": 26,
   "id": "f19cafc7",
   "metadata": {},
   "outputs": [],
   "source": [
    "class MostFrequentImputer(BaseEstimator, TransformerMixin):\n",
    "    def fit(self, X, y=None):\n",
    "        self.most_frequent_ = pd.Series([X[c].value_counts().index[0] for c in X], index=X.columns)\n",
    "        return self\n",
    "    def transform(self, X, y=None):\n",
    "        return X.fillna(self.most_frequent_)"
   ]
  },
  {
   "cell_type": "code",
   "execution_count": 22,
   "id": "906d26c8",
   "metadata": {},
   "outputs": [],
   "source": [
    "from sklearn.preprocessing import OneHotEncoder"
   ]
  },
  {
   "cell_type": "code",
   "execution_count": 27,
   "id": "e9a5a8b4",
   "metadata": {},
   "outputs": [],
   "source": [
    "cat_pipeline = Pipeline([\n",
    "        (\"select_cat\", DataFrameSelector([\"Pclass\", \"Sex\", \"Embarked\"])),\n",
    "        (\"imputer\", MostFrequentImputer()),\n",
    "        (\"cat_encoder\", OneHotEncoder(sparse=False))\n",
    "    ])"
   ]
  },
  {
   "cell_type": "code",
   "execution_count": 28,
   "id": "68616806",
   "metadata": {},
   "outputs": [
    {
     "data": {
      "text/plain": [
       "array([[0., 0., 1., ..., 0., 0., 1.],\n",
       "       [1., 0., 0., ..., 1., 0., 0.],\n",
       "       [0., 0., 1., ..., 0., 0., 1.],\n",
       "       ...,\n",
       "       [0., 0., 1., ..., 0., 0., 1.],\n",
       "       [1., 0., 0., ..., 1., 0., 0.],\n",
       "       [0., 0., 1., ..., 0., 1., 0.]])"
      ]
     },
     "execution_count": 28,
     "metadata": {},
     "output_type": "execute_result"
    }
   ],
   "source": [
    "cat_pipeline.fit_transform(train_data)"
   ]
  },
  {
   "cell_type": "code",
   "execution_count": 30,
   "id": "c10b58fd",
   "metadata": {},
   "outputs": [],
   "source": [
    "from sklearn.pipeline import FeatureUnion\n",
    "\n",
    "preprocess_pipeline = FeatureUnion(transformer_list=[\n",
    "    (\"num_pipeline\", num_pipeline),\n",
    "    (\"cat_pipeline\", cat_pipeline)\n",
    "])"
   ]
  },
  {
   "cell_type": "code",
   "execution_count": 31,
   "id": "de8886c4",
   "metadata": {},
   "outputs": [
    {
     "data": {
      "text/plain": [
       "array([[22.,  1.,  0., ...,  0.,  0.,  1.],\n",
       "       [38.,  1.,  0., ...,  1.,  0.,  0.],\n",
       "       [26.,  0.,  0., ...,  0.,  0.,  1.],\n",
       "       ...,\n",
       "       [28.,  1.,  2., ...,  0.,  0.,  1.],\n",
       "       [26.,  0.,  0., ...,  1.,  0.,  0.],\n",
       "       [32.,  0.,  0., ...,  0.,  1.,  0.]])"
      ]
     },
     "execution_count": 31,
     "metadata": {},
     "output_type": "execute_result"
    }
   ],
   "source": [
    "X_train = preprocess_pipeline.fit_transform(train_data)\n",
    "X_train"
   ]
  },
  {
   "cell_type": "code",
   "execution_count": 34,
   "id": "040f2a01",
   "metadata": {},
   "outputs": [],
   "source": [
    "y_train = train_data[\"Survived\"]"
   ]
  },
  {
   "cell_type": "code",
   "execution_count": 36,
   "id": "c592369e",
   "metadata": {},
   "outputs": [
    {
     "data": {
      "text/plain": [
       "SVC()"
      ]
     },
     "execution_count": 36,
     "metadata": {},
     "output_type": "execute_result"
    }
   ],
   "source": [
    "from sklearn.svm import SVC\n",
    "\n",
    "svm_clf = SVC()\n",
    "svm_clf.fit(X_train, y_train)"
   ]
  },
  {
   "cell_type": "code",
   "execution_count": 37,
   "id": "be28b936",
   "metadata": {},
   "outputs": [],
   "source": [
    "from sklearn.model_selection import cross_val_score\n",
    "\n",
    "svm_scores = cross_val_score(svm_clf, X_train, y_train, cv=10)"
   ]
  },
  {
   "cell_type": "code",
   "execution_count": 38,
   "id": "35c85708",
   "metadata": {},
   "outputs": [
    {
     "data": {
      "text/plain": [
       "array([0.62222222, 0.58426966, 0.68539326, 0.74157303, 0.69662921,\n",
       "       0.69662921, 0.68539326, 0.71910112, 0.70786517, 0.6741573 ])"
      ]
     },
     "execution_count": 38,
     "metadata": {},
     "output_type": "execute_result"
    }
   ],
   "source": [
    "svm_scores"
   ]
  },
  {
   "cell_type": "code",
   "execution_count": 39,
   "id": "bbe66881",
   "metadata": {},
   "outputs": [
    {
     "data": {
      "text/plain": [
       "0.6813233458177278"
      ]
     },
     "execution_count": 39,
     "metadata": {},
     "output_type": "execute_result"
    }
   ],
   "source": [
    "svm_scores.mean()"
   ]
  },
  {
   "cell_type": "code",
   "execution_count": 40,
   "id": "e6331d82",
   "metadata": {},
   "outputs": [
    {
     "data": {
      "text/plain": [
       "0.7329588014981274"
      ]
     },
     "execution_count": 40,
     "metadata": {},
     "output_type": "execute_result"
    }
   ],
   "source": [
    "# Tinh chỉnh siêu tham số gamma cho mô hình SVC\n",
    "svm_clf = SVC(gamma=\"auto\")\n",
    "svm_clf.fit(X_train, y_train)\n",
    "svm_scores = cross_val_score(svm_clf, X_train, y_train, cv=10)\n",
    "svm_scores.mean()"
   ]
  },
  {
   "cell_type": "code",
   "execution_count": 66,
   "id": "cc0ab698",
   "metadata": {},
   "outputs": [
    {
     "name": "stdout",
     "output_type": "stream",
     "text": [
      "Fitting 5 folds for each of 6 candidates, totalling 30 fits\n",
      "[CV 1/5] END ........gamma=scale, kernel=linear;, score=0.804 total time=   8.5s\n",
      "[CV 2/5] END ........gamma=scale, kernel=linear;, score=0.809 total time=   4.8s\n",
      "[CV 3/5] END ........gamma=scale, kernel=linear;, score=0.787 total time=   5.1s\n",
      "[CV 4/5] END ........gamma=scale, kernel=linear;, score=0.753 total time=  27.5s\n",
      "[CV 5/5] END ........gamma=scale, kernel=linear;, score=0.787 total time=  34.9s\n",
      "[CV 1/5] END ...........gamma=scale, kernel=rbf;, score=0.592 total time=   0.0s\n",
      "[CV 2/5] END ...........gamma=scale, kernel=rbf;, score=0.713 total time=   0.0s\n",
      "[CV 3/5] END ...........gamma=scale, kernel=rbf;, score=0.691 total time=   0.0s\n",
      "[CV 4/5] END ...........gamma=scale, kernel=rbf;, score=0.685 total time=   0.0s\n",
      "[CV 5/5] END ...........gamma=scale, kernel=rbf;, score=0.691 total time=   0.0s\n",
      "[CV 1/5] END .......gamma=scale, kernel=sigmoid;, score=0.587 total time=   0.0s\n",
      "[CV 2/5] END .......gamma=scale, kernel=sigmoid;, score=0.522 total time=   0.0s\n",
      "[CV 3/5] END .......gamma=scale, kernel=sigmoid;, score=0.607 total time=   0.0s\n",
      "[CV 4/5] END .......gamma=scale, kernel=sigmoid;, score=0.567 total time=   0.0s\n",
      "[CV 5/5] END .......gamma=scale, kernel=sigmoid;, score=0.607 total time=   0.0s\n",
      "[CV 1/5] END .........gamma=auto, kernel=linear;, score=0.804 total time=   8.4s\n",
      "[CV 2/5] END .........gamma=auto, kernel=linear;, score=0.809 total time=   4.5s\n",
      "[CV 3/5] END .........gamma=auto, kernel=linear;, score=0.787 total time=   5.1s\n",
      "[CV 4/5] END .........gamma=auto, kernel=linear;, score=0.753 total time=  26.7s\n",
      "[CV 5/5] END .........gamma=auto, kernel=linear;, score=0.787 total time=  35.0s\n",
      "[CV 1/5] END ............gamma=auto, kernel=rbf;, score=0.648 total time=   0.0s\n",
      "[CV 2/5] END ............gamma=auto, kernel=rbf;, score=0.713 total time=   0.0s\n",
      "[CV 3/5] END ............gamma=auto, kernel=rbf;, score=0.736 total time=   0.0s\n",
      "[CV 4/5] END ............gamma=auto, kernel=rbf;, score=0.730 total time=   0.0s\n",
      "[CV 5/5] END ............gamma=auto, kernel=rbf;, score=0.770 total time=   0.0s\n",
      "[CV 1/5] END ........gamma=auto, kernel=sigmoid;, score=0.615 total time=   0.0s\n",
      "[CV 2/5] END ........gamma=auto, kernel=sigmoid;, score=0.618 total time=   0.0s\n",
      "[CV 3/5] END ........gamma=auto, kernel=sigmoid;, score=0.618 total time=   0.0s\n",
      "[CV 4/5] END ........gamma=auto, kernel=sigmoid;, score=0.618 total time=   0.0s\n",
      "[CV 5/5] END ........gamma=auto, kernel=sigmoid;, score=0.612 total time=   0.0s\n"
     ]
    },
    {
     "data": {
      "text/plain": [
       "GridSearchCV(cv=5, estimator=SVC(gamma='auto'),\n",
       "             param_grid=[{'gamma': ['scale', 'auto'],\n",
       "                          'kernel': ['linear', 'rbf', 'sigmoid']}],\n",
       "             verbose=3)"
      ]
     },
     "execution_count": 66,
     "metadata": {},
     "output_type": "execute_result"
    }
   ],
   "source": [
    "from sklearn.model_selection import GridSearchCV\n",
    "# GridSearchCV for SVC\n",
    "svc_param_grid = [{\"kernel\":[\"linear\", \"rbf\", \"sigmoid\"],\n",
    "                   \"gamma\": [\"scale\", \"auto\"],\n",
    "                  }]\n",
    "\n",
    "svc_grid_search = GridSearchCV(svm_clf, svc_param_grid, cv=5, verbose=3)\n",
    "svc_grid_search.fit(X_train, y_train)"
   ]
  },
  {
   "cell_type": "code",
   "execution_count": 67,
   "id": "012cffd7",
   "metadata": {},
   "outputs": [
    {
     "data": {
      "text/plain": [
       "{'gamma': 'scale', 'kernel': 'linear'}"
      ]
     },
     "execution_count": 67,
     "metadata": {},
     "output_type": "execute_result"
    }
   ],
   "source": [
    "svc_grid_search.best_params_"
   ]
  },
  {
   "cell_type": "code",
   "execution_count": 69,
   "id": "417020f3",
   "metadata": {},
   "outputs": [
    {
     "data": {
      "text/plain": [
       "0.7878601468834348"
      ]
     },
     "execution_count": 69,
     "metadata": {},
     "output_type": "execute_result"
    }
   ],
   "source": [
    "svc_grid_search.best_score_"
   ]
  },
  {
   "cell_type": "code",
   "execution_count": 42,
   "id": "19a8c6c8",
   "metadata": {},
   "outputs": [
    {
     "data": {
      "text/plain": [
       "0.8126466916354558"
      ]
     },
     "execution_count": 42,
     "metadata": {},
     "output_type": "execute_result"
    }
   ],
   "source": [
    "from sklearn.ensemble import RandomForestClassifier\n",
    "\n",
    "forest_clf = RandomForestClassifier(random_state=42)\n",
    "forest_scores = cross_val_score(forest_clf, X_train, y_train, cv=10)\n",
    "forest_scores.mean()"
   ]
  },
  {
   "cell_type": "code",
   "execution_count": 57,
   "id": "e0d1618f",
   "metadata": {},
   "outputs": [
    {
     "name": "stdout",
     "output_type": "stream",
     "text": [
      "Fitting 5 folds for each of 16 candidates, totalling 80 fits\n",
      "[CV 1/5] END bootstrap=True, criterion=gini, n_estimators=10;, score=0.754 total time=   0.0s\n",
      "[CV 2/5] END bootstrap=True, criterion=gini, n_estimators=10;, score=0.787 total time=   0.0s\n",
      "[CV 3/5] END bootstrap=True, criterion=gini, n_estimators=10;, score=0.831 total time=   0.0s\n",
      "[CV 4/5] END bootstrap=True, criterion=gini, n_estimators=10;, score=0.798 total time=   0.0s\n",
      "[CV 5/5] END bootstrap=True, criterion=gini, n_estimators=10;, score=0.820 total time=   0.0s\n",
      "[CV 1/5] END bootstrap=True, criterion=gini, n_estimators=50;, score=0.760 total time=   0.0s\n",
      "[CV 2/5] END bootstrap=True, criterion=gini, n_estimators=50;, score=0.798 total time=   0.0s\n",
      "[CV 3/5] END bootstrap=True, criterion=gini, n_estimators=50;, score=0.854 total time=   0.0s\n",
      "[CV 4/5] END bootstrap=True, criterion=gini, n_estimators=50;, score=0.775 total time=   0.0s\n",
      "[CV 5/5] END bootstrap=True, criterion=gini, n_estimators=50;, score=0.831 total time=   0.0s\n",
      "[CV 1/5] END bootstrap=True, criterion=gini, n_estimators=75;, score=0.765 total time=   0.0s\n",
      "[CV 2/5] END bootstrap=True, criterion=gini, n_estimators=75;, score=0.798 total time=   0.0s\n",
      "[CV 3/5] END bootstrap=True, criterion=gini, n_estimators=75;, score=0.860 total time=   0.1s\n",
      "[CV 4/5] END bootstrap=True, criterion=gini, n_estimators=75;, score=0.775 total time=   0.0s\n",
      "[CV 5/5] END bootstrap=True, criterion=gini, n_estimators=75;, score=0.820 total time=   0.0s\n",
      "[CV 1/5] END bootstrap=True, criterion=gini, n_estimators=100;, score=0.771 total time=   0.1s\n",
      "[CV 2/5] END bootstrap=True, criterion=gini, n_estimators=100;, score=0.792 total time=   0.0s\n",
      "[CV 3/5] END bootstrap=True, criterion=gini, n_estimators=100;, score=0.860 total time=   0.1s\n",
      "[CV 4/5] END bootstrap=True, criterion=gini, n_estimators=100;, score=0.775 total time=   0.0s\n",
      "[CV 5/5] END bootstrap=True, criterion=gini, n_estimators=100;, score=0.820 total time=   0.1s\n",
      "[CV 1/5] END bootstrap=True, criterion=entropy, n_estimators=10;, score=0.765 total time=   0.0s\n",
      "[CV 2/5] END bootstrap=True, criterion=entropy, n_estimators=10;, score=0.764 total time=   0.0s\n",
      "[CV 3/5] END bootstrap=True, criterion=entropy, n_estimators=10;, score=0.843 total time=   0.0s\n",
      "[CV 4/5] END bootstrap=True, criterion=entropy, n_estimators=10;, score=0.798 total time=   0.0s\n",
      "[CV 5/5] END bootstrap=True, criterion=entropy, n_estimators=10;, score=0.809 total time=   0.0s\n",
      "[CV 1/5] END bootstrap=True, criterion=entropy, n_estimators=50;, score=0.765 total time=   0.0s\n",
      "[CV 2/5] END bootstrap=True, criterion=entropy, n_estimators=50;, score=0.803 total time=   0.0s\n",
      "[CV 3/5] END bootstrap=True, criterion=entropy, n_estimators=50;, score=0.848 total time=   0.0s\n",
      "[CV 4/5] END bootstrap=True, criterion=entropy, n_estimators=50;, score=0.787 total time=   0.0s\n",
      "[CV 5/5] END bootstrap=True, criterion=entropy, n_estimators=50;, score=0.826 total time=   0.0s\n",
      "[CV 1/5] END bootstrap=True, criterion=entropy, n_estimators=75;, score=0.777 total time=   0.0s\n",
      "[CV 2/5] END bootstrap=True, criterion=entropy, n_estimators=75;, score=0.809 total time=   0.0s\n",
      "[CV 3/5] END bootstrap=True, criterion=entropy, n_estimators=75;, score=0.843 total time=   0.1s\n",
      "[CV 4/5] END bootstrap=True, criterion=entropy, n_estimators=75;, score=0.787 total time=   0.0s\n",
      "[CV 5/5] END bootstrap=True, criterion=entropy, n_estimators=75;, score=0.809 total time=   0.0s\n",
      "[CV 1/5] END bootstrap=True, criterion=entropy, n_estimators=100;, score=0.777 total time=   0.1s\n",
      "[CV 2/5] END bootstrap=True, criterion=entropy, n_estimators=100;, score=0.809 total time=   0.1s\n",
      "[CV 3/5] END bootstrap=True, criterion=entropy, n_estimators=100;, score=0.837 total time=   0.1s\n",
      "[CV 4/5] END bootstrap=True, criterion=entropy, n_estimators=100;, score=0.781 total time=   0.1s\n",
      "[CV 5/5] END bootstrap=True, criterion=entropy, n_estimators=100;, score=0.820 total time=   0.1s\n",
      "[CV 1/5] END bootstrap=False, criterion=gini, n_estimators=10;, score=0.788 total time=   0.0s\n",
      "[CV 2/5] END bootstrap=False, criterion=gini, n_estimators=10;, score=0.803 total time=   0.0s\n",
      "[CV 3/5] END bootstrap=False, criterion=gini, n_estimators=10;, score=0.820 total time=   0.0s\n",
      "[CV 4/5] END bootstrap=False, criterion=gini, n_estimators=10;, score=0.792 total time=   0.0s\n",
      "[CV 5/5] END bootstrap=False, criterion=gini, n_estimators=10;, score=0.809 total time=   0.0s\n",
      "[CV 1/5] END bootstrap=False, criterion=gini, n_estimators=50;, score=0.782 total time=   0.0s\n",
      "[CV 2/5] END bootstrap=False, criterion=gini, n_estimators=50;, score=0.781 total time=   0.0s\n",
      "[CV 3/5] END bootstrap=False, criterion=gini, n_estimators=50;, score=0.831 total time=   0.0s\n",
      "[CV 4/5] END bootstrap=False, criterion=gini, n_estimators=50;, score=0.770 total time=   0.0s\n",
      "[CV 5/5] END bootstrap=False, criterion=gini, n_estimators=50;, score=0.820 total time=   0.0s\n",
      "[CV 1/5] END bootstrap=False, criterion=gini, n_estimators=75;, score=0.793 total time=   0.0s\n",
      "[CV 2/5] END bootstrap=False, criterion=gini, n_estimators=75;, score=0.787 total time=   0.0s\n",
      "[CV 3/5] END bootstrap=False, criterion=gini, n_estimators=75;, score=0.837 total time=   0.0s\n",
      "[CV 4/5] END bootstrap=False, criterion=gini, n_estimators=75;, score=0.775 total time=   0.0s\n",
      "[CV 5/5] END bootstrap=False, criterion=gini, n_estimators=75;, score=0.826 total time=   0.0s\n",
      "[CV 1/5] END bootstrap=False, criterion=gini, n_estimators=100;, score=0.788 total time=   0.0s\n",
      "[CV 2/5] END bootstrap=False, criterion=gini, n_estimators=100;, score=0.781 total time=   0.0s\n",
      "[CV 3/5] END bootstrap=False, criterion=gini, n_estimators=100;, score=0.843 total time=   0.0s\n",
      "[CV 4/5] END bootstrap=False, criterion=gini, n_estimators=100;, score=0.775 total time=   0.0s\n",
      "[CV 5/5] END bootstrap=False, criterion=gini, n_estimators=100;, score=0.826 total time=   0.0s\n",
      "[CV 1/5] END bootstrap=False, criterion=entropy, n_estimators=10;, score=0.777 total time=   0.0s\n",
      "[CV 2/5] END bootstrap=False, criterion=entropy, n_estimators=10;, score=0.770 total time=   0.0s\n",
      "[CV 3/5] END bootstrap=False, criterion=entropy, n_estimators=10;, score=0.843 total time=   0.0s\n",
      "[CV 4/5] END bootstrap=False, criterion=entropy, n_estimators=10;, score=0.758 total time=   0.0s\n",
      "[CV 5/5] END bootstrap=False, criterion=entropy, n_estimators=10;, score=0.803 total time=   0.0s\n",
      "[CV 1/5] END bootstrap=False, criterion=entropy, n_estimators=50;, score=0.788 total time=   0.0s\n",
      "[CV 2/5] END bootstrap=False, criterion=entropy, n_estimators=50;, score=0.781 total time=   0.0s\n",
      "[CV 3/5] END bootstrap=False, criterion=entropy, n_estimators=50;, score=0.843 total time=   0.0s\n",
      "[CV 4/5] END bootstrap=False, criterion=entropy, n_estimators=50;, score=0.764 total time=   0.0s\n",
      "[CV 5/5] END bootstrap=False, criterion=entropy, n_estimators=50;, score=0.809 total time=   0.0s\n",
      "[CV 1/5] END bootstrap=False, criterion=entropy, n_estimators=75;, score=0.771 total time=   0.1s\n",
      "[CV 2/5] END bootstrap=False, criterion=entropy, n_estimators=75;, score=0.781 total time=   0.1s\n",
      "[CV 3/5] END bootstrap=False, criterion=entropy, n_estimators=75;, score=0.843 total time=   0.0s\n",
      "[CV 4/5] END bootstrap=False, criterion=entropy, n_estimators=75;, score=0.781 total time=   0.0s\n",
      "[CV 5/5] END bootstrap=False, criterion=entropy, n_estimators=75;, score=0.815 total time=   0.0s\n",
      "[CV 1/5] END bootstrap=False, criterion=entropy, n_estimators=100;, score=0.788 total time=   0.0s\n",
      "[CV 2/5] END bootstrap=False, criterion=entropy, n_estimators=100;, score=0.775 total time=   0.1s\n",
      "[CV 3/5] END bootstrap=False, criterion=entropy, n_estimators=100;, score=0.843 total time=   0.0s\n",
      "[CV 4/5] END bootstrap=False, criterion=entropy, n_estimators=100;, score=0.775 total time=   0.1s\n",
      "[CV 5/5] END bootstrap=False, criterion=entropy, n_estimators=100;, score=0.820 total time=   0.1s\n"
     ]
    },
    {
     "data": {
      "text/plain": [
       "GridSearchCV(cv=5, estimator=RandomForestClassifier(random_state=42),\n",
       "             param_grid=[{'bootstrap': [True, False],\n",
       "                          'criterion': ['gini', 'entropy'],\n",
       "                          'n_estimators': [10, 50, 75, 100]}],\n",
       "             verbose=3)"
      ]
     },
     "execution_count": 57,
     "metadata": {},
     "output_type": "execute_result"
    }
   ],
   "source": [
    "# GridSearchCV for RandomForestClassifier\n",
    "forest_clf_param_grid = [{\"n_estimators\":[10, 50, 75, 100], \n",
    "               \"criterion\": [\"gini\", \"entropy\"], \n",
    "               \"bootstrap\":[True, False]\n",
    "              }]\n",
    "\n",
    "forest_clf_grid_search = GridSearchCV(forest_clf, forest_clf_param_grid, cv=5, verbose=3)\n",
    "forest_clf_grid_search.fit(X_train, y_train)"
   ]
  },
  {
   "cell_type": "code",
   "execution_count": 58,
   "id": "82020ce6",
   "metadata": {},
   "outputs": [
    {
     "data": {
      "text/plain": [
       "{'bootstrap': True, 'criterion': 'entropy', 'n_estimators': 50}"
      ]
     },
     "execution_count": 58,
     "metadata": {},
     "output_type": "execute_result"
    }
   ],
   "source": [
    "forest_clf_grid_search.best_params_"
   ]
  },
  {
   "cell_type": "code",
   "execution_count": 59,
   "id": "21422536",
   "metadata": {},
   "outputs": [
    {
     "data": {
      "text/plain": [
       "0.805881614462369"
      ]
     },
     "execution_count": 59,
     "metadata": {},
     "output_type": "execute_result"
    }
   ],
   "source": [
    "forest_clf_grid_search.best_score_"
   ]
  },
  {
   "cell_type": "code",
   "execution_count": 71,
   "id": "43a5f75f",
   "metadata": {},
   "outputs": [
    {
     "data": {
      "text/plain": [
       "0.6936704119850188"
      ]
     },
     "execution_count": 71,
     "metadata": {},
     "output_type": "execute_result"
    }
   ],
   "source": [
    "from sklearn.linear_model import SGDClassifier\n",
    "\n",
    "sgd_clf = SGDClassifier(random_state=42)\n",
    "sgd_clf_scores = cross_val_score(sgd_clf, X_train, y_train, cv=10)\n",
    "sgd_clf_scores.mean()"
   ]
  },
  {
   "cell_type": "code",
   "execution_count": 72,
   "id": "854737f6",
   "metadata": {},
   "outputs": [
    {
     "name": "stdout",
     "output_type": "stream",
     "text": [
      "Fitting 5 folds for each of 144 candidates, totalling 720 fits\n",
      "[CV 1/5] END alpha=1e-05, epsilon=0.001, fit_intercept=True, learning_rate=constant, random_state=42, shuffle=True;, score=nan total time=   0.0s\n",
      "[CV 2/5] END alpha=1e-05, epsilon=0.001, fit_intercept=True, learning_rate=constant, random_state=42, shuffle=True;, score=nan total time=   0.0s\n",
      "[CV 3/5] END alpha=1e-05, epsilon=0.001, fit_intercept=True, learning_rate=constant, random_state=42, shuffle=True;, score=nan total time=   0.0s\n",
      "[CV 4/5] END alpha=1e-05, epsilon=0.001, fit_intercept=True, learning_rate=constant, random_state=42, shuffle=True;, score=nan total time=   0.0s\n",
      "[CV 5/5] END alpha=1e-05, epsilon=0.001, fit_intercept=True, learning_rate=constant, random_state=42, shuffle=True;, score=nan total time=   0.0s\n",
      "[CV 1/5] END alpha=1e-05, epsilon=0.001, fit_intercept=True, learning_rate=constant, random_state=42, shuffle=False;, score=nan total time=   0.0s\n",
      "[CV 2/5] END alpha=1e-05, epsilon=0.001, fit_intercept=True, learning_rate=constant, random_state=42, shuffle=False;, score=nan total time=   0.0s\n",
      "[CV 3/5] END alpha=1e-05, epsilon=0.001, fit_intercept=True, learning_rate=constant, random_state=42, shuffle=False;, score=nan total time=   0.0s\n",
      "[CV 4/5] END alpha=1e-05, epsilon=0.001, fit_intercept=True, learning_rate=constant, random_state=42, shuffle=False;, score=nan total time=   0.0s\n",
      "[CV 5/5] END alpha=1e-05, epsilon=0.001, fit_intercept=True, learning_rate=constant, random_state=42, shuffle=False;, score=nan total time=   0.0s\n",
      "[CV 1/5] END alpha=1e-05, epsilon=0.001, fit_intercept=True, learning_rate=optimal, random_state=42, shuffle=True;, score=0.793 total time=   0.0s\n",
      "[CV 2/5] END alpha=1e-05, epsilon=0.001, fit_intercept=True, learning_rate=optimal, random_state=42, shuffle=True;, score=0.719 total time=   0.0s\n",
      "[CV 3/5] END alpha=1e-05, epsilon=0.001, fit_intercept=True, learning_rate=optimal, random_state=42, shuffle=True;, score=0.758 total time=   0.0s\n",
      "[CV 4/5] END alpha=1e-05, epsilon=0.001, fit_intercept=True, learning_rate=optimal, random_state=42, shuffle=True;, score=0.730 total time=   0.0s\n",
      "[CV 5/5] END alpha=1e-05, epsilon=0.001, fit_intercept=True, learning_rate=optimal, random_state=42, shuffle=True;, score=0.573 total time=   0.0s\n",
      "[CV 1/5] END alpha=1e-05, epsilon=0.001, fit_intercept=True, learning_rate=optimal, random_state=42, shuffle=False;, score=0.771 total time=   0.0s\n",
      "[CV 2/5] END alpha=1e-05, epsilon=0.001, fit_intercept=True, learning_rate=optimal, random_state=42, shuffle=False;, score=0.781 total time=   0.0s\n",
      "[CV 3/5] END alpha=1e-05, epsilon=0.001, fit_intercept=True, learning_rate=optimal, random_state=42, shuffle=False;, score=0.770 total time=   0.0s\n",
      "[CV 4/5] END alpha=1e-05, epsilon=0.001, fit_intercept=True, learning_rate=optimal, random_state=42, shuffle=False;, score=0.753 total time=   0.0s\n",
      "[CV 5/5] END alpha=1e-05, epsilon=0.001, fit_intercept=True, learning_rate=optimal, random_state=42, shuffle=False;, score=0.770 total time=   0.0s\n",
      "[CV 1/5] END alpha=1e-05, epsilon=0.001, fit_intercept=True, learning_rate=invscaling, random_state=42, shuffle=True;, score=nan total time=   0.0s\n",
      "[CV 2/5] END alpha=1e-05, epsilon=0.001, fit_intercept=True, learning_rate=invscaling, random_state=42, shuffle=True;, score=nan total time=   0.0s\n",
      "[CV 3/5] END alpha=1e-05, epsilon=0.001, fit_intercept=True, learning_rate=invscaling, random_state=42, shuffle=True;, score=nan total time=   0.0s\n",
      "[CV 4/5] END alpha=1e-05, epsilon=0.001, fit_intercept=True, learning_rate=invscaling, random_state=42, shuffle=True;, score=nan total time=   0.0s\n",
      "[CV 5/5] END alpha=1e-05, epsilon=0.001, fit_intercept=True, learning_rate=invscaling, random_state=42, shuffle=True;, score=nan total time=   0.0s\n",
      "[CV 1/5] END alpha=1e-05, epsilon=0.001, fit_intercept=True, learning_rate=invscaling, random_state=42, shuffle=False;, score=nan total time=   0.0s\n",
      "[CV 2/5] END alpha=1e-05, epsilon=0.001, fit_intercept=True, learning_rate=invscaling, random_state=42, shuffle=False;, score=nan total time=   0.0s\n",
      "[CV 3/5] END alpha=1e-05, epsilon=0.001, fit_intercept=True, learning_rate=invscaling, random_state=42, shuffle=False;, score=nan total time=   0.0s\n",
      "[CV 4/5] END alpha=1e-05, epsilon=0.001, fit_intercept=True, learning_rate=invscaling, random_state=42, shuffle=False;, score=nan total time=   0.0s\n",
      "[CV 5/5] END alpha=1e-05, epsilon=0.001, fit_intercept=True, learning_rate=invscaling, random_state=42, shuffle=False;, score=nan total time=   0.0s\n",
      "[CV 1/5] END alpha=1e-05, epsilon=0.001, fit_intercept=True, learning_rate=adaptive, random_state=42, shuffle=True;, score=nan total time=   0.0s\n",
      "[CV 2/5] END alpha=1e-05, epsilon=0.001, fit_intercept=True, learning_rate=adaptive, random_state=42, shuffle=True;, score=nan total time=   0.0s\n",
      "[CV 3/5] END alpha=1e-05, epsilon=0.001, fit_intercept=True, learning_rate=adaptive, random_state=42, shuffle=True;, score=nan total time=   0.0s\n",
      "[CV 4/5] END alpha=1e-05, epsilon=0.001, fit_intercept=True, learning_rate=adaptive, random_state=42, shuffle=True;, score=nan total time=   0.0s\n",
      "[CV 5/5] END alpha=1e-05, epsilon=0.001, fit_intercept=True, learning_rate=adaptive, random_state=42, shuffle=True;, score=nan total time=   0.0s\n",
      "[CV 1/5] END alpha=1e-05, epsilon=0.001, fit_intercept=True, learning_rate=adaptive, random_state=42, shuffle=False;, score=nan total time=   0.0s\n",
      "[CV 2/5] END alpha=1e-05, epsilon=0.001, fit_intercept=True, learning_rate=adaptive, random_state=42, shuffle=False;, score=nan total time=   0.0s\n",
      "[CV 3/5] END alpha=1e-05, epsilon=0.001, fit_intercept=True, learning_rate=adaptive, random_state=42, shuffle=False;, score=nan total time=   0.0s\n",
      "[CV 4/5] END alpha=1e-05, epsilon=0.001, fit_intercept=True, learning_rate=adaptive, random_state=42, shuffle=False;, score=nan total time=   0.0s\n",
      "[CV 5/5] END alpha=1e-05, epsilon=0.001, fit_intercept=True, learning_rate=adaptive, random_state=42, shuffle=False;, score=nan total time=   0.0s\n",
      "[CV 1/5] END alpha=1e-05, epsilon=0.001, fit_intercept=False, learning_rate=constant, random_state=42, shuffle=True;, score=nan total time=   0.0s\n",
      "[CV 2/5] END alpha=1e-05, epsilon=0.001, fit_intercept=False, learning_rate=constant, random_state=42, shuffle=True;, score=nan total time=   0.0s\n",
      "[CV 3/5] END alpha=1e-05, epsilon=0.001, fit_intercept=False, learning_rate=constant, random_state=42, shuffle=True;, score=nan total time=   0.0s\n",
      "[CV 4/5] END alpha=1e-05, epsilon=0.001, fit_intercept=False, learning_rate=constant, random_state=42, shuffle=True;, score=nan total time=   0.0s\n",
      "[CV 5/5] END alpha=1e-05, epsilon=0.001, fit_intercept=False, learning_rate=constant, random_state=42, shuffle=True;, score=nan total time=   0.0s\n",
      "[CV 1/5] END alpha=1e-05, epsilon=0.001, fit_intercept=False, learning_rate=constant, random_state=42, shuffle=False;, score=nan total time=   0.0s\n",
      "[CV 2/5] END alpha=1e-05, epsilon=0.001, fit_intercept=False, learning_rate=constant, random_state=42, shuffle=False;, score=nan total time=   0.0s\n",
      "[CV 3/5] END alpha=1e-05, epsilon=0.001, fit_intercept=False, learning_rate=constant, random_state=42, shuffle=False;, score=nan total time=   0.0s\n",
      "[CV 4/5] END alpha=1e-05, epsilon=0.001, fit_intercept=False, learning_rate=constant, random_state=42, shuffle=False;, score=nan total time=   0.0s\n",
      "[CV 5/5] END alpha=1e-05, epsilon=0.001, fit_intercept=False, learning_rate=constant, random_state=42, shuffle=False;, score=nan total time=   0.0s\n",
      "[CV 1/5] END alpha=1e-05, epsilon=0.001, fit_intercept=False, learning_rate=optimal, random_state=42, shuffle=True;, score=0.765 total time=   0.0s\n",
      "[CV 2/5] END alpha=1e-05, epsilon=0.001, fit_intercept=False, learning_rate=optimal, random_state=42, shuffle=True;, score=0.646 total time=   0.0s\n",
      "[CV 3/5] END alpha=1e-05, epsilon=0.001, fit_intercept=False, learning_rate=optimal, random_state=42, shuffle=True;, score=0.736 total time=   0.0s\n",
      "[CV 4/5] END alpha=1e-05, epsilon=0.001, fit_intercept=False, learning_rate=optimal, random_state=42, shuffle=True;, score=0.742 total time=   0.0s\n",
      "[CV 5/5] END alpha=1e-05, epsilon=0.001, fit_intercept=False, learning_rate=optimal, random_state=42, shuffle=True;, score=0.764 total time=   0.0s\n",
      "[CV 1/5] END alpha=1e-05, epsilon=0.001, fit_intercept=False, learning_rate=optimal, random_state=42, shuffle=False;, score=0.765 total time=   0.0s\n",
      "[CV 2/5] END alpha=1e-05, epsilon=0.001, fit_intercept=False, learning_rate=optimal, random_state=42, shuffle=False;, score=0.781 total time=   0.0s\n",
      "[CV 3/5] END alpha=1e-05, epsilon=0.001, fit_intercept=False, learning_rate=optimal, random_state=42, shuffle=False;, score=0.753 total time=   0.0s\n",
      "[CV 4/5] END alpha=1e-05, epsilon=0.001, fit_intercept=False, learning_rate=optimal, random_state=42, shuffle=False;, score=0.770 total time=   0.0s\n"
     ]
    },
    {
     "name": "stdout",
     "output_type": "stream",
     "text": [
      "[CV 5/5] END alpha=1e-05, epsilon=0.001, fit_intercept=False, learning_rate=optimal, random_state=42, shuffle=False;, score=0.742 total time=   0.0s\n",
      "[CV 1/5] END alpha=1e-05, epsilon=0.001, fit_intercept=False, learning_rate=invscaling, random_state=42, shuffle=True;, score=nan total time=   0.0s\n",
      "[CV 2/5] END alpha=1e-05, epsilon=0.001, fit_intercept=False, learning_rate=invscaling, random_state=42, shuffle=True;, score=nan total time=   0.0s\n",
      "[CV 3/5] END alpha=1e-05, epsilon=0.001, fit_intercept=False, learning_rate=invscaling, random_state=42, shuffle=True;, score=nan total time=   0.0s\n",
      "[CV 4/5] END alpha=1e-05, epsilon=0.001, fit_intercept=False, learning_rate=invscaling, random_state=42, shuffle=True;, score=nan total time=   0.0s\n",
      "[CV 5/5] END alpha=1e-05, epsilon=0.001, fit_intercept=False, learning_rate=invscaling, random_state=42, shuffle=True;, score=nan total time=   0.0s\n",
      "[CV 1/5] END alpha=1e-05, epsilon=0.001, fit_intercept=False, learning_rate=invscaling, random_state=42, shuffle=False;, score=nan total time=   0.0s\n",
      "[CV 2/5] END alpha=1e-05, epsilon=0.001, fit_intercept=False, learning_rate=invscaling, random_state=42, shuffle=False;, score=nan total time=   0.0s\n",
      "[CV 3/5] END alpha=1e-05, epsilon=0.001, fit_intercept=False, learning_rate=invscaling, random_state=42, shuffle=False;, score=nan total time=   0.0s\n",
      "[CV 4/5] END alpha=1e-05, epsilon=0.001, fit_intercept=False, learning_rate=invscaling, random_state=42, shuffle=False;, score=nan total time=   0.0s\n",
      "[CV 5/5] END alpha=1e-05, epsilon=0.001, fit_intercept=False, learning_rate=invscaling, random_state=42, shuffle=False;, score=nan total time=   0.0s\n",
      "[CV 1/5] END alpha=1e-05, epsilon=0.001, fit_intercept=False, learning_rate=adaptive, random_state=42, shuffle=True;, score=nan total time=   0.0s\n",
      "[CV 2/5] END alpha=1e-05, epsilon=0.001, fit_intercept=False, learning_rate=adaptive, random_state=42, shuffle=True;, score=nan total time=   0.0s\n",
      "[CV 3/5] END alpha=1e-05, epsilon=0.001, fit_intercept=False, learning_rate=adaptive, random_state=42, shuffle=True;, score=nan total time=   0.0s\n",
      "[CV 4/5] END alpha=1e-05, epsilon=0.001, fit_intercept=False, learning_rate=adaptive, random_state=42, shuffle=True;, score=nan total time=   0.0s\n",
      "[CV 5/5] END alpha=1e-05, epsilon=0.001, fit_intercept=False, learning_rate=adaptive, random_state=42, shuffle=True;, score=nan total time=   0.0s\n",
      "[CV 1/5] END alpha=1e-05, epsilon=0.001, fit_intercept=False, learning_rate=adaptive, random_state=42, shuffle=False;, score=nan total time=   0.0s\n",
      "[CV 2/5] END alpha=1e-05, epsilon=0.001, fit_intercept=False, learning_rate=adaptive, random_state=42, shuffle=False;, score=nan total time=   0.0s\n",
      "[CV 3/5] END alpha=1e-05, epsilon=0.001, fit_intercept=False, learning_rate=adaptive, random_state=42, shuffle=False;, score=nan total time=   0.0s\n",
      "[CV 4/5] END alpha=1e-05, epsilon=0.001, fit_intercept=False, learning_rate=adaptive, random_state=42, shuffle=False;, score=nan total time=   0.0s\n",
      "[CV 5/5] END alpha=1e-05, epsilon=0.001, fit_intercept=False, learning_rate=adaptive, random_state=42, shuffle=False;, score=nan total time=   0.0s\n",
      "[CV 1/5] END alpha=1e-05, epsilon=0.01, fit_intercept=True, learning_rate=constant, random_state=42, shuffle=True;, score=nan total time=   0.0s\n",
      "[CV 2/5] END alpha=1e-05, epsilon=0.01, fit_intercept=True, learning_rate=constant, random_state=42, shuffle=True;, score=nan total time=   0.0s\n",
      "[CV 3/5] END alpha=1e-05, epsilon=0.01, fit_intercept=True, learning_rate=constant, random_state=42, shuffle=True;, score=nan total time=   0.0s\n",
      "[CV 4/5] END alpha=1e-05, epsilon=0.01, fit_intercept=True, learning_rate=constant, random_state=42, shuffle=True;, score=nan total time=   0.0s\n",
      "[CV 5/5] END alpha=1e-05, epsilon=0.01, fit_intercept=True, learning_rate=constant, random_state=42, shuffle=True;, score=nan total time=   0.0s\n",
      "[CV 1/5] END alpha=1e-05, epsilon=0.01, fit_intercept=True, learning_rate=constant, random_state=42, shuffle=False;, score=nan total time=   0.0s\n",
      "[CV 2/5] END alpha=1e-05, epsilon=0.01, fit_intercept=True, learning_rate=constant, random_state=42, shuffle=False;, score=nan total time=   0.0s\n",
      "[CV 3/5] END alpha=1e-05, epsilon=0.01, fit_intercept=True, learning_rate=constant, random_state=42, shuffle=False;, score=nan total time=   0.0s\n",
      "[CV 4/5] END alpha=1e-05, epsilon=0.01, fit_intercept=True, learning_rate=constant, random_state=42, shuffle=False;, score=nan total time=   0.0s\n",
      "[CV 5/5] END alpha=1e-05, epsilon=0.01, fit_intercept=True, learning_rate=constant, random_state=42, shuffle=False;, score=nan total time=   0.0s\n",
      "[CV 1/5] END alpha=1e-05, epsilon=0.01, fit_intercept=True, learning_rate=optimal, random_state=42, shuffle=True;, score=0.793 total time=   0.0s\n",
      "[CV 2/5] END alpha=1e-05, epsilon=0.01, fit_intercept=True, learning_rate=optimal, random_state=42, shuffle=True;, score=0.719 total time=   0.0s\n",
      "[CV 3/5] END alpha=1e-05, epsilon=0.01, fit_intercept=True, learning_rate=optimal, random_state=42, shuffle=True;, score=0.758 total time=   0.0s\n",
      "[CV 4/5] END alpha=1e-05, epsilon=0.01, fit_intercept=True, learning_rate=optimal, random_state=42, shuffle=True;, score=0.730 total time=   0.0s\n",
      "[CV 5/5] END alpha=1e-05, epsilon=0.01, fit_intercept=True, learning_rate=optimal, random_state=42, shuffle=True;, score=0.573 total time=   0.0s\n",
      "[CV 1/5] END alpha=1e-05, epsilon=0.01, fit_intercept=True, learning_rate=optimal, random_state=42, shuffle=False;, score=0.771 total time=   0.0s\n",
      "[CV 2/5] END alpha=1e-05, epsilon=0.01, fit_intercept=True, learning_rate=optimal, random_state=42, shuffle=False;, score=0.781 total time=   0.0s\n",
      "[CV 3/5] END alpha=1e-05, epsilon=0.01, fit_intercept=True, learning_rate=optimal, random_state=42, shuffle=False;, score=0.770 total time=   0.0s\n",
      "[CV 4/5] END alpha=1e-05, epsilon=0.01, fit_intercept=True, learning_rate=optimal, random_state=42, shuffle=False;, score=0.753 total time=   0.0s\n",
      "[CV 5/5] END alpha=1e-05, epsilon=0.01, fit_intercept=True, learning_rate=optimal, random_state=42, shuffle=False;, score=0.770 total time=   0.0s\n",
      "[CV 1/5] END alpha=1e-05, epsilon=0.01, fit_intercept=True, learning_rate=invscaling, random_state=42, shuffle=True;, score=nan total time=   0.0s\n",
      "[CV 2/5] END alpha=1e-05, epsilon=0.01, fit_intercept=True, learning_rate=invscaling, random_state=42, shuffle=True;, score=nan total time=   0.0s\n",
      "[CV 3/5] END alpha=1e-05, epsilon=0.01, fit_intercept=True, learning_rate=invscaling, random_state=42, shuffle=True;, score=nan total time=   0.0s\n",
      "[CV 4/5] END alpha=1e-05, epsilon=0.01, fit_intercept=True, learning_rate=invscaling, random_state=42, shuffle=True;, score=nan total time=   0.0s\n",
      "[CV 5/5] END alpha=1e-05, epsilon=0.01, fit_intercept=True, learning_rate=invscaling, random_state=42, shuffle=True;, score=nan total time=   0.0s\n",
      "[CV 1/5] END alpha=1e-05, epsilon=0.01, fit_intercept=True, learning_rate=invscaling, random_state=42, shuffle=False;, score=nan total time=   0.0s\n",
      "[CV 2/5] END alpha=1e-05, epsilon=0.01, fit_intercept=True, learning_rate=invscaling, random_state=42, shuffle=False;, score=nan total time=   0.0s\n",
      "[CV 3/5] END alpha=1e-05, epsilon=0.01, fit_intercept=True, learning_rate=invscaling, random_state=42, shuffle=False;, score=nan total time=   0.0s\n",
      "[CV 4/5] END alpha=1e-05, epsilon=0.01, fit_intercept=True, learning_rate=invscaling, random_state=42, shuffle=False;, score=nan total time=   0.0s\n",
      "[CV 5/5] END alpha=1e-05, epsilon=0.01, fit_intercept=True, learning_rate=invscaling, random_state=42, shuffle=False;, score=nan total time=   0.0s\n",
      "[CV 1/5] END alpha=1e-05, epsilon=0.01, fit_intercept=True, learning_rate=adaptive, random_state=42, shuffle=True;, score=nan total time=   0.0s\n",
      "[CV 2/5] END alpha=1e-05, epsilon=0.01, fit_intercept=True, learning_rate=adaptive, random_state=42, shuffle=True;, score=nan total time=   0.0s\n",
      "[CV 3/5] END alpha=1e-05, epsilon=0.01, fit_intercept=True, learning_rate=adaptive, random_state=42, shuffle=True;, score=nan total time=   0.0s\n",
      "[CV 4/5] END alpha=1e-05, epsilon=0.01, fit_intercept=True, learning_rate=adaptive, random_state=42, shuffle=True;, score=nan total time=   0.0s\n",
      "[CV 5/5] END alpha=1e-05, epsilon=0.01, fit_intercept=True, learning_rate=adaptive, random_state=42, shuffle=True;, score=nan total time=   0.0s\n",
      "[CV 1/5] END alpha=1e-05, epsilon=0.01, fit_intercept=True, learning_rate=adaptive, random_state=42, shuffle=False;, score=nan total time=   0.0s\n",
      "[CV 2/5] END alpha=1e-05, epsilon=0.01, fit_intercept=True, learning_rate=adaptive, random_state=42, shuffle=False;, score=nan total time=   0.0s\n",
      "[CV 3/5] END alpha=1e-05, epsilon=0.01, fit_intercept=True, learning_rate=adaptive, random_state=42, shuffle=False;, score=nan total time=   0.0s\n",
      "[CV 4/5] END alpha=1e-05, epsilon=0.01, fit_intercept=True, learning_rate=adaptive, random_state=42, shuffle=False;, score=nan total time=   0.0s\n",
      "[CV 5/5] END alpha=1e-05, epsilon=0.01, fit_intercept=True, learning_rate=adaptive, random_state=42, shuffle=False;, score=nan total time=   0.0s\n",
      "[CV 1/5] END alpha=1e-05, epsilon=0.01, fit_intercept=False, learning_rate=constant, random_state=42, shuffle=True;, score=nan total time=   0.0s\n",
      "[CV 2/5] END alpha=1e-05, epsilon=0.01, fit_intercept=False, learning_rate=constant, random_state=42, shuffle=True;, score=nan total time=   0.0s\n",
      "[CV 3/5] END alpha=1e-05, epsilon=0.01, fit_intercept=False, learning_rate=constant, random_state=42, shuffle=True;, score=nan total time=   0.0s\n",
      "[CV 4/5] END alpha=1e-05, epsilon=0.01, fit_intercept=False, learning_rate=constant, random_state=42, shuffle=True;, score=nan total time=   0.0s\n",
      "[CV 5/5] END alpha=1e-05, epsilon=0.01, fit_intercept=False, learning_rate=constant, random_state=42, shuffle=True;, score=nan total time=   0.0s\n",
      "[CV 1/5] END alpha=1e-05, epsilon=0.01, fit_intercept=False, learning_rate=constant, random_state=42, shuffle=False;, score=nan total time=   0.0s\n",
      "[CV 2/5] END alpha=1e-05, epsilon=0.01, fit_intercept=False, learning_rate=constant, random_state=42, shuffle=False;, score=nan total time=   0.0s\n",
      "[CV 3/5] END alpha=1e-05, epsilon=0.01, fit_intercept=False, learning_rate=constant, random_state=42, shuffle=False;, score=nan total time=   0.0s\n",
      "[CV 4/5] END alpha=1e-05, epsilon=0.01, fit_intercept=False, learning_rate=constant, random_state=42, shuffle=False;, score=nan total time=   0.0s\n",
      "[CV 5/5] END alpha=1e-05, epsilon=0.01, fit_intercept=False, learning_rate=constant, random_state=42, shuffle=False;, score=nan total time=   0.0s\n",
      "[CV 1/5] END alpha=1e-05, epsilon=0.01, fit_intercept=False, learning_rate=optimal, random_state=42, shuffle=True;, score=0.765 total time=   0.0s\n"
     ]
    },
    {
     "name": "stdout",
     "output_type": "stream",
     "text": [
      "[CV 2/5] END alpha=1e-05, epsilon=0.01, fit_intercept=False, learning_rate=optimal, random_state=42, shuffle=True;, score=0.646 total time=   0.0s\n",
      "[CV 3/5] END alpha=1e-05, epsilon=0.01, fit_intercept=False, learning_rate=optimal, random_state=42, shuffle=True;, score=0.736 total time=   0.0s\n",
      "[CV 4/5] END alpha=1e-05, epsilon=0.01, fit_intercept=False, learning_rate=optimal, random_state=42, shuffle=True;, score=0.742 total time=   0.0s\n",
      "[CV 5/5] END alpha=1e-05, epsilon=0.01, fit_intercept=False, learning_rate=optimal, random_state=42, shuffle=True;, score=0.764 total time=   0.0s\n",
      "[CV 1/5] END alpha=1e-05, epsilon=0.01, fit_intercept=False, learning_rate=optimal, random_state=42, shuffle=False;, score=0.765 total time=   0.0s\n",
      "[CV 2/5] END alpha=1e-05, epsilon=0.01, fit_intercept=False, learning_rate=optimal, random_state=42, shuffle=False;, score=0.781 total time=   0.0s\n",
      "[CV 3/5] END alpha=1e-05, epsilon=0.01, fit_intercept=False, learning_rate=optimal, random_state=42, shuffle=False;, score=0.753 total time=   0.0s\n",
      "[CV 4/5] END alpha=1e-05, epsilon=0.01, fit_intercept=False, learning_rate=optimal, random_state=42, shuffle=False;, score=0.770 total time=   0.0s\n",
      "[CV 5/5] END alpha=1e-05, epsilon=0.01, fit_intercept=False, learning_rate=optimal, random_state=42, shuffle=False;, score=0.742 total time=   0.0s\n",
      "[CV 1/5] END alpha=1e-05, epsilon=0.01, fit_intercept=False, learning_rate=invscaling, random_state=42, shuffle=True;, score=nan total time=   0.0s\n",
      "[CV 2/5] END alpha=1e-05, epsilon=0.01, fit_intercept=False, learning_rate=invscaling, random_state=42, shuffle=True;, score=nan total time=   0.0s\n",
      "[CV 3/5] END alpha=1e-05, epsilon=0.01, fit_intercept=False, learning_rate=invscaling, random_state=42, shuffle=True;, score=nan total time=   0.0s\n",
      "[CV 4/5] END alpha=1e-05, epsilon=0.01, fit_intercept=False, learning_rate=invscaling, random_state=42, shuffle=True;, score=nan total time=   0.0s\n",
      "[CV 5/5] END alpha=1e-05, epsilon=0.01, fit_intercept=False, learning_rate=invscaling, random_state=42, shuffle=True;, score=nan total time=   0.0s\n",
      "[CV 1/5] END alpha=1e-05, epsilon=0.01, fit_intercept=False, learning_rate=invscaling, random_state=42, shuffle=False;, score=nan total time=   0.0s\n",
      "[CV 2/5] END alpha=1e-05, epsilon=0.01, fit_intercept=False, learning_rate=invscaling, random_state=42, shuffle=False;, score=nan total time=   0.0s\n",
      "[CV 3/5] END alpha=1e-05, epsilon=0.01, fit_intercept=False, learning_rate=invscaling, random_state=42, shuffle=False;, score=nan total time=   0.0s\n",
      "[CV 4/5] END alpha=1e-05, epsilon=0.01, fit_intercept=False, learning_rate=invscaling, random_state=42, shuffle=False;, score=nan total time=   0.0s\n",
      "[CV 5/5] END alpha=1e-05, epsilon=0.01, fit_intercept=False, learning_rate=invscaling, random_state=42, shuffle=False;, score=nan total time=   0.0s\n",
      "[CV 1/5] END alpha=1e-05, epsilon=0.01, fit_intercept=False, learning_rate=adaptive, random_state=42, shuffle=True;, score=nan total time=   0.0s\n",
      "[CV 2/5] END alpha=1e-05, epsilon=0.01, fit_intercept=False, learning_rate=adaptive, random_state=42, shuffle=True;, score=nan total time=   0.0s\n",
      "[CV 3/5] END alpha=1e-05, epsilon=0.01, fit_intercept=False, learning_rate=adaptive, random_state=42, shuffle=True;, score=nan total time=   0.0s\n",
      "[CV 4/5] END alpha=1e-05, epsilon=0.01, fit_intercept=False, learning_rate=adaptive, random_state=42, shuffle=True;, score=nan total time=   0.0s\n",
      "[CV 5/5] END alpha=1e-05, epsilon=0.01, fit_intercept=False, learning_rate=adaptive, random_state=42, shuffle=True;, score=nan total time=   0.0s\n",
      "[CV 1/5] END alpha=1e-05, epsilon=0.01, fit_intercept=False, learning_rate=adaptive, random_state=42, shuffle=False;, score=nan total time=   0.0s\n",
      "[CV 2/5] END alpha=1e-05, epsilon=0.01, fit_intercept=False, learning_rate=adaptive, random_state=42, shuffle=False;, score=nan total time=   0.0s\n",
      "[CV 3/5] END alpha=1e-05, epsilon=0.01, fit_intercept=False, learning_rate=adaptive, random_state=42, shuffle=False;, score=nan total time=   0.0s\n",
      "[CV 4/5] END alpha=1e-05, epsilon=0.01, fit_intercept=False, learning_rate=adaptive, random_state=42, shuffle=False;, score=nan total time=   0.0s\n",
      "[CV 5/5] END alpha=1e-05, epsilon=0.01, fit_intercept=False, learning_rate=adaptive, random_state=42, shuffle=False;, score=nan total time=   0.0s\n",
      "[CV 1/5] END alpha=1e-05, epsilon=0.1, fit_intercept=True, learning_rate=constant, random_state=42, shuffle=True;, score=nan total time=   0.0s\n",
      "[CV 2/5] END alpha=1e-05, epsilon=0.1, fit_intercept=True, learning_rate=constant, random_state=42, shuffle=True;, score=nan total time=   0.0s\n",
      "[CV 3/5] END alpha=1e-05, epsilon=0.1, fit_intercept=True, learning_rate=constant, random_state=42, shuffle=True;, score=nan total time=   0.0s\n",
      "[CV 4/5] END alpha=1e-05, epsilon=0.1, fit_intercept=True, learning_rate=constant, random_state=42, shuffle=True;, score=nan total time=   0.0s\n",
      "[CV 5/5] END alpha=1e-05, epsilon=0.1, fit_intercept=True, learning_rate=constant, random_state=42, shuffle=True;, score=nan total time=   0.0s\n",
      "[CV 1/5] END alpha=1e-05, epsilon=0.1, fit_intercept=True, learning_rate=constant, random_state=42, shuffle=False;, score=nan total time=   0.0s\n",
      "[CV 2/5] END alpha=1e-05, epsilon=0.1, fit_intercept=True, learning_rate=constant, random_state=42, shuffle=False;, score=nan total time=   0.0s\n",
      "[CV 3/5] END alpha=1e-05, epsilon=0.1, fit_intercept=True, learning_rate=constant, random_state=42, shuffle=False;, score=nan total time=   0.0s\n",
      "[CV 4/5] END alpha=1e-05, epsilon=0.1, fit_intercept=True, learning_rate=constant, random_state=42, shuffle=False;, score=nan total time=   0.0s\n",
      "[CV 5/5] END alpha=1e-05, epsilon=0.1, fit_intercept=True, learning_rate=constant, random_state=42, shuffle=False;, score=nan total time=   0.0s\n",
      "[CV 1/5] END alpha=1e-05, epsilon=0.1, fit_intercept=True, learning_rate=optimal, random_state=42, shuffle=True;, score=0.793 total time=   0.0s\n",
      "[CV 2/5] END alpha=1e-05, epsilon=0.1, fit_intercept=True, learning_rate=optimal, random_state=42, shuffle=True;, score=0.719 total time=   0.0s\n",
      "[CV 3/5] END alpha=1e-05, epsilon=0.1, fit_intercept=True, learning_rate=optimal, random_state=42, shuffle=True;, score=0.758 total time=   0.0s\n",
      "[CV 4/5] END alpha=1e-05, epsilon=0.1, fit_intercept=True, learning_rate=optimal, random_state=42, shuffle=True;, score=0.730 total time=   0.0s\n",
      "[CV 5/5] END alpha=1e-05, epsilon=0.1, fit_intercept=True, learning_rate=optimal, random_state=42, shuffle=True;, score=0.573 total time=   0.0s\n",
      "[CV 1/5] END alpha=1e-05, epsilon=0.1, fit_intercept=True, learning_rate=optimal, random_state=42, shuffle=False;, score=0.771 total time=   0.0s\n",
      "[CV 2/5] END alpha=1e-05, epsilon=0.1, fit_intercept=True, learning_rate=optimal, random_state=42, shuffle=False;, score=0.781 total time=   0.0s\n",
      "[CV 3/5] END alpha=1e-05, epsilon=0.1, fit_intercept=True, learning_rate=optimal, random_state=42, shuffle=False;, score=0.770 total time=   0.0s\n",
      "[CV 4/5] END alpha=1e-05, epsilon=0.1, fit_intercept=True, learning_rate=optimal, random_state=42, shuffle=False;, score=0.753 total time=   0.0s\n",
      "[CV 5/5] END alpha=1e-05, epsilon=0.1, fit_intercept=True, learning_rate=optimal, random_state=42, shuffle=False;, score=0.770 total time=   0.0s\n",
      "[CV 1/5] END alpha=1e-05, epsilon=0.1, fit_intercept=True, learning_rate=invscaling, random_state=42, shuffle=True;, score=nan total time=   0.0s\n",
      "[CV 2/5] END alpha=1e-05, epsilon=0.1, fit_intercept=True, learning_rate=invscaling, random_state=42, shuffle=True;, score=nan total time=   0.0s\n",
      "[CV 3/5] END alpha=1e-05, epsilon=0.1, fit_intercept=True, learning_rate=invscaling, random_state=42, shuffle=True;, score=nan total time=   0.0s\n",
      "[CV 4/5] END alpha=1e-05, epsilon=0.1, fit_intercept=True, learning_rate=invscaling, random_state=42, shuffle=True;, score=nan total time=   0.0s\n",
      "[CV 5/5] END alpha=1e-05, epsilon=0.1, fit_intercept=True, learning_rate=invscaling, random_state=42, shuffle=True;, score=nan total time=   0.0s\n",
      "[CV 1/5] END alpha=1e-05, epsilon=0.1, fit_intercept=True, learning_rate=invscaling, random_state=42, shuffle=False;, score=nan total time=   0.0s\n",
      "[CV 2/5] END alpha=1e-05, epsilon=0.1, fit_intercept=True, learning_rate=invscaling, random_state=42, shuffle=False;, score=nan total time=   0.0s\n",
      "[CV 3/5] END alpha=1e-05, epsilon=0.1, fit_intercept=True, learning_rate=invscaling, random_state=42, shuffle=False;, score=nan total time=   0.0s\n",
      "[CV 4/5] END alpha=1e-05, epsilon=0.1, fit_intercept=True, learning_rate=invscaling, random_state=42, shuffle=False;, score=nan total time=   0.0s\n",
      "[CV 5/5] END alpha=1e-05, epsilon=0.1, fit_intercept=True, learning_rate=invscaling, random_state=42, shuffle=False;, score=nan total time=   0.0s\n",
      "[CV 1/5] END alpha=1e-05, epsilon=0.1, fit_intercept=True, learning_rate=adaptive, random_state=42, shuffle=True;, score=nan total time=   0.0s\n",
      "[CV 2/5] END alpha=1e-05, epsilon=0.1, fit_intercept=True, learning_rate=adaptive, random_state=42, shuffle=True;, score=nan total time=   0.0s\n",
      "[CV 3/5] END alpha=1e-05, epsilon=0.1, fit_intercept=True, learning_rate=adaptive, random_state=42, shuffle=True;, score=nan total time=   0.0s\n",
      "[CV 4/5] END alpha=1e-05, epsilon=0.1, fit_intercept=True, learning_rate=adaptive, random_state=42, shuffle=True;, score=nan total time=   0.0s\n",
      "[CV 5/5] END alpha=1e-05, epsilon=0.1, fit_intercept=True, learning_rate=adaptive, random_state=42, shuffle=True;, score=nan total time=   0.0s\n",
      "[CV 1/5] END alpha=1e-05, epsilon=0.1, fit_intercept=True, learning_rate=adaptive, random_state=42, shuffle=False;, score=nan total time=   0.0s\n",
      "[CV 2/5] END alpha=1e-05, epsilon=0.1, fit_intercept=True, learning_rate=adaptive, random_state=42, shuffle=False;, score=nan total time=   0.0s\n",
      "[CV 3/5] END alpha=1e-05, epsilon=0.1, fit_intercept=True, learning_rate=adaptive, random_state=42, shuffle=False;, score=nan total time=   0.0s\n"
     ]
    },
    {
     "name": "stdout",
     "output_type": "stream",
     "text": [
      "[CV 4/5] END alpha=1e-05, epsilon=0.1, fit_intercept=True, learning_rate=adaptive, random_state=42, shuffle=False;, score=nan total time=   0.0s\n",
      "[CV 5/5] END alpha=1e-05, epsilon=0.1, fit_intercept=True, learning_rate=adaptive, random_state=42, shuffle=False;, score=nan total time=   0.0s\n",
      "[CV 1/5] END alpha=1e-05, epsilon=0.1, fit_intercept=False, learning_rate=constant, random_state=42, shuffle=True;, score=nan total time=   0.0s\n",
      "[CV 2/5] END alpha=1e-05, epsilon=0.1, fit_intercept=False, learning_rate=constant, random_state=42, shuffle=True;, score=nan total time=   0.0s\n",
      "[CV 3/5] END alpha=1e-05, epsilon=0.1, fit_intercept=False, learning_rate=constant, random_state=42, shuffle=True;, score=nan total time=   0.0s\n",
      "[CV 4/5] END alpha=1e-05, epsilon=0.1, fit_intercept=False, learning_rate=constant, random_state=42, shuffle=True;, score=nan total time=   0.0s\n",
      "[CV 5/5] END alpha=1e-05, epsilon=0.1, fit_intercept=False, learning_rate=constant, random_state=42, shuffle=True;, score=nan total time=   0.0s\n",
      "[CV 1/5] END alpha=1e-05, epsilon=0.1, fit_intercept=False, learning_rate=constant, random_state=42, shuffle=False;, score=nan total time=   0.0s\n",
      "[CV 2/5] END alpha=1e-05, epsilon=0.1, fit_intercept=False, learning_rate=constant, random_state=42, shuffle=False;, score=nan total time=   0.0s\n",
      "[CV 3/5] END alpha=1e-05, epsilon=0.1, fit_intercept=False, learning_rate=constant, random_state=42, shuffle=False;, score=nan total time=   0.0s\n",
      "[CV 4/5] END alpha=1e-05, epsilon=0.1, fit_intercept=False, learning_rate=constant, random_state=42, shuffle=False;, score=nan total time=   0.0s\n",
      "[CV 5/5] END alpha=1e-05, epsilon=0.1, fit_intercept=False, learning_rate=constant, random_state=42, shuffle=False;, score=nan total time=   0.0s\n",
      "[CV 1/5] END alpha=1e-05, epsilon=0.1, fit_intercept=False, learning_rate=optimal, random_state=42, shuffle=True;, score=0.765 total time=   0.0s\n",
      "[CV 2/5] END alpha=1e-05, epsilon=0.1, fit_intercept=False, learning_rate=optimal, random_state=42, shuffle=True;, score=0.646 total time=   0.0s\n",
      "[CV 3/5] END alpha=1e-05, epsilon=0.1, fit_intercept=False, learning_rate=optimal, random_state=42, shuffle=True;, score=0.736 total time=   0.0s\n",
      "[CV 4/5] END alpha=1e-05, epsilon=0.1, fit_intercept=False, learning_rate=optimal, random_state=42, shuffle=True;, score=0.742 total time=   0.0s\n",
      "[CV 5/5] END alpha=1e-05, epsilon=0.1, fit_intercept=False, learning_rate=optimal, random_state=42, shuffle=True;, score=0.764 total time=   0.0s\n",
      "[CV 1/5] END alpha=1e-05, epsilon=0.1, fit_intercept=False, learning_rate=optimal, random_state=42, shuffle=False;, score=0.765 total time=   0.0s\n",
      "[CV 2/5] END alpha=1e-05, epsilon=0.1, fit_intercept=False, learning_rate=optimal, random_state=42, shuffle=False;, score=0.781 total time=   0.0s\n",
      "[CV 3/5] END alpha=1e-05, epsilon=0.1, fit_intercept=False, learning_rate=optimal, random_state=42, shuffle=False;, score=0.753 total time=   0.0s\n",
      "[CV 4/5] END alpha=1e-05, epsilon=0.1, fit_intercept=False, learning_rate=optimal, random_state=42, shuffle=False;, score=0.770 total time=   0.0s\n",
      "[CV 5/5] END alpha=1e-05, epsilon=0.1, fit_intercept=False, learning_rate=optimal, random_state=42, shuffle=False;, score=0.742 total time=   0.0s\n",
      "[CV 1/5] END alpha=1e-05, epsilon=0.1, fit_intercept=False, learning_rate=invscaling, random_state=42, shuffle=True;, score=nan total time=   0.0s\n",
      "[CV 2/5] END alpha=1e-05, epsilon=0.1, fit_intercept=False, learning_rate=invscaling, random_state=42, shuffle=True;, score=nan total time=   0.0s\n",
      "[CV 3/5] END alpha=1e-05, epsilon=0.1, fit_intercept=False, learning_rate=invscaling, random_state=42, shuffle=True;, score=nan total time=   0.0s\n",
      "[CV 4/5] END alpha=1e-05, epsilon=0.1, fit_intercept=False, learning_rate=invscaling, random_state=42, shuffle=True;, score=nan total time=   0.0s\n",
      "[CV 5/5] END alpha=1e-05, epsilon=0.1, fit_intercept=False, learning_rate=invscaling, random_state=42, shuffle=True;, score=nan total time=   0.0s\n",
      "[CV 1/5] END alpha=1e-05, epsilon=0.1, fit_intercept=False, learning_rate=invscaling, random_state=42, shuffle=False;, score=nan total time=   0.0s\n",
      "[CV 2/5] END alpha=1e-05, epsilon=0.1, fit_intercept=False, learning_rate=invscaling, random_state=42, shuffle=False;, score=nan total time=   0.0s\n",
      "[CV 3/5] END alpha=1e-05, epsilon=0.1, fit_intercept=False, learning_rate=invscaling, random_state=42, shuffle=False;, score=nan total time=   0.0s\n",
      "[CV 4/5] END alpha=1e-05, epsilon=0.1, fit_intercept=False, learning_rate=invscaling, random_state=42, shuffle=False;, score=nan total time=   0.0s\n",
      "[CV 5/5] END alpha=1e-05, epsilon=0.1, fit_intercept=False, learning_rate=invscaling, random_state=42, shuffle=False;, score=nan total time=   0.0s\n",
      "[CV 1/5] END alpha=1e-05, epsilon=0.1, fit_intercept=False, learning_rate=adaptive, random_state=42, shuffle=True;, score=nan total time=   0.0s\n",
      "[CV 2/5] END alpha=1e-05, epsilon=0.1, fit_intercept=False, learning_rate=adaptive, random_state=42, shuffle=True;, score=nan total time=   0.0s\n",
      "[CV 3/5] END alpha=1e-05, epsilon=0.1, fit_intercept=False, learning_rate=adaptive, random_state=42, shuffle=True;, score=nan total time=   0.0s\n",
      "[CV 4/5] END alpha=1e-05, epsilon=0.1, fit_intercept=False, learning_rate=adaptive, random_state=42, shuffle=True;, score=nan total time=   0.0s\n",
      "[CV 5/5] END alpha=1e-05, epsilon=0.1, fit_intercept=False, learning_rate=adaptive, random_state=42, shuffle=True;, score=nan total time=   0.0s\n",
      "[CV 1/5] END alpha=1e-05, epsilon=0.1, fit_intercept=False, learning_rate=adaptive, random_state=42, shuffle=False;, score=nan total time=   0.0s\n",
      "[CV 2/5] END alpha=1e-05, epsilon=0.1, fit_intercept=False, learning_rate=adaptive, random_state=42, shuffle=False;, score=nan total time=   0.0s\n",
      "[CV 3/5] END alpha=1e-05, epsilon=0.1, fit_intercept=False, learning_rate=adaptive, random_state=42, shuffle=False;, score=nan total time=   0.0s\n",
      "[CV 4/5] END alpha=1e-05, epsilon=0.1, fit_intercept=False, learning_rate=adaptive, random_state=42, shuffle=False;, score=nan total time=   0.0s\n",
      "[CV 5/5] END alpha=1e-05, epsilon=0.1, fit_intercept=False, learning_rate=adaptive, random_state=42, shuffle=False;, score=nan total time=   0.0s\n",
      "[CV 1/5] END alpha=0.0001, epsilon=0.001, fit_intercept=True, learning_rate=constant, random_state=42, shuffle=True;, score=nan total time=   0.0s\n",
      "[CV 2/5] END alpha=0.0001, epsilon=0.001, fit_intercept=True, learning_rate=constant, random_state=42, shuffle=True;, score=nan total time=   0.0s\n",
      "[CV 3/5] END alpha=0.0001, epsilon=0.001, fit_intercept=True, learning_rate=constant, random_state=42, shuffle=True;, score=nan total time=   0.0s\n",
      "[CV 4/5] END alpha=0.0001, epsilon=0.001, fit_intercept=True, learning_rate=constant, random_state=42, shuffle=True;, score=nan total time=   0.0s\n",
      "[CV 5/5] END alpha=0.0001, epsilon=0.001, fit_intercept=True, learning_rate=constant, random_state=42, shuffle=True;, score=nan total time=   0.0s\n",
      "[CV 1/5] END alpha=0.0001, epsilon=0.001, fit_intercept=True, learning_rate=constant, random_state=42, shuffle=False;, score=nan total time=   0.0s\n",
      "[CV 2/5] END alpha=0.0001, epsilon=0.001, fit_intercept=True, learning_rate=constant, random_state=42, shuffle=False;, score=nan total time=   0.0s\n",
      "[CV 3/5] END alpha=0.0001, epsilon=0.001, fit_intercept=True, learning_rate=constant, random_state=42, shuffle=False;, score=nan total time=   0.0s\n",
      "[CV 4/5] END alpha=0.0001, epsilon=0.001, fit_intercept=True, learning_rate=constant, random_state=42, shuffle=False;, score=nan total time=   0.0s\n",
      "[CV 5/5] END alpha=0.0001, epsilon=0.001, fit_intercept=True, learning_rate=constant, random_state=42, shuffle=False;, score=nan total time=   0.0s\n",
      "[CV 1/5] END alpha=0.0001, epsilon=0.001, fit_intercept=True, learning_rate=optimal, random_state=42, shuffle=True;, score=0.654 total time=   0.0s\n",
      "[CV 2/5] END alpha=0.0001, epsilon=0.001, fit_intercept=True, learning_rate=optimal, random_state=42, shuffle=True;, score=0.646 total time=   0.0s\n",
      "[CV 3/5] END alpha=0.0001, epsilon=0.001, fit_intercept=True, learning_rate=optimal, random_state=42, shuffle=True;, score=0.758 total time=   0.0s\n",
      "[CV 4/5] END alpha=0.0001, epsilon=0.001, fit_intercept=True, learning_rate=optimal, random_state=42, shuffle=True;, score=0.730 total time=   0.0s\n",
      "[CV 5/5] END alpha=0.0001, epsilon=0.001, fit_intercept=True, learning_rate=optimal, random_state=42, shuffle=True;, score=0.770 total time=   0.0s\n",
      "[CV 1/5] END alpha=0.0001, epsilon=0.001, fit_intercept=True, learning_rate=optimal, random_state=42, shuffle=False;, score=0.782 total time=   0.0s\n",
      "[CV 2/5] END alpha=0.0001, epsilon=0.001, fit_intercept=True, learning_rate=optimal, random_state=42, shuffle=False;, score=0.792 total time=   0.0s\n",
      "[CV 3/5] END alpha=0.0001, epsilon=0.001, fit_intercept=True, learning_rate=optimal, random_state=42, shuffle=False;, score=0.775 total time=   0.0s\n",
      "[CV 4/5] END alpha=0.0001, epsilon=0.001, fit_intercept=True, learning_rate=optimal, random_state=42, shuffle=False;, score=0.781 total time=   0.0s\n",
      "[CV 5/5] END alpha=0.0001, epsilon=0.001, fit_intercept=True, learning_rate=optimal, random_state=42, shuffle=False;, score=0.764 total time=   0.0s\n",
      "[CV 1/5] END alpha=0.0001, epsilon=0.001, fit_intercept=True, learning_rate=invscaling, random_state=42, shuffle=True;, score=nan total time=   0.0s\n"
     ]
    },
    {
     "name": "stdout",
     "output_type": "stream",
     "text": [
      "[CV 2/5] END alpha=0.0001, epsilon=0.001, fit_intercept=True, learning_rate=invscaling, random_state=42, shuffle=True;, score=nan total time=   0.0s\n",
      "[CV 3/5] END alpha=0.0001, epsilon=0.001, fit_intercept=True, learning_rate=invscaling, random_state=42, shuffle=True;, score=nan total time=   0.0s\n",
      "[CV 4/5] END alpha=0.0001, epsilon=0.001, fit_intercept=True, learning_rate=invscaling, random_state=42, shuffle=True;, score=nan total time=   0.0s\n",
      "[CV 5/5] END alpha=0.0001, epsilon=0.001, fit_intercept=True, learning_rate=invscaling, random_state=42, shuffle=True;, score=nan total time=   0.0s\n",
      "[CV 1/5] END alpha=0.0001, epsilon=0.001, fit_intercept=True, learning_rate=invscaling, random_state=42, shuffle=False;, score=nan total time=   0.0s\n",
      "[CV 2/5] END alpha=0.0001, epsilon=0.001, fit_intercept=True, learning_rate=invscaling, random_state=42, shuffle=False;, score=nan total time=   0.0s\n",
      "[CV 3/5] END alpha=0.0001, epsilon=0.001, fit_intercept=True, learning_rate=invscaling, random_state=42, shuffle=False;, score=nan total time=   0.0s\n",
      "[CV 4/5] END alpha=0.0001, epsilon=0.001, fit_intercept=True, learning_rate=invscaling, random_state=42, shuffle=False;, score=nan total time=   0.0s\n",
      "[CV 5/5] END alpha=0.0001, epsilon=0.001, fit_intercept=True, learning_rate=invscaling, random_state=42, shuffle=False;, score=nan total time=   0.0s\n",
      "[CV 1/5] END alpha=0.0001, epsilon=0.001, fit_intercept=True, learning_rate=adaptive, random_state=42, shuffle=True;, score=nan total time=   0.0s\n",
      "[CV 2/5] END alpha=0.0001, epsilon=0.001, fit_intercept=True, learning_rate=adaptive, random_state=42, shuffle=True;, score=nan total time=   0.0s\n",
      "[CV 3/5] END alpha=0.0001, epsilon=0.001, fit_intercept=True, learning_rate=adaptive, random_state=42, shuffle=True;, score=nan total time=   0.0s\n",
      "[CV 4/5] END alpha=0.0001, epsilon=0.001, fit_intercept=True, learning_rate=adaptive, random_state=42, shuffle=True;, score=nan total time=   0.0s\n",
      "[CV 5/5] END alpha=0.0001, epsilon=0.001, fit_intercept=True, learning_rate=adaptive, random_state=42, shuffle=True;, score=nan total time=   0.0s\n",
      "[CV 1/5] END alpha=0.0001, epsilon=0.001, fit_intercept=True, learning_rate=adaptive, random_state=42, shuffle=False;, score=nan total time=   0.0s\n",
      "[CV 2/5] END alpha=0.0001, epsilon=0.001, fit_intercept=True, learning_rate=adaptive, random_state=42, shuffle=False;, score=nan total time=   0.0s\n",
      "[CV 3/5] END alpha=0.0001, epsilon=0.001, fit_intercept=True, learning_rate=adaptive, random_state=42, shuffle=False;, score=nan total time=   0.0s\n",
      "[CV 4/5] END alpha=0.0001, epsilon=0.001, fit_intercept=True, learning_rate=adaptive, random_state=42, shuffle=False;, score=nan total time=   0.0s\n",
      "[CV 5/5] END alpha=0.0001, epsilon=0.001, fit_intercept=True, learning_rate=adaptive, random_state=42, shuffle=False;, score=nan total time=   0.0s\n",
      "[CV 1/5] END alpha=0.0001, epsilon=0.001, fit_intercept=False, learning_rate=constant, random_state=42, shuffle=True;, score=nan total time=   0.0s\n",
      "[CV 2/5] END alpha=0.0001, epsilon=0.001, fit_intercept=False, learning_rate=constant, random_state=42, shuffle=True;, score=nan total time=   0.0s\n",
      "[CV 3/5] END alpha=0.0001, epsilon=0.001, fit_intercept=False, learning_rate=constant, random_state=42, shuffle=True;, score=nan total time=   0.0s\n",
      "[CV 4/5] END alpha=0.0001, epsilon=0.001, fit_intercept=False, learning_rate=constant, random_state=42, shuffle=True;, score=nan total time=   0.0s\n",
      "[CV 5/5] END alpha=0.0001, epsilon=0.001, fit_intercept=False, learning_rate=constant, random_state=42, shuffle=True;, score=nan total time=   0.0s\n",
      "[CV 1/5] END alpha=0.0001, epsilon=0.001, fit_intercept=False, learning_rate=constant, random_state=42, shuffle=False;, score=nan total time=   0.0s\n",
      "[CV 2/5] END alpha=0.0001, epsilon=0.001, fit_intercept=False, learning_rate=constant, random_state=42, shuffle=False;, score=nan total time=   0.0s\n",
      "[CV 3/5] END alpha=0.0001, epsilon=0.001, fit_intercept=False, learning_rate=constant, random_state=42, shuffle=False;, score=nan total time=   0.0s\n",
      "[CV 4/5] END alpha=0.0001, epsilon=0.001, fit_intercept=False, learning_rate=constant, random_state=42, shuffle=False;, score=nan total time=   0.0s\n",
      "[CV 5/5] END alpha=0.0001, epsilon=0.001, fit_intercept=False, learning_rate=constant, random_state=42, shuffle=False;, score=nan total time=   0.0s\n",
      "[CV 1/5] END alpha=0.0001, epsilon=0.001, fit_intercept=False, learning_rate=optimal, random_state=42, shuffle=True;, score=0.765 total time=   0.0s\n",
      "[CV 2/5] END alpha=0.0001, epsilon=0.001, fit_intercept=False, learning_rate=optimal, random_state=42, shuffle=True;, score=0.640 total time=   0.0s\n",
      "[CV 3/5] END alpha=0.0001, epsilon=0.001, fit_intercept=False, learning_rate=optimal, random_state=42, shuffle=True;, score=0.399 total time=   0.0s\n",
      "[CV 4/5] END alpha=0.0001, epsilon=0.001, fit_intercept=False, learning_rate=optimal, random_state=42, shuffle=True;, score=0.730 total time=   0.0s\n",
      "[CV 5/5] END alpha=0.0001, epsilon=0.001, fit_intercept=False, learning_rate=optimal, random_state=42, shuffle=True;, score=0.708 total time=   0.0s\n",
      "[CV 1/5] END alpha=0.0001, epsilon=0.001, fit_intercept=False, learning_rate=optimal, random_state=42, shuffle=False;, score=0.771 total time=   0.0s\n",
      "[CV 2/5] END alpha=0.0001, epsilon=0.001, fit_intercept=False, learning_rate=optimal, random_state=42, shuffle=False;, score=0.708 total time=   0.0s\n",
      "[CV 3/5] END alpha=0.0001, epsilon=0.001, fit_intercept=False, learning_rate=optimal, random_state=42, shuffle=False;, score=0.770 total time=   0.0s\n",
      "[CV 4/5] END alpha=0.0001, epsilon=0.001, fit_intercept=False, learning_rate=optimal, random_state=42, shuffle=False;, score=0.758 total time=   0.0s\n",
      "[CV 5/5] END alpha=0.0001, epsilon=0.001, fit_intercept=False, learning_rate=optimal, random_state=42, shuffle=False;, score=0.725 total time=   0.0s\n",
      "[CV 1/5] END alpha=0.0001, epsilon=0.001, fit_intercept=False, learning_rate=invscaling, random_state=42, shuffle=True;, score=nan total time=   0.0s\n",
      "[CV 2/5] END alpha=0.0001, epsilon=0.001, fit_intercept=False, learning_rate=invscaling, random_state=42, shuffle=True;, score=nan total time=   0.0s\n",
      "[CV 3/5] END alpha=0.0001, epsilon=0.001, fit_intercept=False, learning_rate=invscaling, random_state=42, shuffle=True;, score=nan total time=   0.0s\n",
      "[CV 4/5] END alpha=0.0001, epsilon=0.001, fit_intercept=False, learning_rate=invscaling, random_state=42, shuffle=True;, score=nan total time=   0.0s\n",
      "[CV 5/5] END alpha=0.0001, epsilon=0.001, fit_intercept=False, learning_rate=invscaling, random_state=42, shuffle=True;, score=nan total time=   0.0s\n",
      "[CV 1/5] END alpha=0.0001, epsilon=0.001, fit_intercept=False, learning_rate=invscaling, random_state=42, shuffle=False;, score=nan total time=   0.0s\n",
      "[CV 2/5] END alpha=0.0001, epsilon=0.001, fit_intercept=False, learning_rate=invscaling, random_state=42, shuffle=False;, score=nan total time=   0.0s\n",
      "[CV 3/5] END alpha=0.0001, epsilon=0.001, fit_intercept=False, learning_rate=invscaling, random_state=42, shuffle=False;, score=nan total time=   0.0s\n",
      "[CV 4/5] END alpha=0.0001, epsilon=0.001, fit_intercept=False, learning_rate=invscaling, random_state=42, shuffle=False;, score=nan total time=   0.0s\n",
      "[CV 5/5] END alpha=0.0001, epsilon=0.001, fit_intercept=False, learning_rate=invscaling, random_state=42, shuffle=False;, score=nan total time=   0.0s\n",
      "[CV 1/5] END alpha=0.0001, epsilon=0.001, fit_intercept=False, learning_rate=adaptive, random_state=42, shuffle=True;, score=nan total time=   0.0s\n",
      "[CV 2/5] END alpha=0.0001, epsilon=0.001, fit_intercept=False, learning_rate=adaptive, random_state=42, shuffle=True;, score=nan total time=   0.0s\n",
      "[CV 3/5] END alpha=0.0001, epsilon=0.001, fit_intercept=False, learning_rate=adaptive, random_state=42, shuffle=True;, score=nan total time=   0.0s\n",
      "[CV 4/5] END alpha=0.0001, epsilon=0.001, fit_intercept=False, learning_rate=adaptive, random_state=42, shuffle=True;, score=nan total time=   0.0s\n",
      "[CV 5/5] END alpha=0.0001, epsilon=0.001, fit_intercept=False, learning_rate=adaptive, random_state=42, shuffle=True;, score=nan total time=   0.0s\n",
      "[CV 1/5] END alpha=0.0001, epsilon=0.001, fit_intercept=False, learning_rate=adaptive, random_state=42, shuffle=False;, score=nan total time=   0.0s\n",
      "[CV 2/5] END alpha=0.0001, epsilon=0.001, fit_intercept=False, learning_rate=adaptive, random_state=42, shuffle=False;, score=nan total time=   0.0s\n",
      "[CV 3/5] END alpha=0.0001, epsilon=0.001, fit_intercept=False, learning_rate=adaptive, random_state=42, shuffle=False;, score=nan total time=   0.0s\n",
      "[CV 4/5] END alpha=0.0001, epsilon=0.001, fit_intercept=False, learning_rate=adaptive, random_state=42, shuffle=False;, score=nan total time=   0.0s\n",
      "[CV 5/5] END alpha=0.0001, epsilon=0.001, fit_intercept=False, learning_rate=adaptive, random_state=42, shuffle=False;, score=nan total time=   0.0s\n",
      "[CV 1/5] END alpha=0.0001, epsilon=0.01, fit_intercept=True, learning_rate=constant, random_state=42, shuffle=True;, score=nan total time=   0.0s\n",
      "[CV 2/5] END alpha=0.0001, epsilon=0.01, fit_intercept=True, learning_rate=constant, random_state=42, shuffle=True;, score=nan total time=   0.0s\n",
      "[CV 3/5] END alpha=0.0001, epsilon=0.01, fit_intercept=True, learning_rate=constant, random_state=42, shuffle=True;, score=nan total time=   0.0s\n",
      "[CV 4/5] END alpha=0.0001, epsilon=0.01, fit_intercept=True, learning_rate=constant, random_state=42, shuffle=True;, score=nan total time=   0.0s\n",
      "[CV 5/5] END alpha=0.0001, epsilon=0.01, fit_intercept=True, learning_rate=constant, random_state=42, shuffle=True;, score=nan total time=   0.0s\n",
      "[CV 1/5] END alpha=0.0001, epsilon=0.01, fit_intercept=True, learning_rate=constant, random_state=42, shuffle=False;, score=nan total time=   0.0s\n",
      "[CV 2/5] END alpha=0.0001, epsilon=0.01, fit_intercept=True, learning_rate=constant, random_state=42, shuffle=False;, score=nan total time=   0.0s\n",
      "[CV 3/5] END alpha=0.0001, epsilon=0.01, fit_intercept=True, learning_rate=constant, random_state=42, shuffle=False;, score=nan total time=   0.0s\n",
      "[CV 4/5] END alpha=0.0001, epsilon=0.01, fit_intercept=True, learning_rate=constant, random_state=42, shuffle=False;, score=nan total time=   0.0s\n",
      "[CV 5/5] END alpha=0.0001, epsilon=0.01, fit_intercept=True, learning_rate=constant, random_state=42, shuffle=False;, score=nan total time=   0.0s\n",
      "[CV 1/5] END alpha=0.0001, epsilon=0.01, fit_intercept=True, learning_rate=optimal, random_state=42, shuffle=True;, score=0.654 total time=   0.0s\n",
      "[CV 2/5] END alpha=0.0001, epsilon=0.01, fit_intercept=True, learning_rate=optimal, random_state=42, shuffle=True;, score=0.646 total time=   0.0s\n",
      "[CV 3/5] END alpha=0.0001, epsilon=0.01, fit_intercept=True, learning_rate=optimal, random_state=42, shuffle=True;, score=0.758 total time=   0.0s\n",
      "[CV 4/5] END alpha=0.0001, epsilon=0.01, fit_intercept=True, learning_rate=optimal, random_state=42, shuffle=True;, score=0.730 total time=   0.0s\n",
      "[CV 5/5] END alpha=0.0001, epsilon=0.01, fit_intercept=True, learning_rate=optimal, random_state=42, shuffle=True;, score=0.770 total time=   0.0s\n",
      "[CV 1/5] END alpha=0.0001, epsilon=0.01, fit_intercept=True, learning_rate=optimal, random_state=42, shuffle=False;, score=0.782 total time=   0.0s\n"
     ]
    },
    {
     "name": "stdout",
     "output_type": "stream",
     "text": [
      "[CV 2/5] END alpha=0.0001, epsilon=0.01, fit_intercept=True, learning_rate=optimal, random_state=42, shuffle=False;, score=0.792 total time=   0.0s\n",
      "[CV 3/5] END alpha=0.0001, epsilon=0.01, fit_intercept=True, learning_rate=optimal, random_state=42, shuffle=False;, score=0.775 total time=   0.0s\n",
      "[CV 4/5] END alpha=0.0001, epsilon=0.01, fit_intercept=True, learning_rate=optimal, random_state=42, shuffle=False;, score=0.781 total time=   0.0s\n",
      "[CV 5/5] END alpha=0.0001, epsilon=0.01, fit_intercept=True, learning_rate=optimal, random_state=42, shuffle=False;, score=0.764 total time=   0.0s\n",
      "[CV 1/5] END alpha=0.0001, epsilon=0.01, fit_intercept=True, learning_rate=invscaling, random_state=42, shuffle=True;, score=nan total time=   0.0s\n",
      "[CV 2/5] END alpha=0.0001, epsilon=0.01, fit_intercept=True, learning_rate=invscaling, random_state=42, shuffle=True;, score=nan total time=   0.0s\n",
      "[CV 3/5] END alpha=0.0001, epsilon=0.01, fit_intercept=True, learning_rate=invscaling, random_state=42, shuffle=True;, score=nan total time=   0.0s\n",
      "[CV 4/5] END alpha=0.0001, epsilon=0.01, fit_intercept=True, learning_rate=invscaling, random_state=42, shuffle=True;, score=nan total time=   0.0s\n",
      "[CV 5/5] END alpha=0.0001, epsilon=0.01, fit_intercept=True, learning_rate=invscaling, random_state=42, shuffle=True;, score=nan total time=   0.0s\n",
      "[CV 1/5] END alpha=0.0001, epsilon=0.01, fit_intercept=True, learning_rate=invscaling, random_state=42, shuffle=False;, score=nan total time=   0.0s\n",
      "[CV 2/5] END alpha=0.0001, epsilon=0.01, fit_intercept=True, learning_rate=invscaling, random_state=42, shuffle=False;, score=nan total time=   0.0s\n",
      "[CV 3/5] END alpha=0.0001, epsilon=0.01, fit_intercept=True, learning_rate=invscaling, random_state=42, shuffle=False;, score=nan total time=   0.0s\n",
      "[CV 4/5] END alpha=0.0001, epsilon=0.01, fit_intercept=True, learning_rate=invscaling, random_state=42, shuffle=False;, score=nan total time=   0.0s\n",
      "[CV 5/5] END alpha=0.0001, epsilon=0.01, fit_intercept=True, learning_rate=invscaling, random_state=42, shuffle=False;, score=nan total time=   0.0s\n",
      "[CV 1/5] END alpha=0.0001, epsilon=0.01, fit_intercept=True, learning_rate=adaptive, random_state=42, shuffle=True;, score=nan total time=   0.0s\n",
      "[CV 2/5] END alpha=0.0001, epsilon=0.01, fit_intercept=True, learning_rate=adaptive, random_state=42, shuffle=True;, score=nan total time=   0.0s\n",
      "[CV 3/5] END alpha=0.0001, epsilon=0.01, fit_intercept=True, learning_rate=adaptive, random_state=42, shuffle=True;, score=nan total time=   0.0s\n",
      "[CV 4/5] END alpha=0.0001, epsilon=0.01, fit_intercept=True, learning_rate=adaptive, random_state=42, shuffle=True;, score=nan total time=   0.0s\n",
      "[CV 5/5] END alpha=0.0001, epsilon=0.01, fit_intercept=True, learning_rate=adaptive, random_state=42, shuffle=True;, score=nan total time=   0.0s\n",
      "[CV 1/5] END alpha=0.0001, epsilon=0.01, fit_intercept=True, learning_rate=adaptive, random_state=42, shuffle=False;, score=nan total time=   0.0s\n",
      "[CV 2/5] END alpha=0.0001, epsilon=0.01, fit_intercept=True, learning_rate=adaptive, random_state=42, shuffle=False;, score=nan total time=   0.0s\n",
      "[CV 3/5] END alpha=0.0001, epsilon=0.01, fit_intercept=True, learning_rate=adaptive, random_state=42, shuffle=False;, score=nan total time=   0.0s\n",
      "[CV 4/5] END alpha=0.0001, epsilon=0.01, fit_intercept=True, learning_rate=adaptive, random_state=42, shuffle=False;, score=nan total time=   0.0s\n",
      "[CV 5/5] END alpha=0.0001, epsilon=0.01, fit_intercept=True, learning_rate=adaptive, random_state=42, shuffle=False;, score=nan total time=   0.0s\n",
      "[CV 1/5] END alpha=0.0001, epsilon=0.01, fit_intercept=False, learning_rate=constant, random_state=42, shuffle=True;, score=nan total time=   0.0s\n",
      "[CV 2/5] END alpha=0.0001, epsilon=0.01, fit_intercept=False, learning_rate=constant, random_state=42, shuffle=True;, score=nan total time=   0.0s\n",
      "[CV 3/5] END alpha=0.0001, epsilon=0.01, fit_intercept=False, learning_rate=constant, random_state=42, shuffle=True;, score=nan total time=   0.0s\n",
      "[CV 4/5] END alpha=0.0001, epsilon=0.01, fit_intercept=False, learning_rate=constant, random_state=42, shuffle=True;, score=nan total time=   0.0s\n",
      "[CV 5/5] END alpha=0.0001, epsilon=0.01, fit_intercept=False, learning_rate=constant, random_state=42, shuffle=True;, score=nan total time=   0.0s\n",
      "[CV 1/5] END alpha=0.0001, epsilon=0.01, fit_intercept=False, learning_rate=constant, random_state=42, shuffle=False;, score=nan total time=   0.0s\n",
      "[CV 2/5] END alpha=0.0001, epsilon=0.01, fit_intercept=False, learning_rate=constant, random_state=42, shuffle=False;, score=nan total time=   0.0s\n",
      "[CV 3/5] END alpha=0.0001, epsilon=0.01, fit_intercept=False, learning_rate=constant, random_state=42, shuffle=False;, score=nan total time=   0.0s\n",
      "[CV 4/5] END alpha=0.0001, epsilon=0.01, fit_intercept=False, learning_rate=constant, random_state=42, shuffle=False;, score=nan total time=   0.0s\n",
      "[CV 5/5] END alpha=0.0001, epsilon=0.01, fit_intercept=False, learning_rate=constant, random_state=42, shuffle=False;, score=nan total time=   0.0s\n",
      "[CV 1/5] END alpha=0.0001, epsilon=0.01, fit_intercept=False, learning_rate=optimal, random_state=42, shuffle=True;, score=0.765 total time=   0.0s\n",
      "[CV 2/5] END alpha=0.0001, epsilon=0.01, fit_intercept=False, learning_rate=optimal, random_state=42, shuffle=True;, score=0.640 total time=   0.0s\n",
      "[CV 3/5] END alpha=0.0001, epsilon=0.01, fit_intercept=False, learning_rate=optimal, random_state=42, shuffle=True;, score=0.399 total time=   0.0s\n",
      "[CV 4/5] END alpha=0.0001, epsilon=0.01, fit_intercept=False, learning_rate=optimal, random_state=42, shuffle=True;, score=0.730 total time=   0.0s\n",
      "[CV 5/5] END alpha=0.0001, epsilon=0.01, fit_intercept=False, learning_rate=optimal, random_state=42, shuffle=True;, score=0.708 total time=   0.0s\n",
      "[CV 1/5] END alpha=0.0001, epsilon=0.01, fit_intercept=False, learning_rate=optimal, random_state=42, shuffle=False;, score=0.771 total time=   0.0s\n",
      "[CV 2/5] END alpha=0.0001, epsilon=0.01, fit_intercept=False, learning_rate=optimal, random_state=42, shuffle=False;, score=0.708 total time=   0.0s\n",
      "[CV 3/5] END alpha=0.0001, epsilon=0.01, fit_intercept=False, learning_rate=optimal, random_state=42, shuffle=False;, score=0.770 total time=   0.0s\n",
      "[CV 4/5] END alpha=0.0001, epsilon=0.01, fit_intercept=False, learning_rate=optimal, random_state=42, shuffle=False;, score=0.758 total time=   0.0s\n",
      "[CV 5/5] END alpha=0.0001, epsilon=0.01, fit_intercept=False, learning_rate=optimal, random_state=42, shuffle=False;, score=0.725 total time=   0.0s\n",
      "[CV 1/5] END alpha=0.0001, epsilon=0.01, fit_intercept=False, learning_rate=invscaling, random_state=42, shuffle=True;, score=nan total time=   0.0s\n",
      "[CV 2/5] END alpha=0.0001, epsilon=0.01, fit_intercept=False, learning_rate=invscaling, random_state=42, shuffle=True;, score=nan total time=   0.0s\n",
      "[CV 3/5] END alpha=0.0001, epsilon=0.01, fit_intercept=False, learning_rate=invscaling, random_state=42, shuffle=True;, score=nan total time=   0.0s\n",
      "[CV 4/5] END alpha=0.0001, epsilon=0.01, fit_intercept=False, learning_rate=invscaling, random_state=42, shuffle=True;, score=nan total time=   0.0s\n",
      "[CV 5/5] END alpha=0.0001, epsilon=0.01, fit_intercept=False, learning_rate=invscaling, random_state=42, shuffle=True;, score=nan total time=   0.0s\n",
      "[CV 1/5] END alpha=0.0001, epsilon=0.01, fit_intercept=False, learning_rate=invscaling, random_state=42, shuffle=False;, score=nan total time=   0.0s\n",
      "[CV 2/5] END alpha=0.0001, epsilon=0.01, fit_intercept=False, learning_rate=invscaling, random_state=42, shuffle=False;, score=nan total time=   0.0s\n",
      "[CV 3/5] END alpha=0.0001, epsilon=0.01, fit_intercept=False, learning_rate=invscaling, random_state=42, shuffle=False;, score=nan total time=   0.0s\n",
      "[CV 4/5] END alpha=0.0001, epsilon=0.01, fit_intercept=False, learning_rate=invscaling, random_state=42, shuffle=False;, score=nan total time=   0.0s\n",
      "[CV 5/5] END alpha=0.0001, epsilon=0.01, fit_intercept=False, learning_rate=invscaling, random_state=42, shuffle=False;, score=nan total time=   0.0s\n",
      "[CV 1/5] END alpha=0.0001, epsilon=0.01, fit_intercept=False, learning_rate=adaptive, random_state=42, shuffle=True;, score=nan total time=   0.0s\n",
      "[CV 2/5] END alpha=0.0001, epsilon=0.01, fit_intercept=False, learning_rate=adaptive, random_state=42, shuffle=True;, score=nan total time=   0.0s\n",
      "[CV 3/5] END alpha=0.0001, epsilon=0.01, fit_intercept=False, learning_rate=adaptive, random_state=42, shuffle=True;, score=nan total time=   0.0s\n",
      "[CV 4/5] END alpha=0.0001, epsilon=0.01, fit_intercept=False, learning_rate=adaptive, random_state=42, shuffle=True;, score=nan total time=   0.0s\n",
      "[CV 5/5] END alpha=0.0001, epsilon=0.01, fit_intercept=False, learning_rate=adaptive, random_state=42, shuffle=True;, score=nan total time=   0.0s\n",
      "[CV 1/5] END alpha=0.0001, epsilon=0.01, fit_intercept=False, learning_rate=adaptive, random_state=42, shuffle=False;, score=nan total time=   0.0s\n",
      "[CV 2/5] END alpha=0.0001, epsilon=0.01, fit_intercept=False, learning_rate=adaptive, random_state=42, shuffle=False;, score=nan total time=   0.0s\n",
      "[CV 3/5] END alpha=0.0001, epsilon=0.01, fit_intercept=False, learning_rate=adaptive, random_state=42, shuffle=False;, score=nan total time=   0.0s\n",
      "[CV 4/5] END alpha=0.0001, epsilon=0.01, fit_intercept=False, learning_rate=adaptive, random_state=42, shuffle=False;, score=nan total time=   0.0s\n",
      "[CV 5/5] END alpha=0.0001, epsilon=0.01, fit_intercept=False, learning_rate=adaptive, random_state=42, shuffle=False;, score=nan total time=   0.0s\n",
      "[CV 1/5] END alpha=0.0001, epsilon=0.1, fit_intercept=True, learning_rate=constant, random_state=42, shuffle=True;, score=nan total time=   0.0s\n",
      "[CV 2/5] END alpha=0.0001, epsilon=0.1, fit_intercept=True, learning_rate=constant, random_state=42, shuffle=True;, score=nan total time=   0.0s\n",
      "[CV 3/5] END alpha=0.0001, epsilon=0.1, fit_intercept=True, learning_rate=constant, random_state=42, shuffle=True;, score=nan total time=   0.0s\n",
      "[CV 4/5] END alpha=0.0001, epsilon=0.1, fit_intercept=True, learning_rate=constant, random_state=42, shuffle=True;, score=nan total time=   0.0s\n",
      "[CV 5/5] END alpha=0.0001, epsilon=0.1, fit_intercept=True, learning_rate=constant, random_state=42, shuffle=True;, score=nan total time=   0.0s\n",
      "[CV 1/5] END alpha=0.0001, epsilon=0.1, fit_intercept=True, learning_rate=constant, random_state=42, shuffle=False;, score=nan total time=   0.0s\n",
      "[CV 2/5] END alpha=0.0001, epsilon=0.1, fit_intercept=True, learning_rate=constant, random_state=42, shuffle=False;, score=nan total time=   0.0s\n",
      "[CV 3/5] END alpha=0.0001, epsilon=0.1, fit_intercept=True, learning_rate=constant, random_state=42, shuffle=False;, score=nan total time=   0.0s\n",
      "[CV 4/5] END alpha=0.0001, epsilon=0.1, fit_intercept=True, learning_rate=constant, random_state=42, shuffle=False;, score=nan total time=   0.0s\n",
      "[CV 5/5] END alpha=0.0001, epsilon=0.1, fit_intercept=True, learning_rate=constant, random_state=42, shuffle=False;, score=nan total time=   0.0s\n",
      "[CV 1/5] END alpha=0.0001, epsilon=0.1, fit_intercept=True, learning_rate=optimal, random_state=42, shuffle=True;, score=0.654 total time=   0.0s\n",
      "[CV 2/5] END alpha=0.0001, epsilon=0.1, fit_intercept=True, learning_rate=optimal, random_state=42, shuffle=True;, score=0.646 total time=   0.0s\n"
     ]
    },
    {
     "name": "stdout",
     "output_type": "stream",
     "text": [
      "[CV 3/5] END alpha=0.0001, epsilon=0.1, fit_intercept=True, learning_rate=optimal, random_state=42, shuffle=True;, score=0.758 total time=   0.0s\n",
      "[CV 4/5] END alpha=0.0001, epsilon=0.1, fit_intercept=True, learning_rate=optimal, random_state=42, shuffle=True;, score=0.730 total time=   0.0s\n",
      "[CV 5/5] END alpha=0.0001, epsilon=0.1, fit_intercept=True, learning_rate=optimal, random_state=42, shuffle=True;, score=0.770 total time=   0.0s\n",
      "[CV 1/5] END alpha=0.0001, epsilon=0.1, fit_intercept=True, learning_rate=optimal, random_state=42, shuffle=False;, score=0.782 total time=   0.0s\n",
      "[CV 2/5] END alpha=0.0001, epsilon=0.1, fit_intercept=True, learning_rate=optimal, random_state=42, shuffle=False;, score=0.792 total time=   0.0s\n",
      "[CV 3/5] END alpha=0.0001, epsilon=0.1, fit_intercept=True, learning_rate=optimal, random_state=42, shuffle=False;, score=0.775 total time=   0.0s\n",
      "[CV 4/5] END alpha=0.0001, epsilon=0.1, fit_intercept=True, learning_rate=optimal, random_state=42, shuffle=False;, score=0.781 total time=   0.0s\n",
      "[CV 5/5] END alpha=0.0001, epsilon=0.1, fit_intercept=True, learning_rate=optimal, random_state=42, shuffle=False;, score=0.764 total time=   0.0s\n",
      "[CV 1/5] END alpha=0.0001, epsilon=0.1, fit_intercept=True, learning_rate=invscaling, random_state=42, shuffle=True;, score=nan total time=   0.0s\n",
      "[CV 2/5] END alpha=0.0001, epsilon=0.1, fit_intercept=True, learning_rate=invscaling, random_state=42, shuffle=True;, score=nan total time=   0.0s\n",
      "[CV 3/5] END alpha=0.0001, epsilon=0.1, fit_intercept=True, learning_rate=invscaling, random_state=42, shuffle=True;, score=nan total time=   0.0s\n",
      "[CV 4/5] END alpha=0.0001, epsilon=0.1, fit_intercept=True, learning_rate=invscaling, random_state=42, shuffle=True;, score=nan total time=   0.0s\n",
      "[CV 5/5] END alpha=0.0001, epsilon=0.1, fit_intercept=True, learning_rate=invscaling, random_state=42, shuffle=True;, score=nan total time=   0.0s\n",
      "[CV 1/5] END alpha=0.0001, epsilon=0.1, fit_intercept=True, learning_rate=invscaling, random_state=42, shuffle=False;, score=nan total time=   0.0s\n",
      "[CV 2/5] END alpha=0.0001, epsilon=0.1, fit_intercept=True, learning_rate=invscaling, random_state=42, shuffle=False;, score=nan total time=   0.0s\n",
      "[CV 3/5] END alpha=0.0001, epsilon=0.1, fit_intercept=True, learning_rate=invscaling, random_state=42, shuffle=False;, score=nan total time=   0.0s\n",
      "[CV 4/5] END alpha=0.0001, epsilon=0.1, fit_intercept=True, learning_rate=invscaling, random_state=42, shuffle=False;, score=nan total time=   0.0s\n",
      "[CV 5/5] END alpha=0.0001, epsilon=0.1, fit_intercept=True, learning_rate=invscaling, random_state=42, shuffle=False;, score=nan total time=   0.0s\n",
      "[CV 1/5] END alpha=0.0001, epsilon=0.1, fit_intercept=True, learning_rate=adaptive, random_state=42, shuffle=True;, score=nan total time=   0.0s\n",
      "[CV 2/5] END alpha=0.0001, epsilon=0.1, fit_intercept=True, learning_rate=adaptive, random_state=42, shuffle=True;, score=nan total time=   0.0s\n",
      "[CV 3/5] END alpha=0.0001, epsilon=0.1, fit_intercept=True, learning_rate=adaptive, random_state=42, shuffle=True;, score=nan total time=   0.0s\n",
      "[CV 4/5] END alpha=0.0001, epsilon=0.1, fit_intercept=True, learning_rate=adaptive, random_state=42, shuffle=True;, score=nan total time=   0.0s\n",
      "[CV 5/5] END alpha=0.0001, epsilon=0.1, fit_intercept=True, learning_rate=adaptive, random_state=42, shuffle=True;, score=nan total time=   0.0s\n",
      "[CV 1/5] END alpha=0.0001, epsilon=0.1, fit_intercept=True, learning_rate=adaptive, random_state=42, shuffle=False;, score=nan total time=   0.0s\n",
      "[CV 2/5] END alpha=0.0001, epsilon=0.1, fit_intercept=True, learning_rate=adaptive, random_state=42, shuffle=False;, score=nan total time=   0.0s\n",
      "[CV 3/5] END alpha=0.0001, epsilon=0.1, fit_intercept=True, learning_rate=adaptive, random_state=42, shuffle=False;, score=nan total time=   0.0s\n",
      "[CV 4/5] END alpha=0.0001, epsilon=0.1, fit_intercept=True, learning_rate=adaptive, random_state=42, shuffle=False;, score=nan total time=   0.0s\n",
      "[CV 5/5] END alpha=0.0001, epsilon=0.1, fit_intercept=True, learning_rate=adaptive, random_state=42, shuffle=False;, score=nan total time=   0.0s\n",
      "[CV 1/5] END alpha=0.0001, epsilon=0.1, fit_intercept=False, learning_rate=constant, random_state=42, shuffle=True;, score=nan total time=   0.0s\n",
      "[CV 2/5] END alpha=0.0001, epsilon=0.1, fit_intercept=False, learning_rate=constant, random_state=42, shuffle=True;, score=nan total time=   0.0s\n",
      "[CV 3/5] END alpha=0.0001, epsilon=0.1, fit_intercept=False, learning_rate=constant, random_state=42, shuffle=True;, score=nan total time=   0.0s\n",
      "[CV 4/5] END alpha=0.0001, epsilon=0.1, fit_intercept=False, learning_rate=constant, random_state=42, shuffle=True;, score=nan total time=   0.0s\n",
      "[CV 5/5] END alpha=0.0001, epsilon=0.1, fit_intercept=False, learning_rate=constant, random_state=42, shuffle=True;, score=nan total time=   0.0s\n",
      "[CV 1/5] END alpha=0.0001, epsilon=0.1, fit_intercept=False, learning_rate=constant, random_state=42, shuffle=False;, score=nan total time=   0.0s\n",
      "[CV 2/5] END alpha=0.0001, epsilon=0.1, fit_intercept=False, learning_rate=constant, random_state=42, shuffle=False;, score=nan total time=   0.0s\n",
      "[CV 3/5] END alpha=0.0001, epsilon=0.1, fit_intercept=False, learning_rate=constant, random_state=42, shuffle=False;, score=nan total time=   0.0s\n",
      "[CV 4/5] END alpha=0.0001, epsilon=0.1, fit_intercept=False, learning_rate=constant, random_state=42, shuffle=False;, score=nan total time=   0.0s\n",
      "[CV 5/5] END alpha=0.0001, epsilon=0.1, fit_intercept=False, learning_rate=constant, random_state=42, shuffle=False;, score=nan total time=   0.0s\n",
      "[CV 1/5] END alpha=0.0001, epsilon=0.1, fit_intercept=False, learning_rate=optimal, random_state=42, shuffle=True;, score=0.765 total time=   0.0s\n",
      "[CV 2/5] END alpha=0.0001, epsilon=0.1, fit_intercept=False, learning_rate=optimal, random_state=42, shuffle=True;, score=0.640 total time=   0.0s\n",
      "[CV 3/5] END alpha=0.0001, epsilon=0.1, fit_intercept=False, learning_rate=optimal, random_state=42, shuffle=True;, score=0.399 total time=   0.0s\n",
      "[CV 4/5] END alpha=0.0001, epsilon=0.1, fit_intercept=False, learning_rate=optimal, random_state=42, shuffle=True;, score=0.730 total time=   0.0s\n",
      "[CV 5/5] END alpha=0.0001, epsilon=0.1, fit_intercept=False, learning_rate=optimal, random_state=42, shuffle=True;, score=0.708 total time=   0.0s\n",
      "[CV 1/5] END alpha=0.0001, epsilon=0.1, fit_intercept=False, learning_rate=optimal, random_state=42, shuffle=False;, score=0.771 total time=   0.0s\n",
      "[CV 2/5] END alpha=0.0001, epsilon=0.1, fit_intercept=False, learning_rate=optimal, random_state=42, shuffle=False;, score=0.708 total time=   0.0s\n",
      "[CV 3/5] END alpha=0.0001, epsilon=0.1, fit_intercept=False, learning_rate=optimal, random_state=42, shuffle=False;, score=0.770 total time=   0.0s\n",
      "[CV 4/5] END alpha=0.0001, epsilon=0.1, fit_intercept=False, learning_rate=optimal, random_state=42, shuffle=False;, score=0.758 total time=   0.0s\n",
      "[CV 5/5] END alpha=0.0001, epsilon=0.1, fit_intercept=False, learning_rate=optimal, random_state=42, shuffle=False;, score=0.725 total time=   0.0s\n",
      "[CV 1/5] END alpha=0.0001, epsilon=0.1, fit_intercept=False, learning_rate=invscaling, random_state=42, shuffle=True;, score=nan total time=   0.0s\n",
      "[CV 2/5] END alpha=0.0001, epsilon=0.1, fit_intercept=False, learning_rate=invscaling, random_state=42, shuffle=True;, score=nan total time=   0.0s\n",
      "[CV 3/5] END alpha=0.0001, epsilon=0.1, fit_intercept=False, learning_rate=invscaling, random_state=42, shuffle=True;, score=nan total time=   0.0s\n",
      "[CV 4/5] END alpha=0.0001, epsilon=0.1, fit_intercept=False, learning_rate=invscaling, random_state=42, shuffle=True;, score=nan total time=   0.0s\n",
      "[CV 5/5] END alpha=0.0001, epsilon=0.1, fit_intercept=False, learning_rate=invscaling, random_state=42, shuffle=True;, score=nan total time=   0.0s\n",
      "[CV 1/5] END alpha=0.0001, epsilon=0.1, fit_intercept=False, learning_rate=invscaling, random_state=42, shuffle=False;, score=nan total time=   0.0s\n",
      "[CV 2/5] END alpha=0.0001, epsilon=0.1, fit_intercept=False, learning_rate=invscaling, random_state=42, shuffle=False;, score=nan total time=   0.0s\n",
      "[CV 3/5] END alpha=0.0001, epsilon=0.1, fit_intercept=False, learning_rate=invscaling, random_state=42, shuffle=False;, score=nan total time=   0.0s\n",
      "[CV 4/5] END alpha=0.0001, epsilon=0.1, fit_intercept=False, learning_rate=invscaling, random_state=42, shuffle=False;, score=nan total time=   0.0s\n",
      "[CV 5/5] END alpha=0.0001, epsilon=0.1, fit_intercept=False, learning_rate=invscaling, random_state=42, shuffle=False;, score=nan total time=   0.0s\n",
      "[CV 1/5] END alpha=0.0001, epsilon=0.1, fit_intercept=False, learning_rate=adaptive, random_state=42, shuffle=True;, score=nan total time=   0.0s\n",
      "[CV 2/5] END alpha=0.0001, epsilon=0.1, fit_intercept=False, learning_rate=adaptive, random_state=42, shuffle=True;, score=nan total time=   0.0s\n",
      "[CV 3/5] END alpha=0.0001, epsilon=0.1, fit_intercept=False, learning_rate=adaptive, random_state=42, shuffle=True;, score=nan total time=   0.0s\n",
      "[CV 4/5] END alpha=0.0001, epsilon=0.1, fit_intercept=False, learning_rate=adaptive, random_state=42, shuffle=True;, score=nan total time=   0.0s\n"
     ]
    },
    {
     "name": "stdout",
     "output_type": "stream",
     "text": [
      "[CV 5/5] END alpha=0.0001, epsilon=0.1, fit_intercept=False, learning_rate=adaptive, random_state=42, shuffle=True;, score=nan total time=   0.0s\n",
      "[CV 1/5] END alpha=0.0001, epsilon=0.1, fit_intercept=False, learning_rate=adaptive, random_state=42, shuffle=False;, score=nan total time=   0.0s\n",
      "[CV 2/5] END alpha=0.0001, epsilon=0.1, fit_intercept=False, learning_rate=adaptive, random_state=42, shuffle=False;, score=nan total time=   0.0s\n",
      "[CV 3/5] END alpha=0.0001, epsilon=0.1, fit_intercept=False, learning_rate=adaptive, random_state=42, shuffle=False;, score=nan total time=   0.0s\n",
      "[CV 4/5] END alpha=0.0001, epsilon=0.1, fit_intercept=False, learning_rate=adaptive, random_state=42, shuffle=False;, score=nan total time=   0.0s\n",
      "[CV 5/5] END alpha=0.0001, epsilon=0.1, fit_intercept=False, learning_rate=adaptive, random_state=42, shuffle=False;, score=nan total time=   0.0s\n",
      "[CV 1/5] END alpha=0.001, epsilon=0.001, fit_intercept=True, learning_rate=constant, random_state=42, shuffle=True;, score=nan total time=   0.0s\n",
      "[CV 2/5] END alpha=0.001, epsilon=0.001, fit_intercept=True, learning_rate=constant, random_state=42, shuffle=True;, score=nan total time=   0.0s\n",
      "[CV 3/5] END alpha=0.001, epsilon=0.001, fit_intercept=True, learning_rate=constant, random_state=42, shuffle=True;, score=nan total time=   0.0s\n",
      "[CV 4/5] END alpha=0.001, epsilon=0.001, fit_intercept=True, learning_rate=constant, random_state=42, shuffle=True;, score=nan total time=   0.0s\n",
      "[CV 5/5] END alpha=0.001, epsilon=0.001, fit_intercept=True, learning_rate=constant, random_state=42, shuffle=True;, score=nan total time=   0.0s\n",
      "[CV 1/5] END alpha=0.001, epsilon=0.001, fit_intercept=True, learning_rate=constant, random_state=42, shuffle=False;, score=nan total time=   0.0s\n",
      "[CV 2/5] END alpha=0.001, epsilon=0.001, fit_intercept=True, learning_rate=constant, random_state=42, shuffle=False;, score=nan total time=   0.0s\n",
      "[CV 3/5] END alpha=0.001, epsilon=0.001, fit_intercept=True, learning_rate=constant, random_state=42, shuffle=False;, score=nan total time=   0.0s\n",
      "[CV 4/5] END alpha=0.001, epsilon=0.001, fit_intercept=True, learning_rate=constant, random_state=42, shuffle=False;, score=nan total time=   0.0s\n",
      "[CV 5/5] END alpha=0.001, epsilon=0.001, fit_intercept=True, learning_rate=constant, random_state=42, shuffle=False;, score=nan total time=   0.0s\n",
      "[CV 1/5] END alpha=0.001, epsilon=0.001, fit_intercept=True, learning_rate=optimal, random_state=42, shuffle=True;, score=0.592 total time=   0.0s\n",
      "[CV 2/5] END alpha=0.001, epsilon=0.001, fit_intercept=True, learning_rate=optimal, random_state=42, shuffle=True;, score=0.618 total time=   0.0s\n",
      "[CV 3/5] END alpha=0.001, epsilon=0.001, fit_intercept=True, learning_rate=optimal, random_state=42, shuffle=True;, score=0.787 total time=   0.0s\n",
      "[CV 4/5] END alpha=0.001, epsilon=0.001, fit_intercept=True, learning_rate=optimal, random_state=42, shuffle=True;, score=0.775 total time=   0.0s\n",
      "[CV 5/5] END alpha=0.001, epsilon=0.001, fit_intercept=True, learning_rate=optimal, random_state=42, shuffle=True;, score=0.764 total time=   0.0s\n",
      "[CV 1/5] END alpha=0.001, epsilon=0.001, fit_intercept=True, learning_rate=optimal, random_state=42, shuffle=False;, score=0.782 total time=   0.0s\n",
      "[CV 2/5] END alpha=0.001, epsilon=0.001, fit_intercept=True, learning_rate=optimal, random_state=42, shuffle=False;, score=0.742 total time=   0.0s\n",
      "[CV 3/5] END alpha=0.001, epsilon=0.001, fit_intercept=True, learning_rate=optimal, random_state=42, shuffle=False;, score=0.764 total time=   0.0s\n",
      "[CV 4/5] END alpha=0.001, epsilon=0.001, fit_intercept=True, learning_rate=optimal, random_state=42, shuffle=False;, score=0.764 total time=   0.0s\n",
      "[CV 5/5] END alpha=0.001, epsilon=0.001, fit_intercept=True, learning_rate=optimal, random_state=42, shuffle=False;, score=0.770 total time=   0.0s\n",
      "[CV 1/5] END alpha=0.001, epsilon=0.001, fit_intercept=True, learning_rate=invscaling, random_state=42, shuffle=True;, score=nan total time=   0.0s\n",
      "[CV 2/5] END alpha=0.001, epsilon=0.001, fit_intercept=True, learning_rate=invscaling, random_state=42, shuffle=True;, score=nan total time=   0.0s\n",
      "[CV 3/5] END alpha=0.001, epsilon=0.001, fit_intercept=True, learning_rate=invscaling, random_state=42, shuffle=True;, score=nan total time=   0.0s\n",
      "[CV 4/5] END alpha=0.001, epsilon=0.001, fit_intercept=True, learning_rate=invscaling, random_state=42, shuffle=True;, score=nan total time=   0.0s\n",
      "[CV 5/5] END alpha=0.001, epsilon=0.001, fit_intercept=True, learning_rate=invscaling, random_state=42, shuffle=True;, score=nan total time=   0.0s\n",
      "[CV 1/5] END alpha=0.001, epsilon=0.001, fit_intercept=True, learning_rate=invscaling, random_state=42, shuffle=False;, score=nan total time=   0.0s\n",
      "[CV 2/5] END alpha=0.001, epsilon=0.001, fit_intercept=True, learning_rate=invscaling, random_state=42, shuffle=False;, score=nan total time=   0.0s\n",
      "[CV 3/5] END alpha=0.001, epsilon=0.001, fit_intercept=True, learning_rate=invscaling, random_state=42, shuffle=False;, score=nan total time=   0.0s\n",
      "[CV 4/5] END alpha=0.001, epsilon=0.001, fit_intercept=True, learning_rate=invscaling, random_state=42, shuffle=False;, score=nan total time=   0.0s\n",
      "[CV 5/5] END alpha=0.001, epsilon=0.001, fit_intercept=True, learning_rate=invscaling, random_state=42, shuffle=False;, score=nan total time=   0.0s\n",
      "[CV 1/5] END alpha=0.001, epsilon=0.001, fit_intercept=True, learning_rate=adaptive, random_state=42, shuffle=True;, score=nan total time=   0.0s\n",
      "[CV 2/5] END alpha=0.001, epsilon=0.001, fit_intercept=True, learning_rate=adaptive, random_state=42, shuffle=True;, score=nan total time=   0.0s\n",
      "[CV 3/5] END alpha=0.001, epsilon=0.001, fit_intercept=True, learning_rate=adaptive, random_state=42, shuffle=True;, score=nan total time=   0.0s\n",
      "[CV 4/5] END alpha=0.001, epsilon=0.001, fit_intercept=True, learning_rate=adaptive, random_state=42, shuffle=True;, score=nan total time=   0.0s\n",
      "[CV 5/5] END alpha=0.001, epsilon=0.001, fit_intercept=True, learning_rate=adaptive, random_state=42, shuffle=True;, score=nan total time=   0.0s\n",
      "[CV 1/5] END alpha=0.001, epsilon=0.001, fit_intercept=True, learning_rate=adaptive, random_state=42, shuffle=False;, score=nan total time=   0.0s\n",
      "[CV 2/5] END alpha=0.001, epsilon=0.001, fit_intercept=True, learning_rate=adaptive, random_state=42, shuffle=False;, score=nan total time=   0.0s\n",
      "[CV 3/5] END alpha=0.001, epsilon=0.001, fit_intercept=True, learning_rate=adaptive, random_state=42, shuffle=False;, score=nan total time=   0.0s\n",
      "[CV 4/5] END alpha=0.001, epsilon=0.001, fit_intercept=True, learning_rate=adaptive, random_state=42, shuffle=False;, score=nan total time=   0.0s\n",
      "[CV 5/5] END alpha=0.001, epsilon=0.001, fit_intercept=True, learning_rate=adaptive, random_state=42, shuffle=False;, score=nan total time=   0.0s\n",
      "[CV 1/5] END alpha=0.001, epsilon=0.001, fit_intercept=False, learning_rate=constant, random_state=42, shuffle=True;, score=nan total time=   0.0s\n",
      "[CV 2/5] END alpha=0.001, epsilon=0.001, fit_intercept=False, learning_rate=constant, random_state=42, shuffle=True;, score=nan total time=   0.0s\n",
      "[CV 3/5] END alpha=0.001, epsilon=0.001, fit_intercept=False, learning_rate=constant, random_state=42, shuffle=True;, score=nan total time=   0.0s\n",
      "[CV 4/5] END alpha=0.001, epsilon=0.001, fit_intercept=False, learning_rate=constant, random_state=42, shuffle=True;, score=nan total time=   0.0s\n",
      "[CV 5/5] END alpha=0.001, epsilon=0.001, fit_intercept=False, learning_rate=constant, random_state=42, shuffle=True;, score=nan total time=   0.0s\n",
      "[CV 1/5] END alpha=0.001, epsilon=0.001, fit_intercept=False, learning_rate=constant, random_state=42, shuffle=False;, score=nan total time=   0.0s\n",
      "[CV 2/5] END alpha=0.001, epsilon=0.001, fit_intercept=False, learning_rate=constant, random_state=42, shuffle=False;, score=nan total time=   0.0s\n",
      "[CV 3/5] END alpha=0.001, epsilon=0.001, fit_intercept=False, learning_rate=constant, random_state=42, shuffle=False;, score=nan total time=   0.0s\n",
      "[CV 4/5] END alpha=0.001, epsilon=0.001, fit_intercept=False, learning_rate=constant, random_state=42, shuffle=False;, score=nan total time=   0.0s\n",
      "[CV 5/5] END alpha=0.001, epsilon=0.001, fit_intercept=False, learning_rate=constant, random_state=42, shuffle=False;, score=nan total time=   0.0s\n",
      "[CV 1/5] END alpha=0.001, epsilon=0.001, fit_intercept=False, learning_rate=optimal, random_state=42, shuffle=True;, score=0.737 total time=   0.0s\n",
      "[CV 2/5] END alpha=0.001, epsilon=0.001, fit_intercept=False, learning_rate=optimal, random_state=42, shuffle=True;, score=0.360 total time=   0.0s\n",
      "[CV 3/5] END alpha=0.001, epsilon=0.001, fit_intercept=False, learning_rate=optimal, random_state=42, shuffle=True;, score=0.685 total time=   0.0s\n",
      "[CV 4/5] END alpha=0.001, epsilon=0.001, fit_intercept=False, learning_rate=optimal, random_state=42, shuffle=True;, score=0.787 total time=   0.0s\n"
     ]
    },
    {
     "name": "stdout",
     "output_type": "stream",
     "text": [
      "[CV 5/5] END alpha=0.001, epsilon=0.001, fit_intercept=False, learning_rate=optimal, random_state=42, shuffle=True;, score=0.730 total time=   0.0s\n",
      "[CV 1/5] END alpha=0.001, epsilon=0.001, fit_intercept=False, learning_rate=optimal, random_state=42, shuffle=False;, score=0.715 total time=   0.0s\n",
      "[CV 2/5] END alpha=0.001, epsilon=0.001, fit_intercept=False, learning_rate=optimal, random_state=42, shuffle=False;, score=0.787 total time=   0.0s\n",
      "[CV 3/5] END alpha=0.001, epsilon=0.001, fit_intercept=False, learning_rate=optimal, random_state=42, shuffle=False;, score=0.725 total time=   0.0s\n",
      "[CV 4/5] END alpha=0.001, epsilon=0.001, fit_intercept=False, learning_rate=optimal, random_state=42, shuffle=False;, score=0.753 total time=   0.0s\n",
      "[CV 5/5] END alpha=0.001, epsilon=0.001, fit_intercept=False, learning_rate=optimal, random_state=42, shuffle=False;, score=0.742 total time=   0.0s\n",
      "[CV 1/5] END alpha=0.001, epsilon=0.001, fit_intercept=False, learning_rate=invscaling, random_state=42, shuffle=True;, score=nan total time=   0.0s\n",
      "[CV 2/5] END alpha=0.001, epsilon=0.001, fit_intercept=False, learning_rate=invscaling, random_state=42, shuffle=True;, score=nan total time=   0.0s\n",
      "[CV 3/5] END alpha=0.001, epsilon=0.001, fit_intercept=False, learning_rate=invscaling, random_state=42, shuffle=True;, score=nan total time=   0.0s\n",
      "[CV 4/5] END alpha=0.001, epsilon=0.001, fit_intercept=False, learning_rate=invscaling, random_state=42, shuffle=True;, score=nan total time=   0.0s\n",
      "[CV 5/5] END alpha=0.001, epsilon=0.001, fit_intercept=False, learning_rate=invscaling, random_state=42, shuffle=True;, score=nan total time=   0.0s\n",
      "[CV 1/5] END alpha=0.001, epsilon=0.001, fit_intercept=False, learning_rate=invscaling, random_state=42, shuffle=False;, score=nan total time=   0.0s\n",
      "[CV 2/5] END alpha=0.001, epsilon=0.001, fit_intercept=False, learning_rate=invscaling, random_state=42, shuffle=False;, score=nan total time=   0.0s\n",
      "[CV 3/5] END alpha=0.001, epsilon=0.001, fit_intercept=False, learning_rate=invscaling, random_state=42, shuffle=False;, score=nan total time=   0.0s\n",
      "[CV 4/5] END alpha=0.001, epsilon=0.001, fit_intercept=False, learning_rate=invscaling, random_state=42, shuffle=False;, score=nan total time=   0.0s\n",
      "[CV 5/5] END alpha=0.001, epsilon=0.001, fit_intercept=False, learning_rate=invscaling, random_state=42, shuffle=False;, score=nan total time=   0.0s\n",
      "[CV 1/5] END alpha=0.001, epsilon=0.001, fit_intercept=False, learning_rate=adaptive, random_state=42, shuffle=True;, score=nan total time=   0.0s\n",
      "[CV 2/5] END alpha=0.001, epsilon=0.001, fit_intercept=False, learning_rate=adaptive, random_state=42, shuffle=True;, score=nan total time=   0.0s\n",
      "[CV 3/5] END alpha=0.001, epsilon=0.001, fit_intercept=False, learning_rate=adaptive, random_state=42, shuffle=True;, score=nan total time=   0.0s\n",
      "[CV 4/5] END alpha=0.001, epsilon=0.001, fit_intercept=False, learning_rate=adaptive, random_state=42, shuffle=True;, score=nan total time=   0.0s\n",
      "[CV 5/5] END alpha=0.001, epsilon=0.001, fit_intercept=False, learning_rate=adaptive, random_state=42, shuffle=True;, score=nan total time=   0.0s\n",
      "[CV 1/5] END alpha=0.001, epsilon=0.001, fit_intercept=False, learning_rate=adaptive, random_state=42, shuffle=False;, score=nan total time=   0.0s\n",
      "[CV 2/5] END alpha=0.001, epsilon=0.001, fit_intercept=False, learning_rate=adaptive, random_state=42, shuffle=False;, score=nan total time=   0.0s\n",
      "[CV 3/5] END alpha=0.001, epsilon=0.001, fit_intercept=False, learning_rate=adaptive, random_state=42, shuffle=False;, score=nan total time=   0.0s\n",
      "[CV 4/5] END alpha=0.001, epsilon=0.001, fit_intercept=False, learning_rate=adaptive, random_state=42, shuffle=False;, score=nan total time=   0.0s\n",
      "[CV 5/5] END alpha=0.001, epsilon=0.001, fit_intercept=False, learning_rate=adaptive, random_state=42, shuffle=False;, score=nan total time=   0.0s\n",
      "[CV 1/5] END alpha=0.001, epsilon=0.01, fit_intercept=True, learning_rate=constant, random_state=42, shuffle=True;, score=nan total time=   0.0s\n",
      "[CV 2/5] END alpha=0.001, epsilon=0.01, fit_intercept=True, learning_rate=constant, random_state=42, shuffle=True;, score=nan total time=   0.0s\n",
      "[CV 3/5] END alpha=0.001, epsilon=0.01, fit_intercept=True, learning_rate=constant, random_state=42, shuffle=True;, score=nan total time=   0.0s\n",
      "[CV 4/5] END alpha=0.001, epsilon=0.01, fit_intercept=True, learning_rate=constant, random_state=42, shuffle=True;, score=nan total time=   0.0s\n",
      "[CV 5/5] END alpha=0.001, epsilon=0.01, fit_intercept=True, learning_rate=constant, random_state=42, shuffle=True;, score=nan total time=   0.0s\n",
      "[CV 1/5] END alpha=0.001, epsilon=0.01, fit_intercept=True, learning_rate=constant, random_state=42, shuffle=False;, score=nan total time=   0.0s\n",
      "[CV 2/5] END alpha=0.001, epsilon=0.01, fit_intercept=True, learning_rate=constant, random_state=42, shuffle=False;, score=nan total time=   0.0s\n",
      "[CV 3/5] END alpha=0.001, epsilon=0.01, fit_intercept=True, learning_rate=constant, random_state=42, shuffle=False;, score=nan total time=   0.0s\n",
      "[CV 4/5] END alpha=0.001, epsilon=0.01, fit_intercept=True, learning_rate=constant, random_state=42, shuffle=False;, score=nan total time=   0.0s\n",
      "[CV 5/5] END alpha=0.001, epsilon=0.01, fit_intercept=True, learning_rate=constant, random_state=42, shuffle=False;, score=nan total time=   0.0s\n",
      "[CV 1/5] END alpha=0.001, epsilon=0.01, fit_intercept=True, learning_rate=optimal, random_state=42, shuffle=True;, score=0.592 total time=   0.0s\n",
      "[CV 2/5] END alpha=0.001, epsilon=0.01, fit_intercept=True, learning_rate=optimal, random_state=42, shuffle=True;, score=0.618 total time=   0.0s\n",
      "[CV 3/5] END alpha=0.001, epsilon=0.01, fit_intercept=True, learning_rate=optimal, random_state=42, shuffle=True;, score=0.787 total time=   0.0s\n",
      "[CV 4/5] END alpha=0.001, epsilon=0.01, fit_intercept=True, learning_rate=optimal, random_state=42, shuffle=True;, score=0.775 total time=   0.0s\n",
      "[CV 5/5] END alpha=0.001, epsilon=0.01, fit_intercept=True, learning_rate=optimal, random_state=42, shuffle=True;, score=0.764 total time=   0.0s\n",
      "[CV 1/5] END alpha=0.001, epsilon=0.01, fit_intercept=True, learning_rate=optimal, random_state=42, shuffle=False;, score=0.782 total time=   0.0s\n",
      "[CV 2/5] END alpha=0.001, epsilon=0.01, fit_intercept=True, learning_rate=optimal, random_state=42, shuffle=False;, score=0.742 total time=   0.0s\n",
      "[CV 3/5] END alpha=0.001, epsilon=0.01, fit_intercept=True, learning_rate=optimal, random_state=42, shuffle=False;, score=0.764 total time=   0.0s\n",
      "[CV 4/5] END alpha=0.001, epsilon=0.01, fit_intercept=True, learning_rate=optimal, random_state=42, shuffle=False;, score=0.764 total time=   0.0s\n",
      "[CV 5/5] END alpha=0.001, epsilon=0.01, fit_intercept=True, learning_rate=optimal, random_state=42, shuffle=False;, score=0.770 total time=   0.0s\n",
      "[CV 1/5] END alpha=0.001, epsilon=0.01, fit_intercept=True, learning_rate=invscaling, random_state=42, shuffle=True;, score=nan total time=   0.0s\n",
      "[CV 2/5] END alpha=0.001, epsilon=0.01, fit_intercept=True, learning_rate=invscaling, random_state=42, shuffle=True;, score=nan total time=   0.0s\n",
      "[CV 3/5] END alpha=0.001, epsilon=0.01, fit_intercept=True, learning_rate=invscaling, random_state=42, shuffle=True;, score=nan total time=   0.0s\n",
      "[CV 4/5] END alpha=0.001, epsilon=0.01, fit_intercept=True, learning_rate=invscaling, random_state=42, shuffle=True;, score=nan total time=   0.0s\n",
      "[CV 5/5] END alpha=0.001, epsilon=0.01, fit_intercept=True, learning_rate=invscaling, random_state=42, shuffle=True;, score=nan total time=   0.0s\n",
      "[CV 1/5] END alpha=0.001, epsilon=0.01, fit_intercept=True, learning_rate=invscaling, random_state=42, shuffle=False;, score=nan total time=   0.0s\n",
      "[CV 2/5] END alpha=0.001, epsilon=0.01, fit_intercept=True, learning_rate=invscaling, random_state=42, shuffle=False;, score=nan total time=   0.0s\n",
      "[CV 3/5] END alpha=0.001, epsilon=0.01, fit_intercept=True, learning_rate=invscaling, random_state=42, shuffle=False;, score=nan total time=   0.0s\n",
      "[CV 4/5] END alpha=0.001, epsilon=0.01, fit_intercept=True, learning_rate=invscaling, random_state=42, shuffle=False;, score=nan total time=   0.0s\n",
      "[CV 5/5] END alpha=0.001, epsilon=0.01, fit_intercept=True, learning_rate=invscaling, random_state=42, shuffle=False;, score=nan total time=   0.0s\n",
      "[CV 1/5] END alpha=0.001, epsilon=0.01, fit_intercept=True, learning_rate=adaptive, random_state=42, shuffle=True;, score=nan total time=   0.0s\n",
      "[CV 2/5] END alpha=0.001, epsilon=0.01, fit_intercept=True, learning_rate=adaptive, random_state=42, shuffle=True;, score=nan total time=   0.0s\n",
      "[CV 3/5] END alpha=0.001, epsilon=0.01, fit_intercept=True, learning_rate=adaptive, random_state=42, shuffle=True;, score=nan total time=   0.0s\n",
      "[CV 4/5] END alpha=0.001, epsilon=0.01, fit_intercept=True, learning_rate=adaptive, random_state=42, shuffle=True;, score=nan total time=   0.0s\n",
      "[CV 5/5] END alpha=0.001, epsilon=0.01, fit_intercept=True, learning_rate=adaptive, random_state=42, shuffle=True;, score=nan total time=   0.0s\n",
      "[CV 1/5] END alpha=0.001, epsilon=0.01, fit_intercept=True, learning_rate=adaptive, random_state=42, shuffle=False;, score=nan total time=   0.0s\n",
      "[CV 2/5] END alpha=0.001, epsilon=0.01, fit_intercept=True, learning_rate=adaptive, random_state=42, shuffle=False;, score=nan total time=   0.0s\n",
      "[CV 3/5] END alpha=0.001, epsilon=0.01, fit_intercept=True, learning_rate=adaptive, random_state=42, shuffle=False;, score=nan total time=   0.0s\n",
      "[CV 4/5] END alpha=0.001, epsilon=0.01, fit_intercept=True, learning_rate=adaptive, random_state=42, shuffle=False;, score=nan total time=   0.0s\n",
      "[CV 5/5] END alpha=0.001, epsilon=0.01, fit_intercept=True, learning_rate=adaptive, random_state=42, shuffle=False;, score=nan total time=   0.0s\n",
      "[CV 1/5] END alpha=0.001, epsilon=0.01, fit_intercept=False, learning_rate=constant, random_state=42, shuffle=True;, score=nan total time=   0.0s\n",
      "[CV 2/5] END alpha=0.001, epsilon=0.01, fit_intercept=False, learning_rate=constant, random_state=42, shuffle=True;, score=nan total time=   0.0s\n",
      "[CV 3/5] END alpha=0.001, epsilon=0.01, fit_intercept=False, learning_rate=constant, random_state=42, shuffle=True;, score=nan total time=   0.0s\n",
      "[CV 4/5] END alpha=0.001, epsilon=0.01, fit_intercept=False, learning_rate=constant, random_state=42, shuffle=True;, score=nan total time=   0.0s\n",
      "[CV 5/5] END alpha=0.001, epsilon=0.01, fit_intercept=False, learning_rate=constant, random_state=42, shuffle=True;, score=nan total time=   0.0s\n",
      "[CV 1/5] END alpha=0.001, epsilon=0.01, fit_intercept=False, learning_rate=constant, random_state=42, shuffle=False;, score=nan total time=   0.0s\n",
      "[CV 2/5] END alpha=0.001, epsilon=0.01, fit_intercept=False, learning_rate=constant, random_state=42, shuffle=False;, score=nan total time=   0.0s\n",
      "[CV 3/5] END alpha=0.001, epsilon=0.01, fit_intercept=False, learning_rate=constant, random_state=42, shuffle=False;, score=nan total time=   0.0s\n",
      "[CV 4/5] END alpha=0.001, epsilon=0.01, fit_intercept=False, learning_rate=constant, random_state=42, shuffle=False;, score=nan total time=   0.0s\n",
      "[CV 5/5] END alpha=0.001, epsilon=0.01, fit_intercept=False, learning_rate=constant, random_state=42, shuffle=False;, score=nan total time=   0.0s\n",
      "[CV 1/5] END alpha=0.001, epsilon=0.01, fit_intercept=False, learning_rate=optimal, random_state=42, shuffle=True;, score=0.737 total time=   0.0s\n",
      "[CV 2/5] END alpha=0.001, epsilon=0.01, fit_intercept=False, learning_rate=optimal, random_state=42, shuffle=True;, score=0.360 total time=   0.0s\n",
      "[CV 3/5] END alpha=0.001, epsilon=0.01, fit_intercept=False, learning_rate=optimal, random_state=42, shuffle=True;, score=0.685 total time=   0.0s\n",
      "[CV 4/5] END alpha=0.001, epsilon=0.01, fit_intercept=False, learning_rate=optimal, random_state=42, shuffle=True;, score=0.787 total time=   0.0s\n",
      "[CV 5/5] END alpha=0.001, epsilon=0.01, fit_intercept=False, learning_rate=optimal, random_state=42, shuffle=True;, score=0.730 total time=   0.0s\n",
      "[CV 1/5] END alpha=0.001, epsilon=0.01, fit_intercept=False, learning_rate=optimal, random_state=42, shuffle=False;, score=0.715 total time=   0.0s\n",
      "[CV 2/5] END alpha=0.001, epsilon=0.01, fit_intercept=False, learning_rate=optimal, random_state=42, shuffle=False;, score=0.787 total time=   0.0s\n"
     ]
    },
    {
     "name": "stdout",
     "output_type": "stream",
     "text": [
      "[CV 3/5] END alpha=0.001, epsilon=0.01, fit_intercept=False, learning_rate=optimal, random_state=42, shuffle=False;, score=0.725 total time=   0.0s\n",
      "[CV 4/5] END alpha=0.001, epsilon=0.01, fit_intercept=False, learning_rate=optimal, random_state=42, shuffle=False;, score=0.753 total time=   0.0s\n",
      "[CV 5/5] END alpha=0.001, epsilon=0.01, fit_intercept=False, learning_rate=optimal, random_state=42, shuffle=False;, score=0.742 total time=   0.0s\n",
      "[CV 1/5] END alpha=0.001, epsilon=0.01, fit_intercept=False, learning_rate=invscaling, random_state=42, shuffle=True;, score=nan total time=   0.0s\n",
      "[CV 2/5] END alpha=0.001, epsilon=0.01, fit_intercept=False, learning_rate=invscaling, random_state=42, shuffle=True;, score=nan total time=   0.0s\n",
      "[CV 3/5] END alpha=0.001, epsilon=0.01, fit_intercept=False, learning_rate=invscaling, random_state=42, shuffle=True;, score=nan total time=   0.0s\n",
      "[CV 4/5] END alpha=0.001, epsilon=0.01, fit_intercept=False, learning_rate=invscaling, random_state=42, shuffle=True;, score=nan total time=   0.0s\n",
      "[CV 5/5] END alpha=0.001, epsilon=0.01, fit_intercept=False, learning_rate=invscaling, random_state=42, shuffle=True;, score=nan total time=   0.0s\n",
      "[CV 1/5] END alpha=0.001, epsilon=0.01, fit_intercept=False, learning_rate=invscaling, random_state=42, shuffle=False;, score=nan total time=   0.0s\n",
      "[CV 2/5] END alpha=0.001, epsilon=0.01, fit_intercept=False, learning_rate=invscaling, random_state=42, shuffle=False;, score=nan total time=   0.0s\n",
      "[CV 3/5] END alpha=0.001, epsilon=0.01, fit_intercept=False, learning_rate=invscaling, random_state=42, shuffle=False;, score=nan total time=   0.0s\n",
      "[CV 4/5] END alpha=0.001, epsilon=0.01, fit_intercept=False, learning_rate=invscaling, random_state=42, shuffle=False;, score=nan total time=   0.0s\n",
      "[CV 5/5] END alpha=0.001, epsilon=0.01, fit_intercept=False, learning_rate=invscaling, random_state=42, shuffle=False;, score=nan total time=   0.0s\n",
      "[CV 1/5] END alpha=0.001, epsilon=0.01, fit_intercept=False, learning_rate=adaptive, random_state=42, shuffle=True;, score=nan total time=   0.0s\n",
      "[CV 2/5] END alpha=0.001, epsilon=0.01, fit_intercept=False, learning_rate=adaptive, random_state=42, shuffle=True;, score=nan total time=   0.0s\n",
      "[CV 3/5] END alpha=0.001, epsilon=0.01, fit_intercept=False, learning_rate=adaptive, random_state=42, shuffle=True;, score=nan total time=   0.0s\n",
      "[CV 4/5] END alpha=0.001, epsilon=0.01, fit_intercept=False, learning_rate=adaptive, random_state=42, shuffle=True;, score=nan total time=   0.0s\n",
      "[CV 5/5] END alpha=0.001, epsilon=0.01, fit_intercept=False, learning_rate=adaptive, random_state=42, shuffle=True;, score=nan total time=   0.0s\n",
      "[CV 1/5] END alpha=0.001, epsilon=0.01, fit_intercept=False, learning_rate=adaptive, random_state=42, shuffle=False;, score=nan total time=   0.0s\n",
      "[CV 2/5] END alpha=0.001, epsilon=0.01, fit_intercept=False, learning_rate=adaptive, random_state=42, shuffle=False;, score=nan total time=   0.0s\n",
      "[CV 3/5] END alpha=0.001, epsilon=0.01, fit_intercept=False, learning_rate=adaptive, random_state=42, shuffle=False;, score=nan total time=   0.0s\n",
      "[CV 4/5] END alpha=0.001, epsilon=0.01, fit_intercept=False, learning_rate=adaptive, random_state=42, shuffle=False;, score=nan total time=   0.0s\n",
      "[CV 5/5] END alpha=0.001, epsilon=0.01, fit_intercept=False, learning_rate=adaptive, random_state=42, shuffle=False;, score=nan total time=   0.0s\n",
      "[CV 1/5] END alpha=0.001, epsilon=0.1, fit_intercept=True, learning_rate=constant, random_state=42, shuffle=True;, score=nan total time=   0.0s\n",
      "[CV 2/5] END alpha=0.001, epsilon=0.1, fit_intercept=True, learning_rate=constant, random_state=42, shuffle=True;, score=nan total time=   0.0s\n",
      "[CV 3/5] END alpha=0.001, epsilon=0.1, fit_intercept=True, learning_rate=constant, random_state=42, shuffle=True;, score=nan total time=   0.0s\n",
      "[CV 4/5] END alpha=0.001, epsilon=0.1, fit_intercept=True, learning_rate=constant, random_state=42, shuffle=True;, score=nan total time=   0.0s\n",
      "[CV 5/5] END alpha=0.001, epsilon=0.1, fit_intercept=True, learning_rate=constant, random_state=42, shuffle=True;, score=nan total time=   0.0s\n",
      "[CV 1/5] END alpha=0.001, epsilon=0.1, fit_intercept=True, learning_rate=constant, random_state=42, shuffle=False;, score=nan total time=   0.0s\n",
      "[CV 2/5] END alpha=0.001, epsilon=0.1, fit_intercept=True, learning_rate=constant, random_state=42, shuffle=False;, score=nan total time=   0.0s\n",
      "[CV 3/5] END alpha=0.001, epsilon=0.1, fit_intercept=True, learning_rate=constant, random_state=42, shuffle=False;, score=nan total time=   0.0s\n",
      "[CV 4/5] END alpha=0.001, epsilon=0.1, fit_intercept=True, learning_rate=constant, random_state=42, shuffle=False;, score=nan total time=   0.0s\n",
      "[CV 5/5] END alpha=0.001, epsilon=0.1, fit_intercept=True, learning_rate=constant, random_state=42, shuffle=False;, score=nan total time=   0.0s\n",
      "[CV 1/5] END alpha=0.001, epsilon=0.1, fit_intercept=True, learning_rate=optimal, random_state=42, shuffle=True;, score=0.592 total time=   0.0s\n",
      "[CV 2/5] END alpha=0.001, epsilon=0.1, fit_intercept=True, learning_rate=optimal, random_state=42, shuffle=True;, score=0.618 total time=   0.0s\n",
      "[CV 3/5] END alpha=0.001, epsilon=0.1, fit_intercept=True, learning_rate=optimal, random_state=42, shuffle=True;, score=0.787 total time=   0.0s\n",
      "[CV 4/5] END alpha=0.001, epsilon=0.1, fit_intercept=True, learning_rate=optimal, random_state=42, shuffle=True;, score=0.775 total time=   0.0s\n",
      "[CV 5/5] END alpha=0.001, epsilon=0.1, fit_intercept=True, learning_rate=optimal, random_state=42, shuffle=True;, score=0.764 total time=   0.0s\n",
      "[CV 1/5] END alpha=0.001, epsilon=0.1, fit_intercept=True, learning_rate=optimal, random_state=42, shuffle=False;, score=0.782 total time=   0.0s\n",
      "[CV 2/5] END alpha=0.001, epsilon=0.1, fit_intercept=True, learning_rate=optimal, random_state=42, shuffle=False;, score=0.742 total time=   0.0s\n",
      "[CV 3/5] END alpha=0.001, epsilon=0.1, fit_intercept=True, learning_rate=optimal, random_state=42, shuffle=False;, score=0.764 total time=   0.0s\n",
      "[CV 4/5] END alpha=0.001, epsilon=0.1, fit_intercept=True, learning_rate=optimal, random_state=42, shuffle=False;, score=0.764 total time=   0.0s\n",
      "[CV 5/5] END alpha=0.001, epsilon=0.1, fit_intercept=True, learning_rate=optimal, random_state=42, shuffle=False;, score=0.770 total time=   0.0s\n",
      "[CV 1/5] END alpha=0.001, epsilon=0.1, fit_intercept=True, learning_rate=invscaling, random_state=42, shuffle=True;, score=nan total time=   0.0s\n",
      "[CV 2/5] END alpha=0.001, epsilon=0.1, fit_intercept=True, learning_rate=invscaling, random_state=42, shuffle=True;, score=nan total time=   0.0s\n",
      "[CV 3/5] END alpha=0.001, epsilon=0.1, fit_intercept=True, learning_rate=invscaling, random_state=42, shuffle=True;, score=nan total time=   0.0s\n",
      "[CV 4/5] END alpha=0.001, epsilon=0.1, fit_intercept=True, learning_rate=invscaling, random_state=42, shuffle=True;, score=nan total time=   0.0s\n",
      "[CV 5/5] END alpha=0.001, epsilon=0.1, fit_intercept=True, learning_rate=invscaling, random_state=42, shuffle=True;, score=nan total time=   0.0s\n",
      "[CV 1/5] END alpha=0.001, epsilon=0.1, fit_intercept=True, learning_rate=invscaling, random_state=42, shuffle=False;, score=nan total time=   0.0s\n",
      "[CV 2/5] END alpha=0.001, epsilon=0.1, fit_intercept=True, learning_rate=invscaling, random_state=42, shuffle=False;, score=nan total time=   0.0s\n",
      "[CV 3/5] END alpha=0.001, epsilon=0.1, fit_intercept=True, learning_rate=invscaling, random_state=42, shuffle=False;, score=nan total time=   0.0s\n",
      "[CV 4/5] END alpha=0.001, epsilon=0.1, fit_intercept=True, learning_rate=invscaling, random_state=42, shuffle=False;, score=nan total time=   0.0s\n",
      "[CV 5/5] END alpha=0.001, epsilon=0.1, fit_intercept=True, learning_rate=invscaling, random_state=42, shuffle=False;, score=nan total time=   0.0s\n",
      "[CV 1/5] END alpha=0.001, epsilon=0.1, fit_intercept=True, learning_rate=adaptive, random_state=42, shuffle=True;, score=nan total time=   0.0s\n",
      "[CV 2/5] END alpha=0.001, epsilon=0.1, fit_intercept=True, learning_rate=adaptive, random_state=42, shuffle=True;, score=nan total time=   0.0s\n",
      "[CV 3/5] END alpha=0.001, epsilon=0.1, fit_intercept=True, learning_rate=adaptive, random_state=42, shuffle=True;, score=nan total time=   0.0s\n",
      "[CV 4/5] END alpha=0.001, epsilon=0.1, fit_intercept=True, learning_rate=adaptive, random_state=42, shuffle=True;, score=nan total time=   0.0s\n",
      "[CV 5/5] END alpha=0.001, epsilon=0.1, fit_intercept=True, learning_rate=adaptive, random_state=42, shuffle=True;, score=nan total time=   0.0s\n",
      "[CV 1/5] END alpha=0.001, epsilon=0.1, fit_intercept=True, learning_rate=adaptive, random_state=42, shuffle=False;, score=nan total time=   0.0s\n",
      "[CV 2/5] END alpha=0.001, epsilon=0.1, fit_intercept=True, learning_rate=adaptive, random_state=42, shuffle=False;, score=nan total time=   0.0s\n",
      "[CV 3/5] END alpha=0.001, epsilon=0.1, fit_intercept=True, learning_rate=adaptive, random_state=42, shuffle=False;, score=nan total time=   0.0s\n",
      "[CV 4/5] END alpha=0.001, epsilon=0.1, fit_intercept=True, learning_rate=adaptive, random_state=42, shuffle=False;, score=nan total time=   0.0s\n",
      "[CV 5/5] END alpha=0.001, epsilon=0.1, fit_intercept=True, learning_rate=adaptive, random_state=42, shuffle=False;, score=nan total time=   0.0s\n",
      "[CV 1/5] END alpha=0.001, epsilon=0.1, fit_intercept=False, learning_rate=constant, random_state=42, shuffle=True;, score=nan total time=   0.0s\n",
      "[CV 2/5] END alpha=0.001, epsilon=0.1, fit_intercept=False, learning_rate=constant, random_state=42, shuffle=True;, score=nan total time=   0.0s\n",
      "[CV 3/5] END alpha=0.001, epsilon=0.1, fit_intercept=False, learning_rate=constant, random_state=42, shuffle=True;, score=nan total time=   0.0s\n"
     ]
    },
    {
     "name": "stdout",
     "output_type": "stream",
     "text": [
      "[CV 4/5] END alpha=0.001, epsilon=0.1, fit_intercept=False, learning_rate=constant, random_state=42, shuffle=True;, score=nan total time=   0.0s\n",
      "[CV 5/5] END alpha=0.001, epsilon=0.1, fit_intercept=False, learning_rate=constant, random_state=42, shuffle=True;, score=nan total time=   0.0s\n",
      "[CV 1/5] END alpha=0.001, epsilon=0.1, fit_intercept=False, learning_rate=constant, random_state=42, shuffle=False;, score=nan total time=   0.0s\n",
      "[CV 2/5] END alpha=0.001, epsilon=0.1, fit_intercept=False, learning_rate=constant, random_state=42, shuffle=False;, score=nan total time=   0.0s\n",
      "[CV 3/5] END alpha=0.001, epsilon=0.1, fit_intercept=False, learning_rate=constant, random_state=42, shuffle=False;, score=nan total time=   0.0s\n",
      "[CV 4/5] END alpha=0.001, epsilon=0.1, fit_intercept=False, learning_rate=constant, random_state=42, shuffle=False;, score=nan total time=   0.0s\n",
      "[CV 5/5] END alpha=0.001, epsilon=0.1, fit_intercept=False, learning_rate=constant, random_state=42, shuffle=False;, score=nan total time=   0.0s\n",
      "[CV 1/5] END alpha=0.001, epsilon=0.1, fit_intercept=False, learning_rate=optimal, random_state=42, shuffle=True;, score=0.737 total time=   0.0s\n",
      "[CV 2/5] END alpha=0.001, epsilon=0.1, fit_intercept=False, learning_rate=optimal, random_state=42, shuffle=True;, score=0.360 total time=   0.0s\n",
      "[CV 3/5] END alpha=0.001, epsilon=0.1, fit_intercept=False, learning_rate=optimal, random_state=42, shuffle=True;, score=0.685 total time=   0.0s\n",
      "[CV 4/5] END alpha=0.001, epsilon=0.1, fit_intercept=False, learning_rate=optimal, random_state=42, shuffle=True;, score=0.787 total time=   0.0s\n",
      "[CV 5/5] END alpha=0.001, epsilon=0.1, fit_intercept=False, learning_rate=optimal, random_state=42, shuffle=True;, score=0.730 total time=   0.0s\n",
      "[CV 1/5] END alpha=0.001, epsilon=0.1, fit_intercept=False, learning_rate=optimal, random_state=42, shuffle=False;, score=0.715 total time=   0.0s\n",
      "[CV 2/5] END alpha=0.001, epsilon=0.1, fit_intercept=False, learning_rate=optimal, random_state=42, shuffle=False;, score=0.787 total time=   0.0s\n",
      "[CV 3/5] END alpha=0.001, epsilon=0.1, fit_intercept=False, learning_rate=optimal, random_state=42, shuffle=False;, score=0.725 total time=   0.0s\n",
      "[CV 4/5] END alpha=0.001, epsilon=0.1, fit_intercept=False, learning_rate=optimal, random_state=42, shuffle=False;, score=0.753 total time=   0.0s\n",
      "[CV 5/5] END alpha=0.001, epsilon=0.1, fit_intercept=False, learning_rate=optimal, random_state=42, shuffle=False;, score=0.742 total time=   0.0s\n",
      "[CV 1/5] END alpha=0.001, epsilon=0.1, fit_intercept=False, learning_rate=invscaling, random_state=42, shuffle=True;, score=nan total time=   0.0s\n",
      "[CV 2/5] END alpha=0.001, epsilon=0.1, fit_intercept=False, learning_rate=invscaling, random_state=42, shuffle=True;, score=nan total time=   0.0s\n",
      "[CV 3/5] END alpha=0.001, epsilon=0.1, fit_intercept=False, learning_rate=invscaling, random_state=42, shuffle=True;, score=nan total time=   0.0s\n",
      "[CV 4/5] END alpha=0.001, epsilon=0.1, fit_intercept=False, learning_rate=invscaling, random_state=42, shuffle=True;, score=nan total time=   0.0s\n",
      "[CV 5/5] END alpha=0.001, epsilon=0.1, fit_intercept=False, learning_rate=invscaling, random_state=42, shuffle=True;, score=nan total time=   0.0s\n",
      "[CV 1/5] END alpha=0.001, epsilon=0.1, fit_intercept=False, learning_rate=invscaling, random_state=42, shuffle=False;, score=nan total time=   0.0s\n",
      "[CV 2/5] END alpha=0.001, epsilon=0.1, fit_intercept=False, learning_rate=invscaling, random_state=42, shuffle=False;, score=nan total time=   0.0s\n",
      "[CV 3/5] END alpha=0.001, epsilon=0.1, fit_intercept=False, learning_rate=invscaling, random_state=42, shuffle=False;, score=nan total time=   0.0s\n",
      "[CV 4/5] END alpha=0.001, epsilon=0.1, fit_intercept=False, learning_rate=invscaling, random_state=42, shuffle=False;, score=nan total time=   0.0s\n",
      "[CV 5/5] END alpha=0.001, epsilon=0.1, fit_intercept=False, learning_rate=invscaling, random_state=42, shuffle=False;, score=nan total time=   0.0s\n",
      "[CV 1/5] END alpha=0.001, epsilon=0.1, fit_intercept=False, learning_rate=adaptive, random_state=42, shuffle=True;, score=nan total time=   0.0s\n",
      "[CV 2/5] END alpha=0.001, epsilon=0.1, fit_intercept=False, learning_rate=adaptive, random_state=42, shuffle=True;, score=nan total time=   0.0s\n",
      "[CV 3/5] END alpha=0.001, epsilon=0.1, fit_intercept=False, learning_rate=adaptive, random_state=42, shuffle=True;, score=nan total time=   0.0s\n",
      "[CV 4/5] END alpha=0.001, epsilon=0.1, fit_intercept=False, learning_rate=adaptive, random_state=42, shuffle=True;, score=nan total time=   0.0s\n",
      "[CV 5/5] END alpha=0.001, epsilon=0.1, fit_intercept=False, learning_rate=adaptive, random_state=42, shuffle=True;, score=nan total time=   0.0s\n",
      "[CV 1/5] END alpha=0.001, epsilon=0.1, fit_intercept=False, learning_rate=adaptive, random_state=42, shuffle=False;, score=nan total time=   0.0s\n",
      "[CV 2/5] END alpha=0.001, epsilon=0.1, fit_intercept=False, learning_rate=adaptive, random_state=42, shuffle=False;, score=nan total time=   0.0s\n",
      "[CV 3/5] END alpha=0.001, epsilon=0.1, fit_intercept=False, learning_rate=adaptive, random_state=42, shuffle=False;, score=nan total time=   0.0s\n",
      "[CV 4/5] END alpha=0.001, epsilon=0.1, fit_intercept=False, learning_rate=adaptive, random_state=42, shuffle=False;, score=nan total time=   0.0s\n",
      "[CV 5/5] END alpha=0.001, epsilon=0.1, fit_intercept=False, learning_rate=adaptive, random_state=42, shuffle=False;, score=nan total time=   0.0s\n"
     ]
    },
    {
     "name": "stderr",
     "output_type": "stream",
     "text": [
      "C:\\Users\\leatu\\anaconda3\\envs\\py39\\lib\\site-packages\\sklearn\\model_selection\\_validation.py:372: FitFailedWarning: \n",
      "540 fits failed out of a total of 720.\n",
      "The score on these train-test partitions for these parameters will be set to nan.\n",
      "If these failures are not expected, you can try to debug them by setting error_score='raise'.\n",
      "\n",
      "Below are more details about the failures:\n",
      "--------------------------------------------------------------------------------\n",
      "540 fits failed with the following error:\n",
      "Traceback (most recent call last):\n",
      "  File \"C:\\Users\\leatu\\anaconda3\\envs\\py39\\lib\\site-packages\\sklearn\\model_selection\\_validation.py\", line 681, in _fit_and_score\n",
      "    estimator.fit(X_train, y_train, **fit_params)\n",
      "  File \"C:\\Users\\leatu\\anaconda3\\envs\\py39\\lib\\site-packages\\sklearn\\linear_model\\_stochastic_gradient.py\", line 883, in fit\n",
      "    return self._fit(\n",
      "  File \"C:\\Users\\leatu\\anaconda3\\envs\\py39\\lib\\site-packages\\sklearn\\linear_model\\_stochastic_gradient.py\", line 649, in _fit\n",
      "    self._validate_params()\n",
      "  File \"C:\\Users\\leatu\\anaconda3\\envs\\py39\\lib\\site-packages\\sklearn\\linear_model\\_stochastic_gradient.py\", line 149, in _validate_params\n",
      "    raise ValueError(\"eta0 must be > 0\")\n",
      "ValueError: eta0 must be > 0\n",
      "\n",
      "  warnings.warn(some_fits_failed_message, FitFailedWarning)\n",
      "C:\\Users\\leatu\\anaconda3\\envs\\py39\\lib\\site-packages\\sklearn\\model_selection\\_search.py:969: UserWarning: One or more of the test scores are non-finite: [       nan        nan 0.71483899 0.76879669        nan        nan\n",
      "        nan        nan        nan        nan 0.73060072 0.76206139\n",
      "        nan        nan        nan        nan        nan        nan\n",
      " 0.71483899 0.76879669        nan        nan        nan        nan\n",
      "        nan        nan 0.73060072 0.76206139        nan        nan\n",
      "        nan        nan        nan        nan 0.71483899 0.76879669\n",
      "        nan        nan        nan        nan        nan        nan\n",
      " 0.73060072 0.76206139        nan        nan        nan        nan\n",
      "        nan        nan 0.71162513 0.77889649        nan        nan\n",
      "        nan        nan        nan        nan 0.64857824 0.74632478\n",
      "        nan        nan        nan        nan        nan        nan\n",
      " 0.71162513 0.77889649        nan        nan        nan        nan\n",
      "        nan        nan 0.64857824 0.74632478        nan        nan\n",
      "        nan        nan        nan        nan 0.71162513 0.77889649\n",
      "        nan        nan        nan        nan        nan        nan\n",
      " 0.64857824 0.74632478        nan        nan        nan        nan\n",
      "        nan        nan 0.7071998  0.76428975        nan        nan\n",
      "        nan        nan        nan        nan 0.65984558 0.74414036\n",
      "        nan        nan        nan        nan        nan        nan\n",
      " 0.7071998  0.76428975        nan        nan        nan        nan\n",
      "        nan        nan 0.65984558 0.74414036        nan        nan\n",
      "        nan        nan        nan        nan 0.7071998  0.76428975\n",
      "        nan        nan        nan        nan        nan        nan\n",
      " 0.65984558 0.74414036        nan        nan        nan        nan]\n",
      "  warnings.warn(\n"
     ]
    },
    {
     "data": {
      "text/plain": [
       "GridSearchCV(cv=5, estimator=SGDClassifier(random_state=42),\n",
       "             param_grid=[{'alpha': [1e-05, 0.0001, 0.001],\n",
       "                          'epsilon': [0.001, 0.01, 0.1],\n",
       "                          'fit_intercept': [True, False],\n",
       "                          'learning_rate': ['constant', 'optimal', 'invscaling',\n",
       "                                            'adaptive'],\n",
       "                          'random_state': [42], 'shuffle': [True, False]}],\n",
       "             verbose=3)"
      ]
     },
     "execution_count": 72,
     "metadata": {},
     "output_type": "execute_result"
    }
   ],
   "source": [
    "# GridSearchCV for SGDClassifier\n",
    "sgd_clf_param_grid = [{\"alpha\":[0.00001, 0.0001, 0.001],\n",
    "                       \"fit_intercept\": [True, False],\n",
    "                       \"shuffle\":[True, False],\n",
    "                       \"epsilon\":[0.001, 0.01, 0.1],\n",
    "                       \"random_state\":[42],\n",
    "                       \"learning_rate\":[\"constant\", \"optimal\", \"invscaling\", \"adaptive\"]\n",
    "                      }]\n",
    "sgd_clf_grid_search = GridSearchCV(sgd_clf, sgd_clf_param_grid, cv=5, verbose=3)\n",
    "sgd_clf_grid_search.fit(X_train, y_train)"
   ]
  },
  {
   "cell_type": "code",
   "execution_count": 73,
   "id": "d1dc5779",
   "metadata": {},
   "outputs": [
    {
     "data": {
      "text/plain": [
       "{'alpha': 0.0001,\n",
       " 'epsilon': 0.001,\n",
       " 'fit_intercept': True,\n",
       " 'learning_rate': 'optimal',\n",
       " 'random_state': 42,\n",
       " 'shuffle': False}"
      ]
     },
     "execution_count": 73,
     "metadata": {},
     "output_type": "execute_result"
    }
   ],
   "source": [
    "sgd_clf_grid_search.best_params_"
   ]
  },
  {
   "cell_type": "code",
   "execution_count": 74,
   "id": "bfa1b6cc",
   "metadata": {},
   "outputs": [
    {
     "data": {
      "text/plain": [
       "0.7788964911179461"
      ]
     },
     "execution_count": 74,
     "metadata": {},
     "output_type": "execute_result"
    }
   ],
   "source": [
    "sgd_clf_grid_search.best_score_"
   ]
  },
  {
   "cell_type": "code",
   "execution_count": 78,
   "id": "02e44cc1",
   "metadata": {},
   "outputs": [
    {
     "name": "stdout",
     "output_type": "stream",
     "text": [
      "Fitting 5 folds for each of 40 candidates, totalling 200 fits\n",
      "[CV 1/5] END algorithm=auto, n_neighbors=5, weights=uniform;, score=0.670 total time=   0.0s\n",
      "[CV 2/5] END algorithm=auto, n_neighbors=5, weights=uniform;, score=0.674 total time=   0.0s\n",
      "[CV 3/5] END algorithm=auto, n_neighbors=5, weights=uniform;, score=0.719 total time=   0.0s\n",
      "[CV 4/5] END algorithm=auto, n_neighbors=5, weights=uniform;, score=0.730 total time=   0.0s\n",
      "[CV 5/5] END algorithm=auto, n_neighbors=5, weights=uniform;, score=0.730 total time=   0.0s\n",
      "[CV 1/5] END algorithm=auto, n_neighbors=5, weights=distance;, score=0.698 total time=   0.0s\n",
      "[CV 2/5] END algorithm=auto, n_neighbors=5, weights=distance;, score=0.708 total time=   0.0s\n",
      "[CV 3/5] END algorithm=auto, n_neighbors=5, weights=distance;, score=0.725 total time=   0.0s\n",
      "[CV 4/5] END algorithm=auto, n_neighbors=5, weights=distance;, score=0.697 total time=   0.0s\n",
      "[CV 5/5] END algorithm=auto, n_neighbors=5, weights=distance;, score=0.736 total time=   0.0s\n",
      "[CV 1/5] END algorithm=auto, n_neighbors=10, weights=uniform;, score=0.626 total time=   0.0s\n",
      "[CV 2/5] END algorithm=auto, n_neighbors=10, weights=uniform;, score=0.685 total time=   0.0s\n",
      "[CV 3/5] END algorithm=auto, n_neighbors=10, weights=uniform;, score=0.708 total time=   0.0s\n",
      "[CV 4/5] END algorithm=auto, n_neighbors=10, weights=uniform;, score=0.730 total time=   0.0s\n",
      "[CV 5/5] END algorithm=auto, n_neighbors=10, weights=uniform;, score=0.758 total time=   0.0s\n",
      "[CV 1/5] END algorithm=auto, n_neighbors=10, weights=distance;, score=0.659 total time=   0.0s\n",
      "[CV 2/5] END algorithm=auto, n_neighbors=10, weights=distance;, score=0.713 total time=   0.0s\n",
      "[CV 3/5] END algorithm=auto, n_neighbors=10, weights=distance;, score=0.747 total time=   0.0s\n",
      "[CV 4/5] END algorithm=auto, n_neighbors=10, weights=distance;, score=0.725 total time=   0.0s\n",
      "[CV 5/5] END algorithm=auto, n_neighbors=10, weights=distance;, score=0.742 total time=   0.0s\n",
      "[CV 1/5] END algorithm=auto, n_neighbors=20, weights=uniform;, score=0.587 total time=   0.0s\n",
      "[CV 2/5] END algorithm=auto, n_neighbors=20, weights=uniform;, score=0.753 total time=   0.0s\n",
      "[CV 3/5] END algorithm=auto, n_neighbors=20, weights=uniform;, score=0.736 total time=   0.0s\n",
      "[CV 4/5] END algorithm=auto, n_neighbors=20, weights=uniform;, score=0.742 total time=   0.0s\n",
      "[CV 5/5] END algorithm=auto, n_neighbors=20, weights=uniform;, score=0.730 total time=   0.0s\n",
      "[CV 1/5] END algorithm=auto, n_neighbors=20, weights=distance;, score=0.642 total time=   0.0s\n",
      "[CV 2/5] END algorithm=auto, n_neighbors=20, weights=distance;, score=0.775 total time=   0.0s\n",
      "[CV 3/5] END algorithm=auto, n_neighbors=20, weights=distance;, score=0.747 total time=   0.0s\n",
      "[CV 4/5] END algorithm=auto, n_neighbors=20, weights=distance;, score=0.736 total time=   0.0s\n",
      "[CV 5/5] END algorithm=auto, n_neighbors=20, weights=distance;, score=0.730 total time=   0.0s\n",
      "[CV 1/5] END algorithm=auto, n_neighbors=50, weights=uniform;, score=0.581 total time=   0.0s\n",
      "[CV 2/5] END algorithm=auto, n_neighbors=50, weights=uniform;, score=0.725 total time=   0.0s\n",
      "[CV 3/5] END algorithm=auto, n_neighbors=50, weights=uniform;, score=0.691 total time=   0.0s\n",
      "[CV 4/5] END algorithm=auto, n_neighbors=50, weights=uniform;, score=0.713 total time=   0.0s\n",
      "[CV 5/5] END algorithm=auto, n_neighbors=50, weights=uniform;, score=0.702 total time=   0.0s\n",
      "[CV 1/5] END algorithm=auto, n_neighbors=50, weights=distance;, score=0.631 total time=   0.0s\n",
      "[CV 2/5] END algorithm=auto, n_neighbors=50, weights=distance;, score=0.764 total time=   0.0s\n",
      "[CV 3/5] END algorithm=auto, n_neighbors=50, weights=distance;, score=0.742 total time=   0.0s\n",
      "[CV 4/5] END algorithm=auto, n_neighbors=50, weights=distance;, score=0.742 total time=   0.0s\n",
      "[CV 5/5] END algorithm=auto, n_neighbors=50, weights=distance;, score=0.725 total time=   0.0s\n",
      "[CV 1/5] END algorithm=auto, n_neighbors=100, weights=uniform;, score=0.575 total time=   0.0s\n",
      "[CV 2/5] END algorithm=auto, n_neighbors=100, weights=uniform;, score=0.719 total time=   0.0s\n",
      "[CV 3/5] END algorithm=auto, n_neighbors=100, weights=uniform;, score=0.674 total time=   0.0s\n",
      "[CV 4/5] END algorithm=auto, n_neighbors=100, weights=uniform;, score=0.691 total time=   0.0s\n",
      "[CV 5/5] END algorithm=auto, n_neighbors=100, weights=uniform;, score=0.680 total time=   0.0s\n",
      "[CV 1/5] END algorithm=auto, n_neighbors=100, weights=distance;, score=0.642 total time=   0.0s\n",
      "[CV 2/5] END algorithm=auto, n_neighbors=100, weights=distance;, score=0.753 total time=   0.0s\n",
      "[CV 3/5] END algorithm=auto, n_neighbors=100, weights=distance;, score=0.730 total time=   0.0s\n",
      "[CV 4/5] END algorithm=auto, n_neighbors=100, weights=distance;, score=0.742 total time=   0.0s\n",
      "[CV 5/5] END algorithm=auto, n_neighbors=100, weights=distance;, score=0.742 total time=   0.0s\n",
      "[CV 1/5] END algorithm=ball_tree, n_neighbors=5, weights=uniform;, score=0.682 total time=   0.0s\n",
      "[CV 2/5] END algorithm=ball_tree, n_neighbors=5, weights=uniform;, score=0.674 total time=   0.0s\n",
      "[CV 3/5] END algorithm=ball_tree, n_neighbors=5, weights=uniform;, score=0.719 total time=   0.0s\n",
      "[CV 4/5] END algorithm=ball_tree, n_neighbors=5, weights=uniform;, score=0.730 total time=   0.0s\n",
      "[CV 5/5] END algorithm=ball_tree, n_neighbors=5, weights=uniform;, score=0.725 total time=   0.0s\n",
      "[CV 1/5] END algorithm=ball_tree, n_neighbors=5, weights=distance;, score=0.698 total time=   0.0s\n",
      "[CV 2/5] END algorithm=ball_tree, n_neighbors=5, weights=distance;, score=0.708 total time=   0.0s\n",
      "[CV 3/5] END algorithm=ball_tree, n_neighbors=5, weights=distance;, score=0.725 total time=   0.0s\n",
      "[CV 4/5] END algorithm=ball_tree, n_neighbors=5, weights=distance;, score=0.697 total time=   0.0s\n",
      "[CV 5/5] END algorithm=ball_tree, n_neighbors=5, weights=distance;, score=0.730 total time=   0.0s\n",
      "[CV 1/5] END algorithm=ball_tree, n_neighbors=10, weights=uniform;, score=0.626 total time=   0.0s\n",
      "[CV 2/5] END algorithm=ball_tree, n_neighbors=10, weights=uniform;, score=0.691 total time=   0.0s\n",
      "[CV 3/5] END algorithm=ball_tree, n_neighbors=10, weights=uniform;, score=0.708 total time=   0.0s\n",
      "[CV 4/5] END algorithm=ball_tree, n_neighbors=10, weights=uniform;, score=0.730 total time=   0.0s\n",
      "[CV 5/5] END algorithm=ball_tree, n_neighbors=10, weights=uniform;, score=0.758 total time=   0.0s\n",
      "[CV 1/5] END algorithm=ball_tree, n_neighbors=10, weights=distance;, score=0.659 total time=   0.0s\n",
      "[CV 2/5] END algorithm=ball_tree, n_neighbors=10, weights=distance;, score=0.713 total time=   0.0s\n",
      "[CV 3/5] END algorithm=ball_tree, n_neighbors=10, weights=distance;, score=0.747 total time=   0.0s\n",
      "[CV 4/5] END algorithm=ball_tree, n_neighbors=10, weights=distance;, score=0.725 total time=   0.0s\n",
      "[CV 5/5] END algorithm=ball_tree, n_neighbors=10, weights=distance;, score=0.736 total time=   0.0s\n",
      "[CV 1/5] END algorithm=ball_tree, n_neighbors=20, weights=uniform;, score=0.587 total time=   0.0s\n",
      "[CV 2/5] END algorithm=ball_tree, n_neighbors=20, weights=uniform;, score=0.753 total time=   0.0s\n",
      "[CV 3/5] END algorithm=ball_tree, n_neighbors=20, weights=uniform;, score=0.736 total time=   0.0s\n",
      "[CV 4/5] END algorithm=ball_tree, n_neighbors=20, weights=uniform;, score=0.742 total time=   0.0s\n",
      "[CV 5/5] END algorithm=ball_tree, n_neighbors=20, weights=uniform;, score=0.730 total time=   0.0s\n",
      "[CV 1/5] END algorithm=ball_tree, n_neighbors=20, weights=distance;, score=0.642 total time=   0.0s\n",
      "[CV 2/5] END algorithm=ball_tree, n_neighbors=20, weights=distance;, score=0.775 total time=   0.0s\n",
      "[CV 3/5] END algorithm=ball_tree, n_neighbors=20, weights=distance;, score=0.747 total time=   0.0s\n",
      "[CV 4/5] END algorithm=ball_tree, n_neighbors=20, weights=distance;, score=0.736 total time=   0.0s\n",
      "[CV 5/5] END algorithm=ball_tree, n_neighbors=20, weights=distance;, score=0.730 total time=   0.0s\n",
      "[CV 1/5] END algorithm=ball_tree, n_neighbors=50, weights=uniform;, score=0.581 total time=   0.0s\n",
      "[CV 2/5] END algorithm=ball_tree, n_neighbors=50, weights=uniform;, score=0.725 total time=   0.0s\n",
      "[CV 3/5] END algorithm=ball_tree, n_neighbors=50, weights=uniform;, score=0.691 total time=   0.0s\n",
      "[CV 4/5] END algorithm=ball_tree, n_neighbors=50, weights=uniform;, score=0.713 total time=   0.0s\n",
      "[CV 5/5] END algorithm=ball_tree, n_neighbors=50, weights=uniform;, score=0.702 total time=   0.0s\n",
      "[CV 1/5] END algorithm=ball_tree, n_neighbors=50, weights=distance;, score=0.631 total time=   0.0s\n",
      "[CV 2/5] END algorithm=ball_tree, n_neighbors=50, weights=distance;, score=0.764 total time=   0.0s\n",
      "[CV 3/5] END algorithm=ball_tree, n_neighbors=50, weights=distance;, score=0.742 total time=   0.0s\n",
      "[CV 4/5] END algorithm=ball_tree, n_neighbors=50, weights=distance;, score=0.742 total time=   0.0s\n",
      "[CV 5/5] END algorithm=ball_tree, n_neighbors=50, weights=distance;, score=0.725 total time=   0.0s\n",
      "[CV 1/5] END algorithm=ball_tree, n_neighbors=100, weights=uniform;, score=0.575 total time=   0.0s\n",
      "[CV 2/5] END algorithm=ball_tree, n_neighbors=100, weights=uniform;, score=0.719 total time=   0.0s\n"
     ]
    },
    {
     "name": "stdout",
     "output_type": "stream",
     "text": [
      "[CV 3/5] END algorithm=ball_tree, n_neighbors=100, weights=uniform;, score=0.674 total time=   0.0s\n",
      "[CV 4/5] END algorithm=ball_tree, n_neighbors=100, weights=uniform;, score=0.691 total time=   0.0s\n",
      "[CV 5/5] END algorithm=ball_tree, n_neighbors=100, weights=uniform;, score=0.680 total time=   0.0s\n",
      "[CV 1/5] END algorithm=ball_tree, n_neighbors=100, weights=distance;, score=0.642 total time=   0.0s\n",
      "[CV 2/5] END algorithm=ball_tree, n_neighbors=100, weights=distance;, score=0.753 total time=   0.0s\n",
      "[CV 3/5] END algorithm=ball_tree, n_neighbors=100, weights=distance;, score=0.730 total time=   0.0s\n",
      "[CV 4/5] END algorithm=ball_tree, n_neighbors=100, weights=distance;, score=0.742 total time=   0.0s\n",
      "[CV 5/5] END algorithm=ball_tree, n_neighbors=100, weights=distance;, score=0.742 total time=   0.0s\n",
      "[CV 1/5] END algorithm=kd_tree, n_neighbors=5, weights=uniform;, score=0.670 total time=   0.0s\n",
      "[CV 2/5] END algorithm=kd_tree, n_neighbors=5, weights=uniform;, score=0.674 total time=   0.0s\n",
      "[CV 3/5] END algorithm=kd_tree, n_neighbors=5, weights=uniform;, score=0.719 total time=   0.0s\n",
      "[CV 4/5] END algorithm=kd_tree, n_neighbors=5, weights=uniform;, score=0.730 total time=   0.0s\n",
      "[CV 5/5] END algorithm=kd_tree, n_neighbors=5, weights=uniform;, score=0.730 total time=   0.0s\n",
      "[CV 1/5] END algorithm=kd_tree, n_neighbors=5, weights=distance;, score=0.698 total time=   0.0s\n",
      "[CV 2/5] END algorithm=kd_tree, n_neighbors=5, weights=distance;, score=0.708 total time=   0.0s\n",
      "[CV 3/5] END algorithm=kd_tree, n_neighbors=5, weights=distance;, score=0.725 total time=   0.0s\n",
      "[CV 4/5] END algorithm=kd_tree, n_neighbors=5, weights=distance;, score=0.697 total time=   0.0s\n",
      "[CV 5/5] END algorithm=kd_tree, n_neighbors=5, weights=distance;, score=0.736 total time=   0.0s\n",
      "[CV 1/5] END algorithm=kd_tree, n_neighbors=10, weights=uniform;, score=0.626 total time=   0.0s\n",
      "[CV 2/5] END algorithm=kd_tree, n_neighbors=10, weights=uniform;, score=0.685 total time=   0.0s\n",
      "[CV 3/5] END algorithm=kd_tree, n_neighbors=10, weights=uniform;, score=0.708 total time=   0.0s\n",
      "[CV 4/5] END algorithm=kd_tree, n_neighbors=10, weights=uniform;, score=0.730 total time=   0.0s\n",
      "[CV 5/5] END algorithm=kd_tree, n_neighbors=10, weights=uniform;, score=0.758 total time=   0.0s\n",
      "[CV 1/5] END algorithm=kd_tree, n_neighbors=10, weights=distance;, score=0.659 total time=   0.0s\n",
      "[CV 2/5] END algorithm=kd_tree, n_neighbors=10, weights=distance;, score=0.713 total time=   0.0s\n",
      "[CV 3/5] END algorithm=kd_tree, n_neighbors=10, weights=distance;, score=0.747 total time=   0.0s\n",
      "[CV 4/5] END algorithm=kd_tree, n_neighbors=10, weights=distance;, score=0.725 total time=   0.0s\n",
      "[CV 5/5] END algorithm=kd_tree, n_neighbors=10, weights=distance;, score=0.742 total time=   0.0s\n",
      "[CV 1/5] END algorithm=kd_tree, n_neighbors=20, weights=uniform;, score=0.587 total time=   0.0s\n",
      "[CV 2/5] END algorithm=kd_tree, n_neighbors=20, weights=uniform;, score=0.753 total time=   0.0s\n",
      "[CV 3/5] END algorithm=kd_tree, n_neighbors=20, weights=uniform;, score=0.736 total time=   0.0s\n",
      "[CV 4/5] END algorithm=kd_tree, n_neighbors=20, weights=uniform;, score=0.742 total time=   0.0s\n",
      "[CV 5/5] END algorithm=kd_tree, n_neighbors=20, weights=uniform;, score=0.730 total time=   0.0s\n",
      "[CV 1/5] END algorithm=kd_tree, n_neighbors=20, weights=distance;, score=0.642 total time=   0.0s\n",
      "[CV 2/5] END algorithm=kd_tree, n_neighbors=20, weights=distance;, score=0.775 total time=   0.0s\n",
      "[CV 3/5] END algorithm=kd_tree, n_neighbors=20, weights=distance;, score=0.747 total time=   0.0s\n",
      "[CV 4/5] END algorithm=kd_tree, n_neighbors=20, weights=distance;, score=0.736 total time=   0.0s\n",
      "[CV 5/5] END algorithm=kd_tree, n_neighbors=20, weights=distance;, score=0.730 total time=   0.0s\n",
      "[CV 1/5] END algorithm=kd_tree, n_neighbors=50, weights=uniform;, score=0.581 total time=   0.0s\n",
      "[CV 2/5] END algorithm=kd_tree, n_neighbors=50, weights=uniform;, score=0.725 total time=   0.0s\n",
      "[CV 3/5] END algorithm=kd_tree, n_neighbors=50, weights=uniform;, score=0.691 total time=   0.0s\n",
      "[CV 4/5] END algorithm=kd_tree, n_neighbors=50, weights=uniform;, score=0.713 total time=   0.0s\n",
      "[CV 5/5] END algorithm=kd_tree, n_neighbors=50, weights=uniform;, score=0.702 total time=   0.0s\n",
      "[CV 1/5] END algorithm=kd_tree, n_neighbors=50, weights=distance;, score=0.631 total time=   0.0s\n",
      "[CV 2/5] END algorithm=kd_tree, n_neighbors=50, weights=distance;, score=0.764 total time=   0.0s\n",
      "[CV 3/5] END algorithm=kd_tree, n_neighbors=50, weights=distance;, score=0.742 total time=   0.0s\n",
      "[CV 4/5] END algorithm=kd_tree, n_neighbors=50, weights=distance;, score=0.742 total time=   0.0s\n",
      "[CV 5/5] END algorithm=kd_tree, n_neighbors=50, weights=distance;, score=0.725 total time=   0.0s\n",
      "[CV 1/5] END algorithm=kd_tree, n_neighbors=100, weights=uniform;, score=0.575 total time=   0.0s\n",
      "[CV 2/5] END algorithm=kd_tree, n_neighbors=100, weights=uniform;, score=0.719 total time=   0.0s\n",
      "[CV 3/5] END algorithm=kd_tree, n_neighbors=100, weights=uniform;, score=0.674 total time=   0.0s\n",
      "[CV 4/5] END algorithm=kd_tree, n_neighbors=100, weights=uniform;, score=0.691 total time=   0.0s\n",
      "[CV 5/5] END algorithm=kd_tree, n_neighbors=100, weights=uniform;, score=0.680 total time=   0.0s\n",
      "[CV 1/5] END algorithm=kd_tree, n_neighbors=100, weights=distance;, score=0.642 total time=   0.0s\n",
      "[CV 2/5] END algorithm=kd_tree, n_neighbors=100, weights=distance;, score=0.753 total time=   0.0s\n",
      "[CV 3/5] END algorithm=kd_tree, n_neighbors=100, weights=distance;, score=0.730 total time=   0.0s\n",
      "[CV 4/5] END algorithm=kd_tree, n_neighbors=100, weights=distance;, score=0.742 total time=   0.0s\n",
      "[CV 5/5] END algorithm=kd_tree, n_neighbors=100, weights=distance;, score=0.742 total time=   0.0s\n",
      "[CV 1/5] END algorithm=brute, n_neighbors=5, weights=uniform;, score=0.682 total time=   0.0s\n",
      "[CV 2/5] END algorithm=brute, n_neighbors=5, weights=uniform;, score=0.674 total time=   0.0s\n",
      "[CV 3/5] END algorithm=brute, n_neighbors=5, weights=uniform;, score=0.719 total time=   0.0s\n",
      "[CV 4/5] END algorithm=brute, n_neighbors=5, weights=uniform;, score=0.730 total time=   0.0s\n",
      "[CV 5/5] END algorithm=brute, n_neighbors=5, weights=uniform;, score=0.725 total time=   0.0s\n",
      "[CV 1/5] END algorithm=brute, n_neighbors=5, weights=distance;, score=0.698 total time=   0.0s\n",
      "[CV 2/5] END algorithm=brute, n_neighbors=5, weights=distance;, score=0.708 total time=   0.0s\n",
      "[CV 3/5] END algorithm=brute, n_neighbors=5, weights=distance;, score=0.725 total time=   0.0s\n",
      "[CV 4/5] END algorithm=brute, n_neighbors=5, weights=distance;, score=0.697 total time=   0.0s\n",
      "[CV 5/5] END algorithm=brute, n_neighbors=5, weights=distance;, score=0.730 total time=   0.0s\n",
      "[CV 1/5] END algorithm=brute, n_neighbors=10, weights=uniform;, score=0.626 total time=   0.0s\n",
      "[CV 2/5] END algorithm=brute, n_neighbors=10, weights=uniform;, score=0.702 total time=   0.0s\n",
      "[CV 3/5] END algorithm=brute, n_neighbors=10, weights=uniform;, score=0.708 total time=   0.0s\n",
      "[CV 4/5] END algorithm=brute, n_neighbors=10, weights=uniform;, score=0.730 total time=   0.0s\n",
      "[CV 5/5] END algorithm=brute, n_neighbors=10, weights=uniform;, score=0.758 total time=   0.0s\n",
      "[CV 1/5] END algorithm=brute, n_neighbors=10, weights=distance;, score=0.659 total time=   0.0s\n",
      "[CV 2/5] END algorithm=brute, n_neighbors=10, weights=distance;, score=0.713 total time=   0.0s\n",
      "[CV 3/5] END algorithm=brute, n_neighbors=10, weights=distance;, score=0.747 total time=   0.0s\n",
      "[CV 4/5] END algorithm=brute, n_neighbors=10, weights=distance;, score=0.725 total time=   0.0s\n",
      "[CV 5/5] END algorithm=brute, n_neighbors=10, weights=distance;, score=0.742 total time=   0.0s\n",
      "[CV 1/5] END algorithm=brute, n_neighbors=20, weights=uniform;, score=0.581 total time=   0.0s\n",
      "[CV 2/5] END algorithm=brute, n_neighbors=20, weights=uniform;, score=0.753 total time=   0.0s\n",
      "[CV 3/5] END algorithm=brute, n_neighbors=20, weights=uniform;, score=0.736 total time=   0.0s\n",
      "[CV 4/5] END algorithm=brute, n_neighbors=20, weights=uniform;, score=0.742 total time=   0.0s\n",
      "[CV 5/5] END algorithm=brute, n_neighbors=20, weights=uniform;, score=0.730 total time=   0.0s\n",
      "[CV 1/5] END algorithm=brute, n_neighbors=20, weights=distance;, score=0.642 total time=   0.0s\n",
      "[CV 2/5] END algorithm=brute, n_neighbors=20, weights=distance;, score=0.775 total time=   0.0s\n",
      "[CV 3/5] END algorithm=brute, n_neighbors=20, weights=distance;, score=0.747 total time=   0.0s\n",
      "[CV 4/5] END algorithm=brute, n_neighbors=20, weights=distance;, score=0.736 total time=   0.0s\n",
      "[CV 5/5] END algorithm=brute, n_neighbors=20, weights=distance;, score=0.730 total time=   0.0s\n"
     ]
    },
    {
     "name": "stdout",
     "output_type": "stream",
     "text": [
      "[CV 1/5] END algorithm=brute, n_neighbors=50, weights=uniform;, score=0.581 total time=   0.0s\n",
      "[CV 2/5] END algorithm=brute, n_neighbors=50, weights=uniform;, score=0.725 total time=   0.0s\n",
      "[CV 3/5] END algorithm=brute, n_neighbors=50, weights=uniform;, score=0.691 total time=   0.0s\n",
      "[CV 4/5] END algorithm=brute, n_neighbors=50, weights=uniform;, score=0.713 total time=   0.0s\n",
      "[CV 5/5] END algorithm=brute, n_neighbors=50, weights=uniform;, score=0.702 total time=   0.0s\n",
      "[CV 1/5] END algorithm=brute, n_neighbors=50, weights=distance;, score=0.631 total time=   0.0s\n",
      "[CV 2/5] END algorithm=brute, n_neighbors=50, weights=distance;, score=0.764 total time=   0.0s\n",
      "[CV 3/5] END algorithm=brute, n_neighbors=50, weights=distance;, score=0.742 total time=   0.0s\n",
      "[CV 4/5] END algorithm=brute, n_neighbors=50, weights=distance;, score=0.742 total time=   0.0s\n",
      "[CV 5/5] END algorithm=brute, n_neighbors=50, weights=distance;, score=0.725 total time=   0.0s\n",
      "[CV 1/5] END algorithm=brute, n_neighbors=100, weights=uniform;, score=0.575 total time=   0.0s\n",
      "[CV 2/5] END algorithm=brute, n_neighbors=100, weights=uniform;, score=0.719 total time=   0.0s\n",
      "[CV 3/5] END algorithm=brute, n_neighbors=100, weights=uniform;, score=0.674 total time=   0.0s\n",
      "[CV 4/5] END algorithm=brute, n_neighbors=100, weights=uniform;, score=0.691 total time=   0.0s\n",
      "[CV 5/5] END algorithm=brute, n_neighbors=100, weights=uniform;, score=0.680 total time=   0.0s\n",
      "[CV 1/5] END algorithm=brute, n_neighbors=100, weights=distance;, score=0.642 total time=   0.0s\n",
      "[CV 2/5] END algorithm=brute, n_neighbors=100, weights=distance;, score=0.753 total time=   0.0s\n",
      "[CV 3/5] END algorithm=brute, n_neighbors=100, weights=distance;, score=0.730 total time=   0.0s\n",
      "[CV 4/5] END algorithm=brute, n_neighbors=100, weights=distance;, score=0.742 total time=   0.0s\n",
      "[CV 5/5] END algorithm=brute, n_neighbors=100, weights=distance;, score=0.742 total time=   0.0s\n"
     ]
    },
    {
     "data": {
      "text/plain": [
       "GridSearchCV(cv=5, estimator=KNeighborsClassifier(),\n",
       "             param_grid=[{'algorithm': ['auto', 'ball_tree', 'kd_tree',\n",
       "                                        'brute'],\n",
       "                          'n_neighbors': [5, 10, 20, 50, 100],\n",
       "                          'weights': ['uniform', 'distance']}],\n",
       "             verbose=3)"
      ]
     },
     "execution_count": 78,
     "metadata": {},
     "output_type": "execute_result"
    }
   ],
   "source": [
    "from sklearn.neighbors import KNeighborsClassifier\n",
    "\n",
    "knn_clf = KNeighborsClassifier()\n",
    "knn_clf_param_grid = [{\"n_neighbors\":[5, 10, 20, 50, 100],\n",
    "                       \"weights\": [\"uniform\", \"distance\"],\n",
    "                       \"algorithm\":[\"auto\", \"ball_tree\", \"kd_tree\", \"brute\"]\n",
    "                      }]\n",
    "knn_clf_grid_search = GridSearchCV(knn_clf, knn_clf_param_grid, cv=5, verbose=3)\n",
    "knn_clf_grid_search.fit(X_train, y_train)"
   ]
  },
  {
   "cell_type": "code",
   "execution_count": 79,
   "id": "feb8a785",
   "metadata": {},
   "outputs": [
    {
     "data": {
      "text/plain": [
       "{'algorithm': 'auto', 'n_neighbors': 20, 'weights': 'distance'}"
      ]
     },
     "execution_count": 79,
     "metadata": {},
     "output_type": "execute_result"
    }
   ],
   "source": [
    "knn_clf_grid_search.best_params_"
   ]
  },
  {
   "cell_type": "code",
   "execution_count": 80,
   "id": "4878a532",
   "metadata": {},
   "outputs": [
    {
     "data": {
      "text/plain": [
       "0.7262444291004959"
      ]
     },
     "execution_count": 80,
     "metadata": {},
     "output_type": "execute_result"
    }
   ],
   "source": [
    "knn_clf_grid_search.best_score_"
   ]
  },
  {
   "cell_type": "code",
   "execution_count": null,
   "id": "b1378bfd",
   "metadata": {},
   "outputs": [],
   "source": []
  }
 ],
 "metadata": {
  "kernelspec": {
   "display_name": "Python 3",
   "language": "python",
   "name": "python3"
  },
  "language_info": {
   "codemirror_mode": {
    "name": "ipython",
    "version": 3
   },
   "file_extension": ".py",
   "mimetype": "text/x-python",
   "name": "python",
   "nbconvert_exporter": "python",
   "pygments_lexer": "ipython3",
   "version": "3.8.8"
  }
 },
 "nbformat": 4,
 "nbformat_minor": 5
}
