{
 "cells": [
  {
   "cell_type": "code",
   "execution_count": 1,
   "id": "e4456c54",
   "metadata": {},
   "outputs": [],
   "source": [
    "import os\n",
    "import tarfile\n",
    "import urllib.request\n",
    "\n",
    "DOWNLOAD_ROOT = \"https://spamassassin.apache.org/old/publiccorpus/\"\n",
    "HAM_URL = DOWNLOAD_ROOT + \"20030228_easy_ham.tar.bz2\"\n",
    "SPAM_URL = DOWNLOAD_ROOT + \"20030228_spam.tar.bz2\"\n",
    "SPAM_PATH = os.path.join(\"datasets\", \"spam\")\n",
    "\n",
    "def fetch_spam_data(ham_url=HAM_URL, spam_url=SPAM_URL, spam_path=SPAM_PATH):\n",
    "    if not os.path.isdir(spam_path):\n",
    "        os.makedirs(spam_path)\n",
    "        \n",
    "    for filename, url in ((\"ham.tar.bz2\", ham_url), (\"spam.tar.bz2\", spam_url)):\n",
    "        path = os.path.join(spam_path, filename)\n",
    "        if not os.path.isfile(path):\n",
    "            urllib.request.urlretrieve(url, path)\n",
    "        tar_bz2_file = tarfile.open(path)\n",
    "        tar_bz2_file.extractall(path=spam_path)\n",
    "        tar_bz2_file.close()"
   ]
  },
  {
   "cell_type": "code",
   "execution_count": 5,
   "id": "e5c6df76",
   "metadata": {},
   "outputs": [],
   "source": [
    "fetch_spam_data()"
   ]
  },
  {
   "cell_type": "code",
   "execution_count": 5,
   "id": "6e1718f4",
   "metadata": {},
   "outputs": [],
   "source": [
    "HAM_DIR = os.path.join(SPAM_PATH, \"easy_ham\")\n",
    "SPAM_DIR = os.path.join(SPAM_PATH, \"spam\")\n",
    "ham_filenames = [name for name in sorted(os.listdir(HAM_DIR)) if len(name) > 20]\n",
    "spam_filenames = [name for name in sorted(os.listdir(SPAM_DIR)) if len(name) > 20]"
   ]
  },
  {
   "cell_type": "code",
   "execution_count": 6,
   "id": "eb0513d1",
   "metadata": {},
   "outputs": [
    {
     "name": "stdout",
     "output_type": "stream",
     "text": [
      "2500\n"
     ]
    }
   ],
   "source": [
    "print(len(ham_filenames))"
   ]
  },
  {
   "cell_type": "code",
   "execution_count": 7,
   "id": "0abf5b4a",
   "metadata": {},
   "outputs": [
    {
     "name": "stdout",
     "output_type": "stream",
     "text": [
      "500\n"
     ]
    }
   ],
   "source": [
    "print(len(spam_filenames))"
   ]
  },
  {
   "cell_type": "code",
   "execution_count": 8,
   "id": "60ab207d",
   "metadata": {},
   "outputs": [],
   "source": [
    "import email\n",
    "import email.policy\n",
    "\n",
    "def load_email(is_spam, filename, spam_path=SPAM_PATH):\n",
    "    directory = \"spam\" if is_spam else \"easy_ham\"\n",
    "    with open(os.path.join(spam_path, directory, filename), \"rb\") as f:\n",
    "        return email.parser.BytesParser(policy=email.policy.default).parse(f)"
   ]
  },
  {
   "cell_type": "code",
   "execution_count": 9,
   "id": "046f1893",
   "metadata": {},
   "outputs": [],
   "source": [
    "ham_emails = [load_email(is_spam=False, filename=name) for name in ham_filenames]\n",
    "spam_emails = [load_email(is_spam=True, filename=name) for name in spam_filenames]"
   ]
  },
  {
   "cell_type": "code",
   "execution_count": 10,
   "id": "acc34256",
   "metadata": {},
   "outputs": [
    {
     "name": "stdout",
     "output_type": "stream",
     "text": [
      "Martin A posted:\n",
      "Tassos Papadopoulos, the Greek sculptor behind the plan, judged that the\n",
      " limestone of Mount Kerdylio, 70 miles east of Salonika and not far from the\n",
      " Mount Athos monastic community, was ideal for the patriotic sculpture. \n",
      " \n",
      " As well as Alexander's granite features, 240 ft high and 170 ft wide, a\n",
      " museum, a restored amphitheatre and car park for admiring crowds are\n",
      "planned\n",
      "---------------------\n",
      "So is this mountain limestone or granite?\n",
      "If it's limestone, it'll weather pretty fast.\n",
      "\n",
      "------------------------ Yahoo! Groups Sponsor ---------------------~-->\n",
      "4 DVDs Free +s&p Join Now\n",
      "http://us.click.yahoo.com/pt6YBB/NXiEAA/mG3HAA/7gSolB/TM\n",
      "---------------------------------------------------------------------~->\n",
      "\n",
      "To unsubscribe from this group, send an email to:\n",
      "forteana-unsubscribe@egroups.com\n",
      "\n",
      " \n",
      "\n",
      "Your use of Yahoo! Groups is subject to http://docs.yahoo.com/info/terms/\n"
     ]
    }
   ],
   "source": [
    "print(ham_emails[1].get_content().strip())"
   ]
  },
  {
   "cell_type": "code",
   "execution_count": 11,
   "id": "2b606d77",
   "metadata": {},
   "outputs": [
    {
     "name": "stdout",
     "output_type": "stream",
     "text": [
      "1) Fight The Risk of Cancer!\n",
      "http://www.adclick.ws/p.cfm?o=315&s=pk007\n",
      "\n",
      "2) Slim Down - Guaranteed to lose 10-12 lbs in 30 days\n",
      "http://www.adclick.ws/p.cfm?o=249&s=pk007\n",
      "\n",
      "3) Get the Child Support You Deserve - Free Legal Advice\n",
      "http://www.adclick.ws/p.cfm?o=245&s=pk002\n",
      "\n",
      "4) Join the Web's Fastest Growing Singles Community\n",
      "http://www.adclick.ws/p.cfm?o=259&s=pk007\n",
      "\n",
      "5) Start Your Private Photo Album Online!\n",
      "http://www.adclick.ws/p.cfm?o=283&s=pk007\n",
      "\n",
      "Have a Wonderful Day,\n",
      "Offer Manager\n",
      "PrizeMama\n",
      "\n",
      "\n",
      "\n",
      "\n",
      "\n",
      "\n",
      "\n",
      "\n",
      "\n",
      "\n",
      "\n",
      "\n",
      "\n",
      "If you wish to leave this list please use the link below.\n",
      "http://www.qves.com/trim/?ilug@linux.ie%7C17%7C114258\n",
      "\n",
      "\n",
      "-- \n",
      "Irish Linux Users' Group: ilug@linux.ie\n",
      "http://www.linux.ie/mailman/listinfo/ilug for (un)subscription information.\n",
      "List maintainer: listmaster@linux.ie\n"
     ]
    }
   ],
   "source": [
    "print(spam_emails[1].get_content().strip())"
   ]
  },
  {
   "cell_type": "code",
   "execution_count": 12,
   "id": "1a19fa29",
   "metadata": {},
   "outputs": [],
   "source": [
    "def get_email_structure(email):\n",
    "    if isinstance(email, str):\n",
    "        return email\n",
    "    payload = email.get_payload()\n",
    "    if isinstance(payload, list):\n",
    "        return \"multipart({})\".format(\", \".join([get_email_structure(sub_email) for sub_email in payload]))\n",
    "    else:\n",
    "        return email.get_content_type()\n",
    "    "
   ]
  },
  {
   "cell_type": "code",
   "execution_count": 13,
   "id": "e9dd28cc",
   "metadata": {
    "scrolled": true
   },
   "outputs": [],
   "source": [
    "from collections import Counter\n",
    "\n",
    "def structures_counter(emails):\n",
    "    structures = Counter()\n",
    "    for email in emails:\n",
    "        structure = get_email_structure(email)\n",
    "        structures[structure] += 1\n",
    "    return structures"
   ]
  },
  {
   "cell_type": "code",
   "execution_count": 14,
   "id": "1b21a1c7",
   "metadata": {},
   "outputs": [
    {
     "data": {
      "text/plain": [
       "[('text/plain', 2408),\n",
       " ('multipart(text/plain, application/pgp-signature)', 66),\n",
       " ('multipart(text/plain, text/html)', 8),\n",
       " ('multipart(text/plain, text/plain)', 4),\n",
       " ('multipart(text/plain)', 3),\n",
       " ('multipart(text/plain, application/octet-stream)', 2),\n",
       " ('multipart(text/plain, text/enriched)', 1),\n",
       " ('multipart(text/plain, application/ms-tnef, text/plain)', 1),\n",
       " ('multipart(multipart(text/plain, text/plain, text/plain), application/pgp-signature)',\n",
       "  1),\n",
       " ('multipart(text/plain, video/mng)', 1),\n",
       " ('multipart(text/plain, multipart(text/plain))', 1),\n",
       " ('multipart(text/plain, application/x-pkcs7-signature)', 1),\n",
       " ('multipart(text/plain, multipart(text/plain, text/plain), text/rfc822-headers)',\n",
       "  1),\n",
       " ('multipart(text/plain, multipart(text/plain, text/plain), multipart(multipart(text/plain, application/x-pkcs7-signature)))',\n",
       "  1),\n",
       " ('multipart(text/plain, application/x-java-applet)', 1)]"
      ]
     },
     "execution_count": 14,
     "metadata": {},
     "output_type": "execute_result"
    }
   ],
   "source": [
    "structures_counter(ham_emails).most_common()"
   ]
  },
  {
   "cell_type": "code",
   "execution_count": 15,
   "id": "20bbaf58",
   "metadata": {},
   "outputs": [
    {
     "data": {
      "text/plain": [
       "[('text/plain', 218),\n",
       " ('text/html', 183),\n",
       " ('multipart(text/plain, text/html)', 45),\n",
       " ('multipart(text/html)', 20),\n",
       " ('multipart(text/plain)', 19),\n",
       " ('multipart(multipart(text/html))', 5),\n",
       " ('multipart(text/plain, image/jpeg)', 3),\n",
       " ('multipart(text/html, application/octet-stream)', 2),\n",
       " ('multipart(text/plain, application/octet-stream)', 1),\n",
       " ('multipart(text/html, text/plain)', 1),\n",
       " ('multipart(multipart(text/html), application/octet-stream, image/jpeg)', 1),\n",
       " ('multipart(multipart(text/plain, text/html), image/gif)', 1),\n",
       " ('multipart/alternative', 1)]"
      ]
     },
     "execution_count": 15,
     "metadata": {},
     "output_type": "execute_result"
    }
   ],
   "source": [
    "structures_counter(spam_emails).most_common()"
   ]
  },
  {
   "cell_type": "code",
   "execution_count": 16,
   "id": "0e709d58",
   "metadata": {},
   "outputs": [
    {
     "name": "stdout",
     "output_type": "stream",
     "text": [
      "Return-Path : <12a1mailbot1@web.de>\n",
      "Delivered-To : zzzz@localhost.spamassassin.taint.org\n",
      "Received : from localhost (localhost [127.0.0.1])\tby phobos.labs.spamassassin.taint.org (Postfix) with ESMTP id 136B943C32\tfor <zzzz@localhost>; Thu, 22 Aug 2002 08:17:21 -0400 (EDT)\n",
      "Received : from mail.webnote.net [193.120.211.219]\tby localhost with POP3 (fetchmail-5.9.0)\tfor zzzz@localhost (single-drop); Thu, 22 Aug 2002 13:17:21 +0100 (IST)\n",
      "Received : from dd_it7 ([210.97.77.167])\tby webnote.net (8.9.3/8.9.3) with ESMTP id NAA04623\tfor <zzzz@spamassassin.taint.org>; Thu, 22 Aug 2002 13:09:41 +0100\n",
      "From : 12a1mailbot1@web.de\n",
      "Received : from r-smtp.korea.com - 203.122.2.197 by dd_it7  with Microsoft SMTPSVC(5.5.1775.675.6);\t Sat, 24 Aug 2002 09:42:10 +0900\n",
      "To : dcek1a1@netsgo.com\n",
      "Subject : Life Insurance - Why Pay More?\n",
      "Date : Wed, 21 Aug 2002 20:31:57 -1600\n",
      "MIME-Version : 1.0\n",
      "Message-ID : <0103c1042001882DD_IT7@dd_it7>\n",
      "Content-Type : text/html; charset=\"iso-8859-1\"\n",
      "Content-Transfer-Encoding : quoted-printable\n"
     ]
    }
   ],
   "source": [
    "for header, value in spam_emails[0].items():\n",
    "    print(header, \":\", value)"
   ]
  },
  {
   "cell_type": "code",
   "execution_count": 17,
   "id": "f9ec69ce",
   "metadata": {},
   "outputs": [],
   "source": [
    "import numpy as np\n",
    "from sklearn.model_selection import train_test_split\n",
    "\n",
    "X = np.array(ham_emails + spam_emails, dtype=object)\n",
    "y = np.array([0]*len(ham_emails) + [1]*len(spam_emails))\n",
    "X_train, X_test, y_train, y_test = train_test_split(X, y, test_size=0.2, random_state=42)"
   ]
  },
  {
   "cell_type": "code",
   "execution_count": 18,
   "id": "2dbdc935",
   "metadata": {},
   "outputs": [],
   "source": [
    "import re\n",
    "from html import unescape\n",
    "\n",
    "def html_to_plain_text(html):\n",
    "    text = re.sub('<head.*?>.*?</head>', '', html, flags=re.M | re.S | re.I)\n",
    "    text = re.sub('<a\\s.*?>', ' HYPERLINK ', text, flags=re.M | re.S | re.I)\n",
    "    text = re.sub('<.*?>', '', text, flags=re.M | re.S)\n",
    "    text = re.sub(r'(\\s*\\n)+', '\\n', text, flags=re.M | re.S)\n",
    "    return unescape(text)"
   ]
  },
  {
   "cell_type": "code",
   "execution_count": 19,
   "id": "893eaad5",
   "metadata": {},
   "outputs": [
    {
     "name": "stdout",
     "output_type": "stream",
     "text": [
      "<HTML><HEAD><TITLE></TITLE><META http-equiv=\"Content-Type\" content=\"text/html; charset=windows-1252\"><STYLE>A:link {TEX-DECORATION: none}A:active {TEXT-DECORATION: none}A:visited {TEXT-DECORATION: none}A:hover {COLOR: #0033ff; TEXT-DECORATION: underline}</STYLE><META content=\"MSHTML 6.00.2713.1100\" name=\"GENERATOR\"></HEAD>\n",
      "<BODY text=\"#000000\" vLink=\"#0033ff\" link=\"#0033ff\" bgColor=\"#CCCC99\"><TABLE borderColor=\"#660000\" cellSpacing=\"0\" cellPadding=\"0\" border=\"0\" width=\"100%\"><TR><TD bgColor=\"#CCCC99\" valign=\"top\" colspan=\"2\" height=\"27\">\n",
      "<font size=\"6\" face=\"Arial, Helvetica, sans-serif\" color=\"#660000\">\n",
      "<b>OTC</b></font></TD></TR><TR><TD height=\"2\" bgcolor=\"#6a694f\">\n",
      "<font size=\"5\" face=\"Times New Roman, Times, serif\" color=\"#FFFFFF\">\n",
      "<b>&nbsp;Newsletter</b></font></TD><TD height=\"2\" bgcolor=\"#6a694f\"><div align=\"right\"><font color=\"#FFFFFF\">\n",
      "<b>Discover Tomorrow's Winners&nbsp;</b></font></div></TD></TR><TR><TD height=\"25\" colspan=\"2\" bgcolor=\"#CCCC99\"><table width=\"100%\" border=\"0\"  ...\n"
     ]
    }
   ],
   "source": [
    "html_spam_emails = [email for email in X_train[y_train==1] if get_email_structure(email) == \"text/html\"]\n",
    "sample_html_spam = html_spam_emails[7]\n",
    "print(sample_html_spam.get_content().strip()[:1000], \"...\")"
   ]
  },
  {
   "cell_type": "code",
   "execution_count": 20,
   "id": "b4afce15",
   "metadata": {},
   "outputs": [
    {
     "name": "stdout",
     "output_type": "stream",
     "text": [
      "\n",
      "OTC\n",
      " Newsletter\n",
      "Discover Tomorrow's Winners \n",
      "For Immediate Release\n",
      "Cal-Bay (Stock Symbol: CBYI)\n",
      "Watch for analyst \"Strong Buy Recommendations\" and several advisory newsletters picking CBYI.  CBYI has filed to be traded on the OTCBB, share prices historically INCREASE when companies get listed on this larger trading exchange. CBYI is trading around 25 cents and should skyrocket to $2.66 - $3.25 a share in the near future.\n",
      "Put CBYI on your watch list, acquire a position TODAY.\n",
      "REASONS TO INVEST IN CBYI\n",
      "A profitable company and is on track to beat ALL earnings estimates!\n",
      "One of the FASTEST growing distributors in environmental & safety equipment instruments.\n",
      "Excellent management team, several EXCLUSIVE contracts.  IMPRESSIVE client list including the U.S. Air Force, Anheuser-Busch, Chevron Refining and Mitsubishi Heavy Industries, GE-Energy & Environmental Research.\n",
      "RAPIDLY GROWING INDUSTRY\n",
      "Industry revenues exceed $900 million, estimates indicate that there could be as much as $25 billi ...\n"
     ]
    }
   ],
   "source": [
    "print(html_to_plain_text(sample_html_spam.get_content())[:1000], \"...\")"
   ]
  },
  {
   "cell_type": "code",
   "execution_count": 21,
   "id": "72463de6",
   "metadata": {},
   "outputs": [],
   "source": [
    "def email_to_text(email):\n",
    "    html = None\n",
    "    for part in email.walk():\n",
    "        ctype = part.get_content_type()\n",
    "        if not ctype in (\"text/plain\", \"text/html\"):\n",
    "            continue\n",
    "        try:\n",
    "            content = part.get_content()\n",
    "        except:\n",
    "            content = str(part.get_payload())\n",
    "        if ctype == \"text/plain\":\n",
    "            return content\n",
    "        else:\n",
    "            html = content\n",
    "    if html:\n",
    "        return html_to_plain_text(html)"
   ]
  },
  {
   "cell_type": "code",
   "execution_count": 23,
   "id": "51a56f37",
   "metadata": {},
   "outputs": [
    {
     "name": "stdout",
     "output_type": "stream",
     "text": [
      "computations => comput\n",
      "Computation => comput\n",
      "Computating => comput\n",
      "Computed => comput\n",
      "Compute => comput\n",
      "Compulsive => compuls\n"
     ]
    }
   ],
   "source": [
    "try:\n",
    "    import nltk\n",
    "    \n",
    "    stemmer = nltk.PorterStemmer()\n",
    "    for word in (\"computations\", \"Computation\", \"Computating\", \"Computed\", \"Compute\", \"Compulsive\"):\n",
    "        print(word, \"=>\", stemmer.stem(word))\n",
    "except ImportError:\n",
    "    print(\"Error: stemming requires the NLTK module.\")\n",
    "    stemmer = None"
   ]
  },
  {
   "cell_type": "code",
   "execution_count": 25,
   "id": "2e709fa1",
   "metadata": {},
   "outputs": [
    {
     "name": "stdout",
     "output_type": "stream",
     "text": [
      "['github.com', 'https://youtu.be/7Pq-S557XQU?t=3m32s']\n"
     ]
    }
   ],
   "source": [
    "try:\n",
    "    import urlextract # may require an Internet connection to download root domain names\n",
    "    \n",
    "    url_extractor = urlextract.URLExtract()\n",
    "    print(url_extractor.find_urls(\"Will it detect github.com and https://youtu.be/7Pq-S557XQU?t=3m32s\"))\n",
    "except ImportError:\n",
    "    print(\"Error: replacing URLs requires the urlextract module.\")\n",
    "    url_extractor = None"
   ]
  },
  {
   "cell_type": "code",
   "execution_count": 31,
   "id": "242d44e9",
   "metadata": {},
   "outputs": [],
   "source": [
    "from sklearn.base import BaseEstimator, TransformerMixin\n",
    "\n",
    "class EmailToWordCounterTransformer(BaseEstimator, TransformerMixin):\n",
    "    def __init__(self, strip_headers=True, low_case=True, remove_punctuation=True, \n",
    "                 replace_urls=True, replace_numbers=True, stemming=True):\n",
    "        self.strip_headers = strip_headers\n",
    "        self.low_case = low_case\n",
    "        self.remove_punctuation = remove_punctuation\n",
    "        self.replace_urls = replace_urls\n",
    "        self.replace_numbers = replace_numbers\n",
    "        self.stemming = stemming\n",
    "    \n",
    "    def fit(self, X, y=None):\n",
    "        return self\n",
    "    \n",
    "    def transform(self, X, y=None):\n",
    "        X_transformed = []\n",
    "        for email in X:\n",
    "            text = email_to_text(email) or \"\"\n",
    "            if self.low_case:\n",
    "                text = text.lower()\n",
    "            if self.replace_urls and url_extractor is not None:\n",
    "                urls = list(set(url_extractor.find_urls(text)))\n",
    "                urls.sort(key=lambda url: len(url), reverse=True)\n",
    "                for url in urls:\n",
    "                    text = text.replace(url, \" URL \")\n",
    "            if self.replace_numbers:\n",
    "                text = re.sub(r'\\d+(?:\\.\\d*)?(?:[eE][+-]?\\d+)?', 'NUMBER', text)\n",
    "            if self.remove_punctuation:\n",
    "                text = re.sub(r'\\W+', ' ', text, flags=re.M)\n",
    "            word_counts = Counter(text.split())\n",
    "            if self.stemming and stemmer is not None:\n",
    "                stemmed_word_counts = Counter()\n",
    "                for word, count in word_counts.items():\n",
    "                    stemmed_word = stemmer.stem(word)\n",
    "                    stemmed_word_counts[stemmed_word] += count\n",
    "                word_counts = stemmed_word_counts\n",
    "            X_transformed.append(word_counts)\n",
    "        return np.array(X_transformed)"
   ]
  },
  {
   "cell_type": "code",
   "execution_count": 32,
   "id": "24b5c16f",
   "metadata": {},
   "outputs": [
    {
     "data": {
      "text/plain": [
       "array([Counter({'chuck': 1, 'murcko': 1, 'wrote': 1, 'stuff': 1, 'yawn': 1, 'r': 1}),\n",
       "       Counter({'the': 11, 'of': 9, 'and': 8, 'all': 3, 'christian': 3, 'to': 3, 'by': 3, 'jefferson': 2, 'i': 2, 'have': 2, 'superstit': 2, 'one': 2, 'on': 2, 'been': 2, 'ha': 2, 'half': 2, 'rogueri': 2, 'teach': 2, 'jesu': 2, 'some': 1, 'interest': 1, 'quot': 1, 'url': 1, 'thoma': 1, 'examin': 1, 'known': 1, 'word': 1, 'do': 1, 'not': 1, 'find': 1, 'in': 1, 'our': 1, 'particular': 1, 'redeem': 1, 'featur': 1, 'they': 1, 'are': 1, 'alik': 1, 'found': 1, 'fabl': 1, 'mytholog': 1, 'million': 1, 'innoc': 1, 'men': 1, 'women': 1, 'children': 1, 'sinc': 1, 'introduct': 1, 'burnt': 1, 'tortur': 1, 'fine': 1, 'imprison': 1, 'what': 1, 'effect': 1, 'thi': 1, 'coercion': 1, 'make': 1, 'world': 1, 'fool': 1, 'other': 1, 'hypocrit': 1, 'support': 1, 'error': 1, 'over': 1, 'earth': 1, 'six': 1, 'histor': 1, 'american': 1, 'john': 1, 'e': 1, 'remsburg': 1, 'letter': 1, 'william': 1, 'short': 1, 'again': 1, 'becom': 1, 'most': 1, 'pervert': 1, 'system': 1, 'that': 1, 'ever': 1, 'shone': 1, 'man': 1, 'absurd': 1, 'untruth': 1, 'were': 1, 'perpetr': 1, 'upon': 1, 'a': 1, 'larg': 1, 'band': 1, 'dupe': 1, 'import': 1, 'led': 1, 'paul': 1, 'first': 1, 'great': 1, 'corrupt': 1}),\n",
       "       Counter({'url': 4, 's': 3, 'group': 3, 'to': 3, 'in': 2, 'forteana': 2, 'martin': 2, 'an': 2, 'and': 2, 'we': 2, 'is': 2, 'yahoo': 2, 'unsubscrib': 2, 'y': 1, 'adamson': 1, 'wrote': 1, 'for': 1, 'altern': 1, 'rather': 1, 'more': 1, 'factual': 1, 'base': 1, 'rundown': 1, 'on': 1, 'hamza': 1, 'career': 1, 'includ': 1, 'hi': 1, 'belief': 1, 'that': 1, 'all': 1, 'non': 1, 'muslim': 1, 'yemen': 1, 'should': 1, 'be': 1, 'murder': 1, 'outright': 1, 'know': 1, 'how': 1, 'unbias': 1, 'memri': 1, 'don': 1, 't': 1, 'html': 1, 'rob': 1, 'sponsor': 1, 'number': 1, 'dvd': 1, 'free': 1, 'p': 1, 'join': 1, 'now': 1, 'from': 1, 'thi': 1, 'send': 1, 'email': 1, 'egroup': 1, 'com': 1, 'your': 1, 'use': 1, 'of': 1, 'subject': 1})],\n",
       "      dtype=object)"
      ]
     },
     "execution_count": 32,
     "metadata": {},
     "output_type": "execute_result"
    }
   ],
   "source": [
    "X_few = X_train[:3]\n",
    "X_few_wordcounts = EmailToWordCounterTransformer().fit_transform(X_few)\n",
    "X_few_wordcounts"
   ]
  },
  {
   "cell_type": "code",
   "execution_count": 35,
   "id": "252a3e94",
   "metadata": {},
   "outputs": [],
   "source": [
    "from scipy.sparse import csr_matrix\n",
    "\n",
    "class WordCounterToVectorTransformer(BaseEstimator, TransformerMixin):\n",
    "    def __init__(self, vocabulary_size=1000):\n",
    "        self.vocabulary_size = vocabulary_size\n",
    "    \n",
    "    def fit(self, X, y=None):\n",
    "        total_count = Counter()\n",
    "        for word_count in X:\n",
    "            for word, count in word_count.items():\n",
    "                total_count[word] += min(count, 10)\n",
    "        most_common = total_count.most_common()[:self.vocabulary_size]\n",
    "        self.vocabulary_ = {word: index + 1 for index, (word, count) in enumerate(most_common)}\n",
    "        return self\n",
    "    \n",
    "    def transform(self, X, y=None):\n",
    "        rows = []\n",
    "        cols = []\n",
    "        data = []\n",
    "        for row, word_count in enumerate(X):\n",
    "            for word, count in word_count.items():\n",
    "                rows.append(row)\n",
    "                cols.append(self.vocabulary_.get(word, 0))\n",
    "                data.append(count)\n",
    "        return csr_matrix((data, (rows, cols)), shape=(len(X), self.vocabulary_size + 1))"
   ]
  },
  {
   "cell_type": "code",
   "execution_count": 36,
   "id": "a31dd984",
   "metadata": {},
   "outputs": [
    {
     "data": {
      "text/plain": [
       "<3x11 sparse matrix of type '<class 'numpy.intc'>'\n",
       "\twith 20 stored elements in Compressed Sparse Row format>"
      ]
     },
     "execution_count": 36,
     "metadata": {},
     "output_type": "execute_result"
    }
   ],
   "source": [
    "vocab_transformer = WordCounterToVectorTransformer(vocabulary_size=10)\n",
    "X_few_vectors = vocab_transformer.fit_transform(X_few_wordcounts)\n",
    "X_few_vectors"
   ]
  },
  {
   "cell_type": "code",
   "execution_count": 37,
   "id": "3eaa1e3d",
   "metadata": {},
   "outputs": [
    {
     "data": {
      "text/plain": [
       "array([[ 6,  0,  0,  0,  0,  0,  0,  0,  0,  0,  0],\n",
       "       [99, 11,  9,  8,  3,  1,  3,  1,  3,  2,  3],\n",
       "       [67,  0,  1,  2,  3,  4,  1,  2,  0,  1,  0]], dtype=int32)"
      ]
     },
     "execution_count": 37,
     "metadata": {},
     "output_type": "execute_result"
    }
   ],
   "source": [
    "X_few_vectors.toarray()"
   ]
  },
  {
   "cell_type": "code",
   "execution_count": 38,
   "id": "1fd9515c",
   "metadata": {},
   "outputs": [
    {
     "data": {
      "text/plain": [
       "{'the': 1,\n",
       " 'of': 2,\n",
       " 'and': 3,\n",
       " 'to': 4,\n",
       " 'url': 5,\n",
       " 'all': 6,\n",
       " 'in': 7,\n",
       " 'christian': 8,\n",
       " 'on': 9,\n",
       " 'by': 10}"
      ]
     },
     "execution_count": 38,
     "metadata": {},
     "output_type": "execute_result"
    }
   ],
   "source": [
    "vocab_transformer.vocabulary_"
   ]
  },
  {
   "cell_type": "code",
   "execution_count": 40,
   "id": "d15a272c",
   "metadata": {},
   "outputs": [],
   "source": [
    "from sklearn.pipeline import Pipeline\n",
    "\n",
    "preprocess_pipeline = Pipeline([\n",
    "    (\"email_to_wordcount\", EmailToWordCounterTransformer()),\n",
    "    (\"wordcount_to_vector\", WordCounterToVectorTransformer()),\n",
    "])\n",
    "\n",
    "X_train_transformed = preprocess_pipeline.fit_transform(X_train)"
   ]
  },
  {
   "cell_type": "code",
   "execution_count": 43,
   "id": "4f654235",
   "metadata": {},
   "outputs": [
    {
     "name": "stderr",
     "output_type": "stream",
     "text": [
      "[Parallel(n_jobs=1)]: Using backend SequentialBackend with 1 concurrent workers.\n"
     ]
    },
    {
     "name": "stdout",
     "output_type": "stream",
     "text": [
      "[CV] END ................................ score: (test=0.981) total time=   0.2s\n"
     ]
    },
    {
     "name": "stderr",
     "output_type": "stream",
     "text": [
      "[Parallel(n_jobs=1)]: Done   1 out of   1 | elapsed:    0.2s remaining:    0.0s\n"
     ]
    },
    {
     "name": "stdout",
     "output_type": "stream",
     "text": [
      "[CV] END ................................ score: (test=0.984) total time=   0.3s\n"
     ]
    },
    {
     "name": "stderr",
     "output_type": "stream",
     "text": [
      "[Parallel(n_jobs=1)]: Done   2 out of   2 | elapsed:    0.6s remaining:    0.0s\n"
     ]
    },
    {
     "name": "stdout",
     "output_type": "stream",
     "text": [
      "[CV] END ................................ score: (test=0.990) total time=   0.5s\n"
     ]
    },
    {
     "name": "stderr",
     "output_type": "stream",
     "text": [
      "[Parallel(n_jobs=1)]: Done   3 out of   3 | elapsed:    1.2s finished\n"
     ]
    },
    {
     "data": {
      "text/plain": [
       "0.985"
      ]
     },
     "execution_count": 43,
     "metadata": {},
     "output_type": "execute_result"
    }
   ],
   "source": [
    "from sklearn.linear_model import LogisticRegression\n",
    "from sklearn.model_selection import cross_val_score\n",
    "\n",
    "log_clf = LogisticRegression(solver=\"lbfgs\", max_iter=1000, random_state=42)\n",
    "score = cross_val_score(log_clf, X_train_transformed, y_train, cv=3, verbose=3)\n",
    "score.mean()"
   ]
  },
  {
   "cell_type": "code",
   "execution_count": 44,
   "id": "7c5a176c",
   "metadata": {},
   "outputs": [
    {
     "name": "stdout",
     "output_type": "stream",
     "text": [
      "Precision: 96.88%\n",
      "Recall: 97.89%\n"
     ]
    }
   ],
   "source": [
    "from sklearn.metrics import precision_score, recall_score\n",
    "\n",
    "X_test_transformed = preprocess_pipeline.transform(X_test)\n",
    "\n",
    "log_clf = LogisticRegression(solver=\"lbfgs\", max_iter=1000, random_state=42)\n",
    "log_clf.fit(X_train_transformed, y_train)\n",
    "\n",
    "y_pred = log_clf.predict(X_test_transformed)\n",
    "\n",
    "print(\"Precision: {:.2f}%\".format(100 * precision_score(y_test, y_pred)))\n",
    "print(\"Recall: {:.2f}%\".format(100 * recall_score(y_test, y_pred)))"
   ]
  },
  {
   "cell_type": "code",
   "execution_count": 47,
   "id": "f89e0c9e",
   "metadata": {},
   "outputs": [
    {
     "name": "stdout",
     "output_type": "stream",
     "text": [
      "Fitting 5 folds for each of 6 candidates, totalling 30 fits\n",
      "[CV 1/5] END ........gamma=scale, kernel=linear;, score=0.969 total time=   0.4s\n",
      "[CV 2/5] END ........gamma=scale, kernel=linear;, score=0.985 total time=   0.4s\n",
      "[CV 3/5] END ........gamma=scale, kernel=linear;, score=0.983 total time=   0.5s\n",
      "[CV 4/5] END ........gamma=scale, kernel=linear;, score=0.983 total time=   0.4s\n",
      "[CV 5/5] END ........gamma=scale, kernel=linear;, score=0.981 total time=   0.4s\n",
      "[CV 1/5] END ...........gamma=scale, kernel=rbf;, score=0.858 total time=   1.6s\n",
      "[CV 2/5] END ...........gamma=scale, kernel=rbf;, score=0.877 total time=   1.5s\n",
      "[CV 3/5] END ...........gamma=scale, kernel=rbf;, score=0.877 total time=   1.4s\n",
      "[CV 4/5] END ...........gamma=scale, kernel=rbf;, score=0.850 total time=   1.4s\n",
      "[CV 5/5] END ...........gamma=scale, kernel=rbf;, score=0.875 total time=   1.4s\n",
      "[CV 1/5] END .......gamma=scale, kernel=sigmoid;, score=0.846 total time=   1.5s\n",
      "[CV 2/5] END .......gamma=scale, kernel=sigmoid;, score=0.838 total time=   1.5s\n",
      "[CV 3/5] END .......gamma=scale, kernel=sigmoid;, score=0.860 total time=   1.5s\n",
      "[CV 4/5] END .......gamma=scale, kernel=sigmoid;, score=0.842 total time=   1.4s\n",
      "[CV 5/5] END .......gamma=scale, kernel=sigmoid;, score=0.863 total time=   1.4s\n",
      "[CV 1/5] END .........gamma=auto, kernel=linear;, score=0.969 total time=   0.3s\n",
      "[CV 2/5] END .........gamma=auto, kernel=linear;, score=0.985 total time=   0.4s\n",
      "[CV 3/5] END .........gamma=auto, kernel=linear;, score=0.983 total time=   0.4s\n",
      "[CV 4/5] END .........gamma=auto, kernel=linear;, score=0.983 total time=   0.4s\n",
      "[CV 5/5] END .........gamma=auto, kernel=linear;, score=0.981 total time=   0.4s\n",
      "[CV 1/5] END ............gamma=auto, kernel=rbf;, score=0.944 total time=   1.3s\n",
      "[CV 2/5] END ............gamma=auto, kernel=rbf;, score=0.948 total time=   1.4s\n",
      "[CV 3/5] END ............gamma=auto, kernel=rbf;, score=0.954 total time=   1.5s\n",
      "[CV 4/5] END ............gamma=auto, kernel=rbf;, score=0.950 total time=   1.4s\n",
      "[CV 5/5] END ............gamma=auto, kernel=rbf;, score=0.967 total time=   1.7s\n",
      "[CV 1/5] END ........gamma=auto, kernel=sigmoid;, score=0.754 total time=   1.3s\n",
      "[CV 2/5] END ........gamma=auto, kernel=sigmoid;, score=0.760 total time=   1.3s\n",
      "[CV 3/5] END ........gamma=auto, kernel=sigmoid;, score=0.760 total time=   1.2s\n",
      "[CV 4/5] END ........gamma=auto, kernel=sigmoid;, score=0.715 total time=   1.1s\n",
      "[CV 5/5] END ........gamma=auto, kernel=sigmoid;, score=0.771 total time=   1.1s\n"
     ]
    },
    {
     "data": {
      "text/plain": [
       "GridSearchCV(cv=5, estimator=SVC(),\n",
       "             param_grid=[{'gamma': ['scale', 'auto'],\n",
       "                          'kernel': ['linear', 'rbf', 'sigmoid']}],\n",
       "             verbose=3)"
      ]
     },
     "execution_count": 47,
     "metadata": {},
     "output_type": "execute_result"
    }
   ],
   "source": [
    "from sklearn.svm import SVC\n",
    "from sklearn.model_selection import GridSearchCV\n",
    "\n",
    "svm_clf = SVC()\n",
    "# GridSearchCV for SVC\n",
    "svc_param_grid = [{\"kernel\":[\"linear\", \"rbf\", \"sigmoid\"],\n",
    "                   \"gamma\": [\"scale\", \"auto\"],\n",
    "                  }]\n",
    "\n",
    "svc_grid_search = GridSearchCV(svm_clf, svc_param_grid, cv=5, verbose=3)\n",
    "svc_grid_search.fit(X_train_transformed, y_train)"
   ]
  },
  {
   "cell_type": "code",
   "execution_count": 48,
   "id": "8aa56f11",
   "metadata": {},
   "outputs": [
    {
     "data": {
      "text/plain": [
       "{'gamma': 'scale', 'kernel': 'linear'}"
      ]
     },
     "execution_count": 48,
     "metadata": {},
     "output_type": "execute_result"
    }
   ],
   "source": [
    "svc_grid_search.best_params_"
   ]
  },
  {
   "cell_type": "code",
   "execution_count": 49,
   "id": "ffbcb3ae",
   "metadata": {},
   "outputs": [
    {
     "data": {
      "text/plain": [
       "0.9804166666666667"
      ]
     },
     "execution_count": 49,
     "metadata": {},
     "output_type": "execute_result"
    }
   ],
   "source": [
    "svc_grid_search.best_score_"
   ]
  },
  {
   "cell_type": "code",
   "execution_count": 50,
   "id": "224d6aa3",
   "metadata": {},
   "outputs": [
    {
     "name": "stdout",
     "output_type": "stream",
     "text": [
      "Fitting 5 folds for each of 16 candidates, totalling 80 fits\n",
      "[CV 1/5] END bootstrap=True, criterion=gini, n_estimators=10;, score=0.965 total time=   0.0s\n",
      "[CV 2/5] END bootstrap=True, criterion=gini, n_estimators=10;, score=0.973 total time=   0.0s\n",
      "[CV 3/5] END bootstrap=True, criterion=gini, n_estimators=10;, score=0.969 total time=   0.0s\n",
      "[CV 4/5] END bootstrap=True, criterion=gini, n_estimators=10;, score=0.975 total time=   0.0s\n",
      "[CV 5/5] END bootstrap=True, criterion=gini, n_estimators=10;, score=0.971 total time=   0.0s\n",
      "[CV 1/5] END bootstrap=True, criterion=gini, n_estimators=50;, score=0.971 total time=   0.4s\n",
      "[CV 2/5] END bootstrap=True, criterion=gini, n_estimators=50;, score=0.977 total time=   0.4s\n",
      "[CV 3/5] END bootstrap=True, criterion=gini, n_estimators=50;, score=0.983 total time=   0.8s\n",
      "[CV 4/5] END bootstrap=True, criterion=gini, n_estimators=50;, score=0.988 total time=   0.5s\n",
      "[CV 5/5] END bootstrap=True, criterion=gini, n_estimators=50;, score=0.977 total time=   0.4s\n",
      "[CV 1/5] END bootstrap=True, criterion=gini, n_estimators=75;, score=0.979 total time=   0.9s\n",
      "[CV 2/5] END bootstrap=True, criterion=gini, n_estimators=75;, score=0.979 total time=   0.6s\n",
      "[CV 3/5] END bootstrap=True, criterion=gini, n_estimators=75;, score=0.985 total time=   0.6s\n",
      "[CV 4/5] END bootstrap=True, criterion=gini, n_estimators=75;, score=0.988 total time=   0.6s\n",
      "[CV 5/5] END bootstrap=True, criterion=gini, n_estimators=75;, score=0.981 total time=   0.7s\n",
      "[CV 1/5] END bootstrap=True, criterion=gini, n_estimators=100;, score=0.979 total time=   0.9s\n",
      "[CV 2/5] END bootstrap=True, criterion=gini, n_estimators=100;, score=0.979 total time=   1.0s\n",
      "[CV 3/5] END bootstrap=True, criterion=gini, n_estimators=100;, score=0.985 total time=   1.0s\n",
      "[CV 4/5] END bootstrap=True, criterion=gini, n_estimators=100;, score=0.988 total time=   1.0s\n",
      "[CV 5/5] END bootstrap=True, criterion=gini, n_estimators=100;, score=0.985 total time=   0.9s\n",
      "[CV 1/5] END bootstrap=True, criterion=entropy, n_estimators=10;, score=0.963 total time=   0.0s\n",
      "[CV 2/5] END bootstrap=True, criterion=entropy, n_estimators=10;, score=0.977 total time=   0.0s\n",
      "[CV 3/5] END bootstrap=True, criterion=entropy, n_estimators=10;, score=0.975 total time=   0.0s\n",
      "[CV 4/5] END bootstrap=True, criterion=entropy, n_estimators=10;, score=0.983 total time=   0.0s\n",
      "[CV 5/5] END bootstrap=True, criterion=entropy, n_estimators=10;, score=0.977 total time=   0.0s\n",
      "[CV 1/5] END bootstrap=True, criterion=entropy, n_estimators=50;, score=0.977 total time=   0.5s\n",
      "[CV 2/5] END bootstrap=True, criterion=entropy, n_estimators=50;, score=0.985 total time=   0.4s\n",
      "[CV 3/5] END bootstrap=True, criterion=entropy, n_estimators=50;, score=0.983 total time=   0.4s\n",
      "[CV 4/5] END bootstrap=True, criterion=entropy, n_estimators=50;, score=0.985 total time=   0.4s\n",
      "[CV 5/5] END bootstrap=True, criterion=entropy, n_estimators=50;, score=0.981 total time=   0.4s\n",
      "[CV 1/5] END bootstrap=True, criterion=entropy, n_estimators=75;, score=0.977 total time=   0.6s\n",
      "[CV 2/5] END bootstrap=True, criterion=entropy, n_estimators=75;, score=0.988 total time=   0.6s\n",
      "[CV 3/5] END bootstrap=True, criterion=entropy, n_estimators=75;, score=0.988 total time=   0.6s\n",
      "[CV 4/5] END bootstrap=True, criterion=entropy, n_estimators=75;, score=0.985 total time=   0.6s\n",
      "[CV 5/5] END bootstrap=True, criterion=entropy, n_estimators=75;, score=0.981 total time=   0.6s\n",
      "[CV 1/5] END bootstrap=True, criterion=entropy, n_estimators=100;, score=0.977 total time=   0.8s\n",
      "[CV 2/5] END bootstrap=True, criterion=entropy, n_estimators=100;, score=0.988 total time=   0.9s\n",
      "[CV 3/5] END bootstrap=True, criterion=entropy, n_estimators=100;, score=0.988 total time=   0.8s\n",
      "[CV 4/5] END bootstrap=True, criterion=entropy, n_estimators=100;, score=0.985 total time=   0.8s\n",
      "[CV 5/5] END bootstrap=True, criterion=entropy, n_estimators=100;, score=0.983 total time=   0.9s\n",
      "[CV 1/5] END bootstrap=False, criterion=gini, n_estimators=10;, score=0.965 total time=   0.0s\n",
      "[CV 2/5] END bootstrap=False, criterion=gini, n_estimators=10;, score=0.979 total time=   0.0s\n",
      "[CV 3/5] END bootstrap=False, criterion=gini, n_estimators=10;, score=0.981 total time=   0.0s\n",
      "[CV 4/5] END bootstrap=False, criterion=gini, n_estimators=10;, score=0.985 total time=   0.0s\n",
      "[CV 5/5] END bootstrap=False, criterion=gini, n_estimators=10;, score=0.969 total time=   0.0s\n",
      "[CV 1/5] END bootstrap=False, criterion=gini, n_estimators=50;, score=0.977 total time=   0.4s\n",
      "[CV 2/5] END bootstrap=False, criterion=gini, n_estimators=50;, score=0.983 total time=   0.4s\n",
      "[CV 3/5] END bootstrap=False, criterion=gini, n_estimators=50;, score=0.988 total time=   0.4s\n",
      "[CV 4/5] END bootstrap=False, criterion=gini, n_estimators=50;, score=0.983 total time=   0.4s\n",
      "[CV 5/5] END bootstrap=False, criterion=gini, n_estimators=50;, score=0.983 total time=   0.4s\n",
      "[CV 1/5] END bootstrap=False, criterion=gini, n_estimators=75;, score=0.979 total time=   0.7s\n",
      "[CV 2/5] END bootstrap=False, criterion=gini, n_estimators=75;, score=0.983 total time=   0.7s\n",
      "[CV 3/5] END bootstrap=False, criterion=gini, n_estimators=75;, score=0.988 total time=   0.7s\n",
      "[CV 4/5] END bootstrap=False, criterion=gini, n_estimators=75;, score=0.985 total time=   0.7s\n",
      "[CV 5/5] END bootstrap=False, criterion=gini, n_estimators=75;, score=0.985 total time=   0.7s\n",
      "[CV 1/5] END bootstrap=False, criterion=gini, n_estimators=100;, score=0.979 total time=   0.9s\n",
      "[CV 2/5] END bootstrap=False, criterion=gini, n_estimators=100;, score=0.985 total time=   0.9s\n",
      "[CV 3/5] END bootstrap=False, criterion=gini, n_estimators=100;, score=0.983 total time=   0.9s\n",
      "[CV 4/5] END bootstrap=False, criterion=gini, n_estimators=100;, score=0.988 total time=   0.9s\n",
      "[CV 5/5] END bootstrap=False, criterion=gini, n_estimators=100;, score=0.985 total time=   1.0s\n",
      "[CV 1/5] END bootstrap=False, criterion=entropy, n_estimators=10;, score=0.973 total time=   0.0s\n",
      "[CV 2/5] END bootstrap=False, criterion=entropy, n_estimators=10;, score=0.983 total time=   0.0s\n",
      "[CV 3/5] END bootstrap=False, criterion=entropy, n_estimators=10;, score=0.977 total time=   0.0s\n",
      "[CV 4/5] END bootstrap=False, criterion=entropy, n_estimators=10;, score=0.973 total time=   0.0s\n",
      "[CV 5/5] END bootstrap=False, criterion=entropy, n_estimators=10;, score=0.967 total time=   0.0s\n",
      "[CV 1/5] END bootstrap=False, criterion=entropy, n_estimators=50;, score=0.985 total time=   0.4s\n",
      "[CV 2/5] END bootstrap=False, criterion=entropy, n_estimators=50;, score=0.981 total time=   0.5s\n",
      "[CV 3/5] END bootstrap=False, criterion=entropy, n_estimators=50;, score=0.985 total time=   0.4s\n",
      "[CV 4/5] END bootstrap=False, criterion=entropy, n_estimators=50;, score=0.985 total time=   0.4s\n",
      "[CV 5/5] END bootstrap=False, criterion=entropy, n_estimators=50;, score=0.983 total time=   0.4s\n",
      "[CV 1/5] END bootstrap=False, criterion=entropy, n_estimators=75;, score=0.981 total time=   0.6s\n",
      "[CV 2/5] END bootstrap=False, criterion=entropy, n_estimators=75;, score=0.983 total time=   0.6s\n",
      "[CV 3/5] END bootstrap=False, criterion=entropy, n_estimators=75;, score=0.988 total time=   0.6s\n",
      "[CV 4/5] END bootstrap=False, criterion=entropy, n_estimators=75;, score=0.990 total time=   0.6s\n",
      "[CV 5/5] END bootstrap=False, criterion=entropy, n_estimators=75;, score=0.988 total time=   0.6s\n",
      "[CV 1/5] END bootstrap=False, criterion=entropy, n_estimators=100;, score=0.983 total time=   0.9s\n",
      "[CV 2/5] END bootstrap=False, criterion=entropy, n_estimators=100;, score=0.988 total time=   0.9s\n",
      "[CV 3/5] END bootstrap=False, criterion=entropy, n_estimators=100;, score=0.988 total time=   0.9s\n",
      "[CV 4/5] END bootstrap=False, criterion=entropy, n_estimators=100;, score=0.988 total time=   0.9s\n",
      "[CV 5/5] END bootstrap=False, criterion=entropy, n_estimators=100;, score=0.988 total time=   0.9s\n"
     ]
    },
    {
     "data": {
      "text/plain": [
       "GridSearchCV(cv=5, estimator=RandomForestClassifier(random_state=42),\n",
       "             param_grid=[{'bootstrap': [True, False],\n",
       "                          'criterion': ['gini', 'entropy'],\n",
       "                          'n_estimators': [10, 50, 75, 100]}],\n",
       "             verbose=3)"
      ]
     },
     "execution_count": 50,
     "metadata": {},
     "output_type": "execute_result"
    }
   ],
   "source": [
    "from sklearn.ensemble import RandomForestClassifier\n",
    "\n",
    "forest_clf = RandomForestClassifier(random_state=42)\n",
    "# GridSearchCV for RandomForestClassifier\n",
    "forest_clf_param_grid = [{\"n_estimators\":[10, 50, 75, 100], \n",
    "               \"criterion\": [\"gini\", \"entropy\"], \n",
    "               \"bootstrap\":[True, False]\n",
    "              }]\n",
    "\n",
    "forest_clf_grid_search = GridSearchCV(forest_clf, forest_clf_param_grid, cv=5, verbose=3)\n",
    "forest_clf_grid_search.fit(X_train_transformed, y_train)"
   ]
  },
  {
   "cell_type": "code",
   "execution_count": 51,
   "id": "2e9069b4",
   "metadata": {},
   "outputs": [
    {
     "data": {
      "text/plain": [
       "{'bootstrap': False, 'criterion': 'entropy', 'n_estimators': 100}"
      ]
     },
     "execution_count": 51,
     "metadata": {},
     "output_type": "execute_result"
    }
   ],
   "source": [
    "forest_clf_grid_search.best_params_"
   ]
  },
  {
   "cell_type": "code",
   "execution_count": 52,
   "id": "fd81faf2",
   "metadata": {},
   "outputs": [
    {
     "data": {
      "text/plain": [
       "0.9866666666666666"
      ]
     },
     "execution_count": 52,
     "metadata": {},
     "output_type": "execute_result"
    }
   ],
   "source": [
    "forest_clf_grid_search.best_score_"
   ]
  },
  {
   "cell_type": "code",
   "execution_count": 56,
   "id": "3dfe8c1a",
   "metadata": {},
   "outputs": [
    {
     "name": "stdout",
     "output_type": "stream",
     "text": [
      "Precision: 100.00%\n",
      "Recall: 92.63%\n"
     ]
    }
   ],
   "source": [
    "y_pred = forest_clf_grid_search.predict(X_test_transformed)\n",
    "\n",
    "print(\"Precision: {:.2f}%\".format(100 * precision_score(y_test, y_pred)))\n",
    "print(\"Recall: {:.2f}%\".format(100 * recall_score(y_test, y_pred)))"
   ]
  },
  {
   "cell_type": "code",
   "execution_count": 53,
   "id": "704aef41",
   "metadata": {},
   "outputs": [
    {
     "name": "stdout",
     "output_type": "stream",
     "text": [
      "Fitting 5 folds for each of 40 candidates, totalling 200 fits\n",
      "[CV 1/5] END algorithm=auto, n_neighbors=5, weights=uniform;, score=0.931 total time=   0.0s\n",
      "[CV 2/5] END algorithm=auto, n_neighbors=5, weights=uniform;, score=0.919 total time=   0.1s\n",
      "[CV 3/5] END algorithm=auto, n_neighbors=5, weights=uniform;, score=0.944 total time=   0.1s\n",
      "[CV 4/5] END algorithm=auto, n_neighbors=5, weights=uniform;, score=0.915 total time=   0.0s\n",
      "[CV 5/5] END algorithm=auto, n_neighbors=5, weights=uniform;, score=0.929 total time=   0.0s\n",
      "[CV 1/5] END algorithm=auto, n_neighbors=5, weights=distance;, score=0.942 total time=   0.0s\n",
      "[CV 2/5] END algorithm=auto, n_neighbors=5, weights=distance;, score=0.931 total time=   0.1s\n",
      "[CV 3/5] END algorithm=auto, n_neighbors=5, weights=distance;, score=0.956 total time=   0.0s\n",
      "[CV 4/5] END algorithm=auto, n_neighbors=5, weights=distance;, score=0.925 total time=   0.0s\n",
      "[CV 5/5] END algorithm=auto, n_neighbors=5, weights=distance;, score=0.944 total time=   0.0s\n",
      "[CV 1/5] END algorithm=auto, n_neighbors=10, weights=uniform;, score=0.902 total time=   0.0s\n",
      "[CV 2/5] END algorithm=auto, n_neighbors=10, weights=uniform;, score=0.869 total time=   0.1s\n",
      "[CV 3/5] END algorithm=auto, n_neighbors=10, weights=uniform;, score=0.894 total time=   0.1s\n",
      "[CV 4/5] END algorithm=auto, n_neighbors=10, weights=uniform;, score=0.875 total time=   0.1s\n",
      "[CV 5/5] END algorithm=auto, n_neighbors=10, weights=uniform;, score=0.883 total time=   0.1s\n",
      "[CV 1/5] END algorithm=auto, n_neighbors=10, weights=distance;, score=0.933 total time=   0.1s\n",
      "[CV 2/5] END algorithm=auto, n_neighbors=10, weights=distance;, score=0.925 total time=   0.1s\n",
      "[CV 3/5] END algorithm=auto, n_neighbors=10, weights=distance;, score=0.931 total time=   0.1s\n",
      "[CV 4/5] END algorithm=auto, n_neighbors=10, weights=distance;, score=0.904 total time=   0.0s\n",
      "[CV 5/5] END algorithm=auto, n_neighbors=10, weights=distance;, score=0.935 total time=   0.0s\n",
      "[CV 1/5] END algorithm=auto, n_neighbors=20, weights=uniform;, score=0.883 total time=   0.0s\n",
      "[CV 2/5] END algorithm=auto, n_neighbors=20, weights=uniform;, score=0.863 total time=   0.1s\n",
      "[CV 3/5] END algorithm=auto, n_neighbors=20, weights=uniform;, score=0.885 total time=   0.0s\n",
      "[CV 4/5] END algorithm=auto, n_neighbors=20, weights=uniform;, score=0.865 total time=   0.0s\n",
      "[CV 5/5] END algorithm=auto, n_neighbors=20, weights=uniform;, score=0.871 total time=   0.1s\n",
      "[CV 1/5] END algorithm=auto, n_neighbors=20, weights=distance;, score=0.919 total time=   0.0s\n",
      "[CV 2/5] END algorithm=auto, n_neighbors=20, weights=distance;, score=0.912 total time=   0.1s\n",
      "[CV 3/5] END algorithm=auto, n_neighbors=20, weights=distance;, score=0.925 total time=   0.1s\n",
      "[CV 4/5] END algorithm=auto, n_neighbors=20, weights=distance;, score=0.906 total time=   0.0s\n",
      "[CV 5/5] END algorithm=auto, n_neighbors=20, weights=distance;, score=0.917 total time=   0.0s\n",
      "[CV 1/5] END algorithm=auto, n_neighbors=50, weights=uniform;, score=0.844 total time=   0.1s\n",
      "[CV 2/5] END algorithm=auto, n_neighbors=50, weights=uniform;, score=0.852 total time=   0.0s\n",
      "[CV 3/5] END algorithm=auto, n_neighbors=50, weights=uniform;, score=0.852 total time=   0.1s\n",
      "[CV 4/5] END algorithm=auto, n_neighbors=50, weights=uniform;, score=0.844 total time=   0.1s\n",
      "[CV 5/5] END algorithm=auto, n_neighbors=50, weights=uniform;, score=0.846 total time=   0.1s\n",
      "[CV 1/5] END algorithm=auto, n_neighbors=50, weights=distance;, score=0.883 total time=   0.0s\n",
      "[CV 2/5] END algorithm=auto, n_neighbors=50, weights=distance;, score=0.896 total time=   0.0s\n",
      "[CV 3/5] END algorithm=auto, n_neighbors=50, weights=distance;, score=0.894 total time=   0.0s\n",
      "[CV 4/5] END algorithm=auto, n_neighbors=50, weights=distance;, score=0.885 total time=   0.0s\n",
      "[CV 5/5] END algorithm=auto, n_neighbors=50, weights=distance;, score=0.887 total time=   0.0s\n",
      "[CV 1/5] END algorithm=auto, n_neighbors=100, weights=uniform;, score=0.831 total time=   0.1s\n",
      "[CV 2/5] END algorithm=auto, n_neighbors=100, weights=uniform;, score=0.833 total time=   0.1s\n",
      "[CV 3/5] END algorithm=auto, n_neighbors=100, weights=uniform;, score=0.844 total time=   0.0s\n",
      "[CV 4/5] END algorithm=auto, n_neighbors=100, weights=uniform;, score=0.833 total time=   0.0s\n",
      "[CV 5/5] END algorithm=auto, n_neighbors=100, weights=uniform;, score=0.833 total time=   0.1s\n",
      "[CV 1/5] END algorithm=auto, n_neighbors=100, weights=distance;, score=0.856 total time=   0.0s\n",
      "[CV 2/5] END algorithm=auto, n_neighbors=100, weights=distance;, score=0.875 total time=   0.1s\n",
      "[CV 3/5] END algorithm=auto, n_neighbors=100, weights=distance;, score=0.879 total time=   0.0s\n",
      "[CV 4/5] END algorithm=auto, n_neighbors=100, weights=distance;, score=0.871 total time=   0.0s\n",
      "[CV 5/5] END algorithm=auto, n_neighbors=100, weights=distance;, score=0.877 total time=   0.0s\n"
     ]
    },
    {
     "name": "stderr",
     "output_type": "stream",
     "text": [
      "C:\\Users\\leatu\\anaconda3\\envs\\py39\\lib\\site-packages\\sklearn\\neighbors\\_base.py:501: UserWarning: cannot use tree with sparse input: using brute force\n",
      "  warnings.warn(\"cannot use tree with sparse input: using brute force\")\n",
      "C:\\Users\\leatu\\anaconda3\\envs\\py39\\lib\\site-packages\\sklearn\\neighbors\\_base.py:501: UserWarning: cannot use tree with sparse input: using brute force\n",
      "  warnings.warn(\"cannot use tree with sparse input: using brute force\")\n"
     ]
    },
    {
     "name": "stdout",
     "output_type": "stream",
     "text": [
      "[CV 1/5] END algorithm=ball_tree, n_neighbors=5, weights=uniform;, score=0.931 total time=   4.9s\n",
      "[CV 2/5] END algorithm=ball_tree, n_neighbors=5, weights=uniform;, score=0.919 total time=   0.0s\n"
     ]
    },
    {
     "name": "stderr",
     "output_type": "stream",
     "text": [
      "C:\\Users\\leatu\\anaconda3\\envs\\py39\\lib\\site-packages\\sklearn\\neighbors\\_base.py:501: UserWarning: cannot use tree with sparse input: using brute force\n",
      "  warnings.warn(\"cannot use tree with sparse input: using brute force\")\n",
      "C:\\Users\\leatu\\anaconda3\\envs\\py39\\lib\\site-packages\\sklearn\\neighbors\\_base.py:501: UserWarning: cannot use tree with sparse input: using brute force\n",
      "  warnings.warn(\"cannot use tree with sparse input: using brute force\")\n"
     ]
    },
    {
     "name": "stdout",
     "output_type": "stream",
     "text": [
      "[CV 3/5] END algorithm=ball_tree, n_neighbors=5, weights=uniform;, score=0.944 total time=   0.1s\n",
      "[CV 4/5] END algorithm=ball_tree, n_neighbors=5, weights=uniform;, score=0.915 total time=   0.0s\n"
     ]
    },
    {
     "name": "stderr",
     "output_type": "stream",
     "text": [
      "C:\\Users\\leatu\\anaconda3\\envs\\py39\\lib\\site-packages\\sklearn\\neighbors\\_base.py:501: UserWarning: cannot use tree with sparse input: using brute force\n",
      "  warnings.warn(\"cannot use tree with sparse input: using brute force\")\n",
      "C:\\Users\\leatu\\anaconda3\\envs\\py39\\lib\\site-packages\\sklearn\\neighbors\\_base.py:501: UserWarning: cannot use tree with sparse input: using brute force\n",
      "  warnings.warn(\"cannot use tree with sparse input: using brute force\")\n"
     ]
    },
    {
     "name": "stdout",
     "output_type": "stream",
     "text": [
      "[CV 5/5] END algorithm=ball_tree, n_neighbors=5, weights=uniform;, score=0.929 total time=   0.1s\n",
      "[CV 1/5] END algorithm=ball_tree, n_neighbors=5, weights=distance;, score=0.942 total time=   0.0s\n"
     ]
    },
    {
     "name": "stderr",
     "output_type": "stream",
     "text": [
      "C:\\Users\\leatu\\anaconda3\\envs\\py39\\lib\\site-packages\\sklearn\\neighbors\\_base.py:501: UserWarning: cannot use tree with sparse input: using brute force\n",
      "  warnings.warn(\"cannot use tree with sparse input: using brute force\")\n",
      "C:\\Users\\leatu\\anaconda3\\envs\\py39\\lib\\site-packages\\sklearn\\neighbors\\_base.py:501: UserWarning: cannot use tree with sparse input: using brute force\n",
      "  warnings.warn(\"cannot use tree with sparse input: using brute force\")\n"
     ]
    },
    {
     "name": "stdout",
     "output_type": "stream",
     "text": [
      "[CV 2/5] END algorithm=ball_tree, n_neighbors=5, weights=distance;, score=0.931 total time=   0.0s\n",
      "[CV 3/5] END algorithm=ball_tree, n_neighbors=5, weights=distance;, score=0.956 total time=   0.0s\n"
     ]
    },
    {
     "name": "stderr",
     "output_type": "stream",
     "text": [
      "C:\\Users\\leatu\\anaconda3\\envs\\py39\\lib\\site-packages\\sklearn\\neighbors\\_base.py:501: UserWarning: cannot use tree with sparse input: using brute force\n",
      "  warnings.warn(\"cannot use tree with sparse input: using brute force\")\n",
      "C:\\Users\\leatu\\anaconda3\\envs\\py39\\lib\\site-packages\\sklearn\\neighbors\\_base.py:501: UserWarning: cannot use tree with sparse input: using brute force\n",
      "  warnings.warn(\"cannot use tree with sparse input: using brute force\")\n"
     ]
    },
    {
     "name": "stdout",
     "output_type": "stream",
     "text": [
      "[CV 4/5] END algorithm=ball_tree, n_neighbors=5, weights=distance;, score=0.925 total time=   0.0s\n",
      "[CV 5/5] END algorithm=ball_tree, n_neighbors=5, weights=distance;, score=0.944 total time=   0.1s\n"
     ]
    },
    {
     "name": "stderr",
     "output_type": "stream",
     "text": [
      "C:\\Users\\leatu\\anaconda3\\envs\\py39\\lib\\site-packages\\sklearn\\neighbors\\_base.py:501: UserWarning: cannot use tree with sparse input: using brute force\n",
      "  warnings.warn(\"cannot use tree with sparse input: using brute force\")\n",
      "C:\\Users\\leatu\\anaconda3\\envs\\py39\\lib\\site-packages\\sklearn\\neighbors\\_base.py:501: UserWarning: cannot use tree with sparse input: using brute force\n",
      "  warnings.warn(\"cannot use tree with sparse input: using brute force\")\n"
     ]
    },
    {
     "name": "stdout",
     "output_type": "stream",
     "text": [
      "[CV 1/5] END algorithm=ball_tree, n_neighbors=10, weights=uniform;, score=0.902 total time=   0.0s\n",
      "[CV 2/5] END algorithm=ball_tree, n_neighbors=10, weights=uniform;, score=0.869 total time=   0.1s\n"
     ]
    },
    {
     "name": "stderr",
     "output_type": "stream",
     "text": [
      "C:\\Users\\leatu\\anaconda3\\envs\\py39\\lib\\site-packages\\sklearn\\neighbors\\_base.py:501: UserWarning: cannot use tree with sparse input: using brute force\n",
      "  warnings.warn(\"cannot use tree with sparse input: using brute force\")\n",
      "C:\\Users\\leatu\\anaconda3\\envs\\py39\\lib\\site-packages\\sklearn\\neighbors\\_base.py:501: UserWarning: cannot use tree with sparse input: using brute force\n",
      "  warnings.warn(\"cannot use tree with sparse input: using brute force\")\n"
     ]
    },
    {
     "name": "stdout",
     "output_type": "stream",
     "text": [
      "[CV 3/5] END algorithm=ball_tree, n_neighbors=10, weights=uniform;, score=0.894 total time=   0.1s\n",
      "[CV 4/5] END algorithm=ball_tree, n_neighbors=10, weights=uniform;, score=0.875 total time=   0.1s\n",
      "[CV 5/5] END algorithm=ball_tree, n_neighbors=10, weights=uniform;, score=0.883 total time=   0.1s\n"
     ]
    },
    {
     "name": "stderr",
     "output_type": "stream",
     "text": [
      "C:\\Users\\leatu\\anaconda3\\envs\\py39\\lib\\site-packages\\sklearn\\neighbors\\_base.py:501: UserWarning: cannot use tree with sparse input: using brute force\n",
      "  warnings.warn(\"cannot use tree with sparse input: using brute force\")\n",
      "C:\\Users\\leatu\\anaconda3\\envs\\py39\\lib\\site-packages\\sklearn\\neighbors\\_base.py:501: UserWarning: cannot use tree with sparse input: using brute force\n",
      "  warnings.warn(\"cannot use tree with sparse input: using brute force\")\n"
     ]
    },
    {
     "name": "stdout",
     "output_type": "stream",
     "text": [
      "[CV 1/5] END algorithm=ball_tree, n_neighbors=10, weights=distance;, score=0.933 total time=   0.1s\n",
      "[CV 2/5] END algorithm=ball_tree, n_neighbors=10, weights=distance;, score=0.925 total time=   0.0s\n"
     ]
    },
    {
     "name": "stderr",
     "output_type": "stream",
     "text": [
      "C:\\Users\\leatu\\anaconda3\\envs\\py39\\lib\\site-packages\\sklearn\\neighbors\\_base.py:501: UserWarning: cannot use tree with sparse input: using brute force\n",
      "  warnings.warn(\"cannot use tree with sparse input: using brute force\")\n",
      "C:\\Users\\leatu\\anaconda3\\envs\\py39\\lib\\site-packages\\sklearn\\neighbors\\_base.py:501: UserWarning: cannot use tree with sparse input: using brute force\n",
      "  warnings.warn(\"cannot use tree with sparse input: using brute force\")\n"
     ]
    },
    {
     "name": "stdout",
     "output_type": "stream",
     "text": [
      "[CV 3/5] END algorithm=ball_tree, n_neighbors=10, weights=distance;, score=0.931 total time=   0.1s\n",
      "[CV 4/5] END algorithm=ball_tree, n_neighbors=10, weights=distance;, score=0.904 total time=   0.1s\n"
     ]
    },
    {
     "name": "stderr",
     "output_type": "stream",
     "text": [
      "C:\\Users\\leatu\\anaconda3\\envs\\py39\\lib\\site-packages\\sklearn\\neighbors\\_base.py:501: UserWarning: cannot use tree with sparse input: using brute force\n",
      "  warnings.warn(\"cannot use tree with sparse input: using brute force\")\n",
      "C:\\Users\\leatu\\anaconda3\\envs\\py39\\lib\\site-packages\\sklearn\\neighbors\\_base.py:501: UserWarning: cannot use tree with sparse input: using brute force\n",
      "  warnings.warn(\"cannot use tree with sparse input: using brute force\")\n"
     ]
    },
    {
     "name": "stdout",
     "output_type": "stream",
     "text": [
      "[CV 5/5] END algorithm=ball_tree, n_neighbors=10, weights=distance;, score=0.935 total time=   0.1s\n",
      "[CV 1/5] END algorithm=ball_tree, n_neighbors=20, weights=uniform;, score=0.883 total time=   0.0s\n"
     ]
    },
    {
     "name": "stderr",
     "output_type": "stream",
     "text": [
      "C:\\Users\\leatu\\anaconda3\\envs\\py39\\lib\\site-packages\\sklearn\\neighbors\\_base.py:501: UserWarning: cannot use tree with sparse input: using brute force\n",
      "  warnings.warn(\"cannot use tree with sparse input: using brute force\")\n",
      "C:\\Users\\leatu\\anaconda3\\envs\\py39\\lib\\site-packages\\sklearn\\neighbors\\_base.py:501: UserWarning: cannot use tree with sparse input: using brute force\n",
      "  warnings.warn(\"cannot use tree with sparse input: using brute force\")\n"
     ]
    },
    {
     "name": "stdout",
     "output_type": "stream",
     "text": [
      "[CV 2/5] END algorithm=ball_tree, n_neighbors=20, weights=uniform;, score=0.863 total time=   0.1s\n",
      "[CV 3/5] END algorithm=ball_tree, n_neighbors=20, weights=uniform;, score=0.885 total time=   0.1s\n"
     ]
    },
    {
     "name": "stderr",
     "output_type": "stream",
     "text": [
      "C:\\Users\\leatu\\anaconda3\\envs\\py39\\lib\\site-packages\\sklearn\\neighbors\\_base.py:501: UserWarning: cannot use tree with sparse input: using brute force\n",
      "  warnings.warn(\"cannot use tree with sparse input: using brute force\")\n",
      "C:\\Users\\leatu\\anaconda3\\envs\\py39\\lib\\site-packages\\sklearn\\neighbors\\_base.py:501: UserWarning: cannot use tree with sparse input: using brute force\n",
      "  warnings.warn(\"cannot use tree with sparse input: using brute force\")\n"
     ]
    },
    {
     "name": "stdout",
     "output_type": "stream",
     "text": [
      "[CV 4/5] END algorithm=ball_tree, n_neighbors=20, weights=uniform;, score=0.865 total time=   0.1s\n",
      "[CV 5/5] END algorithm=ball_tree, n_neighbors=20, weights=uniform;, score=0.871 total time=   0.1s\n"
     ]
    },
    {
     "name": "stderr",
     "output_type": "stream",
     "text": [
      "C:\\Users\\leatu\\anaconda3\\envs\\py39\\lib\\site-packages\\sklearn\\neighbors\\_base.py:501: UserWarning: cannot use tree with sparse input: using brute force\n",
      "  warnings.warn(\"cannot use tree with sparse input: using brute force\")\n",
      "C:\\Users\\leatu\\anaconda3\\envs\\py39\\lib\\site-packages\\sklearn\\neighbors\\_base.py:501: UserWarning: cannot use tree with sparse input: using brute force\n",
      "  warnings.warn(\"cannot use tree with sparse input: using brute force\")\n"
     ]
    },
    {
     "name": "stdout",
     "output_type": "stream",
     "text": [
      "[CV 1/5] END algorithm=ball_tree, n_neighbors=20, weights=distance;, score=0.919 total time=   0.1s\n",
      "[CV 2/5] END algorithm=ball_tree, n_neighbors=20, weights=distance;, score=0.912 total time=   0.1s\n"
     ]
    },
    {
     "name": "stderr",
     "output_type": "stream",
     "text": [
      "C:\\Users\\leatu\\anaconda3\\envs\\py39\\lib\\site-packages\\sklearn\\neighbors\\_base.py:501: UserWarning: cannot use tree with sparse input: using brute force\n",
      "  warnings.warn(\"cannot use tree with sparse input: using brute force\")\n",
      "C:\\Users\\leatu\\anaconda3\\envs\\py39\\lib\\site-packages\\sklearn\\neighbors\\_base.py:501: UserWarning: cannot use tree with sparse input: using brute force\n",
      "  warnings.warn(\"cannot use tree with sparse input: using brute force\")\n"
     ]
    },
    {
     "name": "stdout",
     "output_type": "stream",
     "text": [
      "[CV 3/5] END algorithm=ball_tree, n_neighbors=20, weights=distance;, score=0.925 total time=   0.0s\n",
      "[CV 4/5] END algorithm=ball_tree, n_neighbors=20, weights=distance;, score=0.906 total time=   0.0s\n"
     ]
    },
    {
     "name": "stderr",
     "output_type": "stream",
     "text": [
      "C:\\Users\\leatu\\anaconda3\\envs\\py39\\lib\\site-packages\\sklearn\\neighbors\\_base.py:501: UserWarning: cannot use tree with sparse input: using brute force\n",
      "  warnings.warn(\"cannot use tree with sparse input: using brute force\")\n",
      "C:\\Users\\leatu\\anaconda3\\envs\\py39\\lib\\site-packages\\sklearn\\neighbors\\_base.py:501: UserWarning: cannot use tree with sparse input: using brute force\n",
      "  warnings.warn(\"cannot use tree with sparse input: using brute force\")\n"
     ]
    },
    {
     "name": "stdout",
     "output_type": "stream",
     "text": [
      "[CV 5/5] END algorithm=ball_tree, n_neighbors=20, weights=distance;, score=0.917 total time=   0.0s\n",
      "[CV 1/5] END algorithm=ball_tree, n_neighbors=50, weights=uniform;, score=0.844 total time=   0.0s\n"
     ]
    },
    {
     "name": "stderr",
     "output_type": "stream",
     "text": [
      "C:\\Users\\leatu\\anaconda3\\envs\\py39\\lib\\site-packages\\sklearn\\neighbors\\_base.py:501: UserWarning: cannot use tree with sparse input: using brute force\n",
      "  warnings.warn(\"cannot use tree with sparse input: using brute force\")\n",
      "C:\\Users\\leatu\\anaconda3\\envs\\py39\\lib\\site-packages\\sklearn\\neighbors\\_base.py:501: UserWarning: cannot use tree with sparse input: using brute force\n",
      "  warnings.warn(\"cannot use tree with sparse input: using brute force\")\n"
     ]
    },
    {
     "name": "stdout",
     "output_type": "stream",
     "text": [
      "[CV 2/5] END algorithm=ball_tree, n_neighbors=50, weights=uniform;, score=0.852 total time=   0.1s\n",
      "[CV 3/5] END algorithm=ball_tree, n_neighbors=50, weights=uniform;, score=0.852 total time=   0.0s\n"
     ]
    },
    {
     "name": "stderr",
     "output_type": "stream",
     "text": [
      "C:\\Users\\leatu\\anaconda3\\envs\\py39\\lib\\site-packages\\sklearn\\neighbors\\_base.py:501: UserWarning: cannot use tree with sparse input: using brute force\n",
      "  warnings.warn(\"cannot use tree with sparse input: using brute force\")\n",
      "C:\\Users\\leatu\\anaconda3\\envs\\py39\\lib\\site-packages\\sklearn\\neighbors\\_base.py:501: UserWarning: cannot use tree with sparse input: using brute force\n",
      "  warnings.warn(\"cannot use tree with sparse input: using brute force\")\n"
     ]
    },
    {
     "name": "stdout",
     "output_type": "stream",
     "text": [
      "[CV 4/5] END algorithm=ball_tree, n_neighbors=50, weights=uniform;, score=0.844 total time=   0.1s\n",
      "[CV 5/5] END algorithm=ball_tree, n_neighbors=50, weights=uniform;, score=0.846 total time=   0.1s\n"
     ]
    },
    {
     "name": "stderr",
     "output_type": "stream",
     "text": [
      "C:\\Users\\leatu\\anaconda3\\envs\\py39\\lib\\site-packages\\sklearn\\neighbors\\_base.py:501: UserWarning: cannot use tree with sparse input: using brute force\n",
      "  warnings.warn(\"cannot use tree with sparse input: using brute force\")\n",
      "C:\\Users\\leatu\\anaconda3\\envs\\py39\\lib\\site-packages\\sklearn\\neighbors\\_base.py:501: UserWarning: cannot use tree with sparse input: using brute force\n",
      "  warnings.warn(\"cannot use tree with sparse input: using brute force\")\n"
     ]
    },
    {
     "name": "stdout",
     "output_type": "stream",
     "text": [
      "[CV 1/5] END algorithm=ball_tree, n_neighbors=50, weights=distance;, score=0.883 total time=   0.1s\n",
      "[CV 2/5] END algorithm=ball_tree, n_neighbors=50, weights=distance;, score=0.896 total time=   0.0s\n"
     ]
    },
    {
     "name": "stderr",
     "output_type": "stream",
     "text": [
      "C:\\Users\\leatu\\anaconda3\\envs\\py39\\lib\\site-packages\\sklearn\\neighbors\\_base.py:501: UserWarning: cannot use tree with sparse input: using brute force\n",
      "  warnings.warn(\"cannot use tree with sparse input: using brute force\")\n",
      "C:\\Users\\leatu\\anaconda3\\envs\\py39\\lib\\site-packages\\sklearn\\neighbors\\_base.py:501: UserWarning: cannot use tree with sparse input: using brute force\n",
      "  warnings.warn(\"cannot use tree with sparse input: using brute force\")\n"
     ]
    },
    {
     "name": "stdout",
     "output_type": "stream",
     "text": [
      "[CV 3/5] END algorithm=ball_tree, n_neighbors=50, weights=distance;, score=0.894 total time=   0.0s\n",
      "[CV 4/5] END algorithm=ball_tree, n_neighbors=50, weights=distance;, score=0.885 total time=   0.0s\n"
     ]
    },
    {
     "name": "stderr",
     "output_type": "stream",
     "text": [
      "C:\\Users\\leatu\\anaconda3\\envs\\py39\\lib\\site-packages\\sklearn\\neighbors\\_base.py:501: UserWarning: cannot use tree with sparse input: using brute force\n",
      "  warnings.warn(\"cannot use tree with sparse input: using brute force\")\n",
      "C:\\Users\\leatu\\anaconda3\\envs\\py39\\lib\\site-packages\\sklearn\\neighbors\\_base.py:501: UserWarning: cannot use tree with sparse input: using brute force\n",
      "  warnings.warn(\"cannot use tree with sparse input: using brute force\")\n"
     ]
    },
    {
     "name": "stdout",
     "output_type": "stream",
     "text": [
      "[CV 5/5] END algorithm=ball_tree, n_neighbors=50, weights=distance;, score=0.887 total time=   0.1s\n",
      "[CV 1/5] END algorithm=ball_tree, n_neighbors=100, weights=uniform;, score=0.831 total time=   0.1s\n"
     ]
    },
    {
     "name": "stderr",
     "output_type": "stream",
     "text": [
      "C:\\Users\\leatu\\anaconda3\\envs\\py39\\lib\\site-packages\\sklearn\\neighbors\\_base.py:501: UserWarning: cannot use tree with sparse input: using brute force\n",
      "  warnings.warn(\"cannot use tree with sparse input: using brute force\")\n",
      "C:\\Users\\leatu\\anaconda3\\envs\\py39\\lib\\site-packages\\sklearn\\neighbors\\_base.py:501: UserWarning: cannot use tree with sparse input: using brute force\n",
      "  warnings.warn(\"cannot use tree with sparse input: using brute force\")\n"
     ]
    },
    {
     "name": "stdout",
     "output_type": "stream",
     "text": [
      "[CV 2/5] END algorithm=ball_tree, n_neighbors=100, weights=uniform;, score=0.833 total time=   0.1s\n",
      "[CV 3/5] END algorithm=ball_tree, n_neighbors=100, weights=uniform;, score=0.844 total time=   0.1s\n"
     ]
    },
    {
     "name": "stderr",
     "output_type": "stream",
     "text": [
      "C:\\Users\\leatu\\anaconda3\\envs\\py39\\lib\\site-packages\\sklearn\\neighbors\\_base.py:501: UserWarning: cannot use tree with sparse input: using brute force\n",
      "  warnings.warn(\"cannot use tree with sparse input: using brute force\")\n",
      "C:\\Users\\leatu\\anaconda3\\envs\\py39\\lib\\site-packages\\sklearn\\neighbors\\_base.py:501: UserWarning: cannot use tree with sparse input: using brute force\n",
      "  warnings.warn(\"cannot use tree with sparse input: using brute force\")\n"
     ]
    },
    {
     "name": "stdout",
     "output_type": "stream",
     "text": [
      "[CV 4/5] END algorithm=ball_tree, n_neighbors=100, weights=uniform;, score=0.833 total time=   0.1s\n",
      "[CV 5/5] END algorithm=ball_tree, n_neighbors=100, weights=uniform;, score=0.833 total time=   0.0s\n"
     ]
    },
    {
     "name": "stderr",
     "output_type": "stream",
     "text": [
      "C:\\Users\\leatu\\anaconda3\\envs\\py39\\lib\\site-packages\\sklearn\\neighbors\\_base.py:501: UserWarning: cannot use tree with sparse input: using brute force\n",
      "  warnings.warn(\"cannot use tree with sparse input: using brute force\")\n",
      "C:\\Users\\leatu\\anaconda3\\envs\\py39\\lib\\site-packages\\sklearn\\neighbors\\_base.py:501: UserWarning: cannot use tree with sparse input: using brute force\n",
      "  warnings.warn(\"cannot use tree with sparse input: using brute force\")\n"
     ]
    },
    {
     "name": "stdout",
     "output_type": "stream",
     "text": [
      "[CV 1/5] END algorithm=ball_tree, n_neighbors=100, weights=distance;, score=0.856 total time=   0.0s\n",
      "[CV 2/5] END algorithm=ball_tree, n_neighbors=100, weights=distance;, score=0.875 total time=   0.0s\n"
     ]
    },
    {
     "name": "stderr",
     "output_type": "stream",
     "text": [
      "C:\\Users\\leatu\\anaconda3\\envs\\py39\\lib\\site-packages\\sklearn\\neighbors\\_base.py:501: UserWarning: cannot use tree with sparse input: using brute force\n",
      "  warnings.warn(\"cannot use tree with sparse input: using brute force\")\n",
      "C:\\Users\\leatu\\anaconda3\\envs\\py39\\lib\\site-packages\\sklearn\\neighbors\\_base.py:501: UserWarning: cannot use tree with sparse input: using brute force\n",
      "  warnings.warn(\"cannot use tree with sparse input: using brute force\")\n"
     ]
    },
    {
     "name": "stdout",
     "output_type": "stream",
     "text": [
      "[CV 3/5] END algorithm=ball_tree, n_neighbors=100, weights=distance;, score=0.879 total time=   0.0s\n",
      "[CV 4/5] END algorithm=ball_tree, n_neighbors=100, weights=distance;, score=0.871 total time=   0.1s\n"
     ]
    },
    {
     "name": "stderr",
     "output_type": "stream",
     "text": [
      "C:\\Users\\leatu\\anaconda3\\envs\\py39\\lib\\site-packages\\sklearn\\neighbors\\_base.py:501: UserWarning: cannot use tree with sparse input: using brute force\n",
      "  warnings.warn(\"cannot use tree with sparse input: using brute force\")\n",
      "C:\\Users\\leatu\\anaconda3\\envs\\py39\\lib\\site-packages\\sklearn\\neighbors\\_base.py:501: UserWarning: cannot use tree with sparse input: using brute force\n",
      "  warnings.warn(\"cannot use tree with sparse input: using brute force\")\n"
     ]
    },
    {
     "name": "stdout",
     "output_type": "stream",
     "text": [
      "[CV 5/5] END algorithm=ball_tree, n_neighbors=100, weights=distance;, score=0.877 total time=   0.1s\n",
      "[CV 1/5] END algorithm=kd_tree, n_neighbors=5, weights=uniform;, score=0.931 total time=   0.1s\n"
     ]
    },
    {
     "name": "stderr",
     "output_type": "stream",
     "text": [
      "C:\\Users\\leatu\\anaconda3\\envs\\py39\\lib\\site-packages\\sklearn\\neighbors\\_base.py:501: UserWarning: cannot use tree with sparse input: using brute force\n",
      "  warnings.warn(\"cannot use tree with sparse input: using brute force\")\n",
      "C:\\Users\\leatu\\anaconda3\\envs\\py39\\lib\\site-packages\\sklearn\\neighbors\\_base.py:501: UserWarning: cannot use tree with sparse input: using brute force\n",
      "  warnings.warn(\"cannot use tree with sparse input: using brute force\")\n"
     ]
    },
    {
     "name": "stdout",
     "output_type": "stream",
     "text": [
      "[CV 2/5] END algorithm=kd_tree, n_neighbors=5, weights=uniform;, score=0.919 total time=   0.1s\n",
      "[CV 3/5] END algorithm=kd_tree, n_neighbors=5, weights=uniform;, score=0.944 total time=   0.0s\n"
     ]
    },
    {
     "name": "stderr",
     "output_type": "stream",
     "text": [
      "C:\\Users\\leatu\\anaconda3\\envs\\py39\\lib\\site-packages\\sklearn\\neighbors\\_base.py:501: UserWarning: cannot use tree with sparse input: using brute force\n",
      "  warnings.warn(\"cannot use tree with sparse input: using brute force\")\n",
      "C:\\Users\\leatu\\anaconda3\\envs\\py39\\lib\\site-packages\\sklearn\\neighbors\\_base.py:501: UserWarning: cannot use tree with sparse input: using brute force\n",
      "  warnings.warn(\"cannot use tree with sparse input: using brute force\")\n"
     ]
    },
    {
     "name": "stdout",
     "output_type": "stream",
     "text": [
      "[CV 4/5] END algorithm=kd_tree, n_neighbors=5, weights=uniform;, score=0.915 total time=   0.1s\n",
      "[CV 5/5] END algorithm=kd_tree, n_neighbors=5, weights=uniform;, score=0.929 total time=   0.0s\n"
     ]
    },
    {
     "name": "stderr",
     "output_type": "stream",
     "text": [
      "C:\\Users\\leatu\\anaconda3\\envs\\py39\\lib\\site-packages\\sklearn\\neighbors\\_base.py:501: UserWarning: cannot use tree with sparse input: using brute force\n",
      "  warnings.warn(\"cannot use tree with sparse input: using brute force\")\n",
      "C:\\Users\\leatu\\anaconda3\\envs\\py39\\lib\\site-packages\\sklearn\\neighbors\\_base.py:501: UserWarning: cannot use tree with sparse input: using brute force\n",
      "  warnings.warn(\"cannot use tree with sparse input: using brute force\")\n"
     ]
    },
    {
     "name": "stdout",
     "output_type": "stream",
     "text": [
      "[CV 1/5] END algorithm=kd_tree, n_neighbors=5, weights=distance;, score=0.942 total time=   0.0s\n",
      "[CV 2/5] END algorithm=kd_tree, n_neighbors=5, weights=distance;, score=0.931 total time=   0.0s\n"
     ]
    },
    {
     "name": "stderr",
     "output_type": "stream",
     "text": [
      "C:\\Users\\leatu\\anaconda3\\envs\\py39\\lib\\site-packages\\sklearn\\neighbors\\_base.py:501: UserWarning: cannot use tree with sparse input: using brute force\n",
      "  warnings.warn(\"cannot use tree with sparse input: using brute force\")\n",
      "C:\\Users\\leatu\\anaconda3\\envs\\py39\\lib\\site-packages\\sklearn\\neighbors\\_base.py:501: UserWarning: cannot use tree with sparse input: using brute force\n",
      "  warnings.warn(\"cannot use tree with sparse input: using brute force\")\n"
     ]
    },
    {
     "name": "stdout",
     "output_type": "stream",
     "text": [
      "[CV 3/5] END algorithm=kd_tree, n_neighbors=5, weights=distance;, score=0.956 total time=   0.0s\n",
      "[CV 4/5] END algorithm=kd_tree, n_neighbors=5, weights=distance;, score=0.925 total time=   0.0s\n"
     ]
    },
    {
     "name": "stderr",
     "output_type": "stream",
     "text": [
      "C:\\Users\\leatu\\anaconda3\\envs\\py39\\lib\\site-packages\\sklearn\\neighbors\\_base.py:501: UserWarning: cannot use tree with sparse input: using brute force\n",
      "  warnings.warn(\"cannot use tree with sparse input: using brute force\")\n",
      "C:\\Users\\leatu\\anaconda3\\envs\\py39\\lib\\site-packages\\sklearn\\neighbors\\_base.py:501: UserWarning: cannot use tree with sparse input: using brute force\n",
      "  warnings.warn(\"cannot use tree with sparse input: using brute force\")\n"
     ]
    },
    {
     "name": "stdout",
     "output_type": "stream",
     "text": [
      "[CV 5/5] END algorithm=kd_tree, n_neighbors=5, weights=distance;, score=0.944 total time=   0.0s\n",
      "[CV 1/5] END algorithm=kd_tree, n_neighbors=10, weights=uniform;, score=0.902 total time=   0.0s\n"
     ]
    },
    {
     "name": "stderr",
     "output_type": "stream",
     "text": [
      "C:\\Users\\leatu\\anaconda3\\envs\\py39\\lib\\site-packages\\sklearn\\neighbors\\_base.py:501: UserWarning: cannot use tree with sparse input: using brute force\n",
      "  warnings.warn(\"cannot use tree with sparse input: using brute force\")\n",
      "C:\\Users\\leatu\\anaconda3\\envs\\py39\\lib\\site-packages\\sklearn\\neighbors\\_base.py:501: UserWarning: cannot use tree with sparse input: using brute force\n",
      "  warnings.warn(\"cannot use tree with sparse input: using brute force\")\n"
     ]
    },
    {
     "name": "stdout",
     "output_type": "stream",
     "text": [
      "[CV 2/5] END algorithm=kd_tree, n_neighbors=10, weights=uniform;, score=0.869 total time=   0.0s\n",
      "[CV 3/5] END algorithm=kd_tree, n_neighbors=10, weights=uniform;, score=0.894 total time=   0.0s\n"
     ]
    },
    {
     "name": "stderr",
     "output_type": "stream",
     "text": [
      "C:\\Users\\leatu\\anaconda3\\envs\\py39\\lib\\site-packages\\sklearn\\neighbors\\_base.py:501: UserWarning: cannot use tree with sparse input: using brute force\n",
      "  warnings.warn(\"cannot use tree with sparse input: using brute force\")\n",
      "C:\\Users\\leatu\\anaconda3\\envs\\py39\\lib\\site-packages\\sklearn\\neighbors\\_base.py:501: UserWarning: cannot use tree with sparse input: using brute force\n",
      "  warnings.warn(\"cannot use tree with sparse input: using brute force\")\n"
     ]
    },
    {
     "name": "stdout",
     "output_type": "stream",
     "text": [
      "[CV 4/5] END algorithm=kd_tree, n_neighbors=10, weights=uniform;, score=0.875 total time=   0.0s\n",
      "[CV 5/5] END algorithm=kd_tree, n_neighbors=10, weights=uniform;, score=0.883 total time=   0.0s\n"
     ]
    },
    {
     "name": "stderr",
     "output_type": "stream",
     "text": [
      "C:\\Users\\leatu\\anaconda3\\envs\\py39\\lib\\site-packages\\sklearn\\neighbors\\_base.py:501: UserWarning: cannot use tree with sparse input: using brute force\n",
      "  warnings.warn(\"cannot use tree with sparse input: using brute force\")\n",
      "C:\\Users\\leatu\\anaconda3\\envs\\py39\\lib\\site-packages\\sklearn\\neighbors\\_base.py:501: UserWarning: cannot use tree with sparse input: using brute force\n",
      "  warnings.warn(\"cannot use tree with sparse input: using brute force\")\n"
     ]
    },
    {
     "name": "stdout",
     "output_type": "stream",
     "text": [
      "[CV 1/5] END algorithm=kd_tree, n_neighbors=10, weights=distance;, score=0.933 total time=   0.0s\n",
      "[CV 2/5] END algorithm=kd_tree, n_neighbors=10, weights=distance;, score=0.925 total time=   0.0s\n"
     ]
    },
    {
     "name": "stderr",
     "output_type": "stream",
     "text": [
      "C:\\Users\\leatu\\anaconda3\\envs\\py39\\lib\\site-packages\\sklearn\\neighbors\\_base.py:501: UserWarning: cannot use tree with sparse input: using brute force\n",
      "  warnings.warn(\"cannot use tree with sparse input: using brute force\")\n",
      "C:\\Users\\leatu\\anaconda3\\envs\\py39\\lib\\site-packages\\sklearn\\neighbors\\_base.py:501: UserWarning: cannot use tree with sparse input: using brute force\n",
      "  warnings.warn(\"cannot use tree with sparse input: using brute force\")\n"
     ]
    },
    {
     "name": "stdout",
     "output_type": "stream",
     "text": [
      "[CV 3/5] END algorithm=kd_tree, n_neighbors=10, weights=distance;, score=0.931 total time=   0.0s\n",
      "[CV 4/5] END algorithm=kd_tree, n_neighbors=10, weights=distance;, score=0.904 total time=   0.0s\n"
     ]
    },
    {
     "name": "stderr",
     "output_type": "stream",
     "text": [
      "C:\\Users\\leatu\\anaconda3\\envs\\py39\\lib\\site-packages\\sklearn\\neighbors\\_base.py:501: UserWarning: cannot use tree with sparse input: using brute force\n",
      "  warnings.warn(\"cannot use tree with sparse input: using brute force\")\n",
      "C:\\Users\\leatu\\anaconda3\\envs\\py39\\lib\\site-packages\\sklearn\\neighbors\\_base.py:501: UserWarning: cannot use tree with sparse input: using brute force\n",
      "  warnings.warn(\"cannot use tree with sparse input: using brute force\")\n"
     ]
    },
    {
     "name": "stdout",
     "output_type": "stream",
     "text": [
      "[CV 5/5] END algorithm=kd_tree, n_neighbors=10, weights=distance;, score=0.935 total time=   0.0s\n",
      "[CV 1/5] END algorithm=kd_tree, n_neighbors=20, weights=uniform;, score=0.883 total time=   0.1s\n"
     ]
    },
    {
     "name": "stderr",
     "output_type": "stream",
     "text": [
      "C:\\Users\\leatu\\anaconda3\\envs\\py39\\lib\\site-packages\\sklearn\\neighbors\\_base.py:501: UserWarning: cannot use tree with sparse input: using brute force\n",
      "  warnings.warn(\"cannot use tree with sparse input: using brute force\")\n",
      "C:\\Users\\leatu\\anaconda3\\envs\\py39\\lib\\site-packages\\sklearn\\neighbors\\_base.py:501: UserWarning: cannot use tree with sparse input: using brute force\n",
      "  warnings.warn(\"cannot use tree with sparse input: using brute force\")\n"
     ]
    },
    {
     "name": "stdout",
     "output_type": "stream",
     "text": [
      "[CV 2/5] END algorithm=kd_tree, n_neighbors=20, weights=uniform;, score=0.863 total time=   0.1s\n",
      "[CV 3/5] END algorithm=kd_tree, n_neighbors=20, weights=uniform;, score=0.885 total time=   0.0s\n"
     ]
    },
    {
     "name": "stderr",
     "output_type": "stream",
     "text": [
      "C:\\Users\\leatu\\anaconda3\\envs\\py39\\lib\\site-packages\\sklearn\\neighbors\\_base.py:501: UserWarning: cannot use tree with sparse input: using brute force\n",
      "  warnings.warn(\"cannot use tree with sparse input: using brute force\")\n",
      "C:\\Users\\leatu\\anaconda3\\envs\\py39\\lib\\site-packages\\sklearn\\neighbors\\_base.py:501: UserWarning: cannot use tree with sparse input: using brute force\n",
      "  warnings.warn(\"cannot use tree with sparse input: using brute force\")\n"
     ]
    },
    {
     "name": "stdout",
     "output_type": "stream",
     "text": [
      "[CV 4/5] END algorithm=kd_tree, n_neighbors=20, weights=uniform;, score=0.865 total time=   0.1s\n",
      "[CV 5/5] END algorithm=kd_tree, n_neighbors=20, weights=uniform;, score=0.871 total time=   0.1s\n"
     ]
    },
    {
     "name": "stderr",
     "output_type": "stream",
     "text": [
      "C:\\Users\\leatu\\anaconda3\\envs\\py39\\lib\\site-packages\\sklearn\\neighbors\\_base.py:501: UserWarning: cannot use tree with sparse input: using brute force\n",
      "  warnings.warn(\"cannot use tree with sparse input: using brute force\")\n",
      "C:\\Users\\leatu\\anaconda3\\envs\\py39\\lib\\site-packages\\sklearn\\neighbors\\_base.py:501: UserWarning: cannot use tree with sparse input: using brute force\n",
      "  warnings.warn(\"cannot use tree with sparse input: using brute force\")\n"
     ]
    },
    {
     "name": "stdout",
     "output_type": "stream",
     "text": [
      "[CV 1/5] END algorithm=kd_tree, n_neighbors=20, weights=distance;, score=0.919 total time=   0.0s\n",
      "[CV 2/5] END algorithm=kd_tree, n_neighbors=20, weights=distance;, score=0.912 total time=   0.0s\n"
     ]
    },
    {
     "name": "stderr",
     "output_type": "stream",
     "text": [
      "C:\\Users\\leatu\\anaconda3\\envs\\py39\\lib\\site-packages\\sklearn\\neighbors\\_base.py:501: UserWarning: cannot use tree with sparse input: using brute force\n",
      "  warnings.warn(\"cannot use tree with sparse input: using brute force\")\n",
      "C:\\Users\\leatu\\anaconda3\\envs\\py39\\lib\\site-packages\\sklearn\\neighbors\\_base.py:501: UserWarning: cannot use tree with sparse input: using brute force\n",
      "  warnings.warn(\"cannot use tree with sparse input: using brute force\")\n"
     ]
    },
    {
     "name": "stdout",
     "output_type": "stream",
     "text": [
      "[CV 3/5] END algorithm=kd_tree, n_neighbors=20, weights=distance;, score=0.925 total time=   0.0s\n",
      "[CV 4/5] END algorithm=kd_tree, n_neighbors=20, weights=distance;, score=0.906 total time=   0.0s\n"
     ]
    },
    {
     "name": "stderr",
     "output_type": "stream",
     "text": [
      "C:\\Users\\leatu\\anaconda3\\envs\\py39\\lib\\site-packages\\sklearn\\neighbors\\_base.py:501: UserWarning: cannot use tree with sparse input: using brute force\n",
      "  warnings.warn(\"cannot use tree with sparse input: using brute force\")\n",
      "C:\\Users\\leatu\\anaconda3\\envs\\py39\\lib\\site-packages\\sklearn\\neighbors\\_base.py:501: UserWarning: cannot use tree with sparse input: using brute force\n",
      "  warnings.warn(\"cannot use tree with sparse input: using brute force\")\n"
     ]
    },
    {
     "name": "stdout",
     "output_type": "stream",
     "text": [
      "[CV 5/5] END algorithm=kd_tree, n_neighbors=20, weights=distance;, score=0.917 total time=   0.0s\n",
      "[CV 1/5] END algorithm=kd_tree, n_neighbors=50, weights=uniform;, score=0.844 total time=   0.1s\n"
     ]
    },
    {
     "name": "stderr",
     "output_type": "stream",
     "text": [
      "C:\\Users\\leatu\\anaconda3\\envs\\py39\\lib\\site-packages\\sklearn\\neighbors\\_base.py:501: UserWarning: cannot use tree with sparse input: using brute force\n",
      "  warnings.warn(\"cannot use tree with sparse input: using brute force\")\n"
     ]
    },
    {
     "name": "stdout",
     "output_type": "stream",
     "text": [
      "[CV 2/5] END algorithm=kd_tree, n_neighbors=50, weights=uniform;, score=0.852 total time=   0.1s\n"
     ]
    },
    {
     "name": "stderr",
     "output_type": "stream",
     "text": [
      "C:\\Users\\leatu\\anaconda3\\envs\\py39\\lib\\site-packages\\sklearn\\neighbors\\_base.py:501: UserWarning: cannot use tree with sparse input: using brute force\n",
      "  warnings.warn(\"cannot use tree with sparse input: using brute force\")\n",
      "C:\\Users\\leatu\\anaconda3\\envs\\py39\\lib\\site-packages\\sklearn\\neighbors\\_base.py:501: UserWarning: cannot use tree with sparse input: using brute force\n",
      "  warnings.warn(\"cannot use tree with sparse input: using brute force\")\n"
     ]
    },
    {
     "name": "stdout",
     "output_type": "stream",
     "text": [
      "[CV 3/5] END algorithm=kd_tree, n_neighbors=50, weights=uniform;, score=0.852 total time=   0.1s\n",
      "[CV 4/5] END algorithm=kd_tree, n_neighbors=50, weights=uniform;, score=0.844 total time=   0.1s\n"
     ]
    },
    {
     "name": "stderr",
     "output_type": "stream",
     "text": [
      "C:\\Users\\leatu\\anaconda3\\envs\\py39\\lib\\site-packages\\sklearn\\neighbors\\_base.py:501: UserWarning: cannot use tree with sparse input: using brute force\n",
      "  warnings.warn(\"cannot use tree with sparse input: using brute force\")\n",
      "C:\\Users\\leatu\\anaconda3\\envs\\py39\\lib\\site-packages\\sklearn\\neighbors\\_base.py:501: UserWarning: cannot use tree with sparse input: using brute force\n",
      "  warnings.warn(\"cannot use tree with sparse input: using brute force\")\n"
     ]
    },
    {
     "name": "stdout",
     "output_type": "stream",
     "text": [
      "[CV 5/5] END algorithm=kd_tree, n_neighbors=50, weights=uniform;, score=0.846 total time=   0.0s\n",
      "[CV 1/5] END algorithm=kd_tree, n_neighbors=50, weights=distance;, score=0.883 total time=   0.1s\n"
     ]
    },
    {
     "name": "stderr",
     "output_type": "stream",
     "text": [
      "C:\\Users\\leatu\\anaconda3\\envs\\py39\\lib\\site-packages\\sklearn\\neighbors\\_base.py:501: UserWarning: cannot use tree with sparse input: using brute force\n",
      "  warnings.warn(\"cannot use tree with sparse input: using brute force\")\n",
      "C:\\Users\\leatu\\anaconda3\\envs\\py39\\lib\\site-packages\\sklearn\\neighbors\\_base.py:501: UserWarning: cannot use tree with sparse input: using brute force\n",
      "  warnings.warn(\"cannot use tree with sparse input: using brute force\")\n"
     ]
    },
    {
     "name": "stdout",
     "output_type": "stream",
     "text": [
      "[CV 2/5] END algorithm=kd_tree, n_neighbors=50, weights=distance;, score=0.896 total time=   0.1s\n",
      "[CV 3/5] END algorithm=kd_tree, n_neighbors=50, weights=distance;, score=0.894 total time=   0.1s\n"
     ]
    },
    {
     "name": "stderr",
     "output_type": "stream",
     "text": [
      "C:\\Users\\leatu\\anaconda3\\envs\\py39\\lib\\site-packages\\sklearn\\neighbors\\_base.py:501: UserWarning: cannot use tree with sparse input: using brute force\n",
      "  warnings.warn(\"cannot use tree with sparse input: using brute force\")\n",
      "C:\\Users\\leatu\\anaconda3\\envs\\py39\\lib\\site-packages\\sklearn\\neighbors\\_base.py:501: UserWarning: cannot use tree with sparse input: using brute force\n",
      "  warnings.warn(\"cannot use tree with sparse input: using brute force\")\n",
      "C:\\Users\\leatu\\anaconda3\\envs\\py39\\lib\\site-packages\\sklearn\\neighbors\\_base.py:501: UserWarning: cannot use tree with sparse input: using brute force\n",
      "  warnings.warn(\"cannot use tree with sparse input: using brute force\")\n",
      "C:\\Users\\leatu\\anaconda3\\envs\\py39\\lib\\site-packages\\sklearn\\neighbors\\_base.py:501: UserWarning: cannot use tree with sparse input: using brute force\n",
      "  warnings.warn(\"cannot use tree with sparse input: using brute force\")\n"
     ]
    },
    {
     "name": "stdout",
     "output_type": "stream",
     "text": [
      "[CV 4/5] END algorithm=kd_tree, n_neighbors=50, weights=distance;, score=0.885 total time=   0.1s\n",
      "[CV 5/5] END algorithm=kd_tree, n_neighbors=50, weights=distance;, score=0.887 total time=   0.0s\n",
      "[CV 1/5] END algorithm=kd_tree, n_neighbors=100, weights=uniform;, score=0.831 total time=   0.1s\n",
      "[CV 2/5] END algorithm=kd_tree, n_neighbors=100, weights=uniform;, score=0.833 total time=   0.1s\n"
     ]
    },
    {
     "name": "stderr",
     "output_type": "stream",
     "text": [
      "C:\\Users\\leatu\\anaconda3\\envs\\py39\\lib\\site-packages\\sklearn\\neighbors\\_base.py:501: UserWarning: cannot use tree with sparse input: using brute force\n",
      "  warnings.warn(\"cannot use tree with sparse input: using brute force\")\n",
      "C:\\Users\\leatu\\anaconda3\\envs\\py39\\lib\\site-packages\\sklearn\\neighbors\\_base.py:501: UserWarning: cannot use tree with sparse input: using brute force\n",
      "  warnings.warn(\"cannot use tree with sparse input: using brute force\")\n"
     ]
    },
    {
     "name": "stdout",
     "output_type": "stream",
     "text": [
      "[CV 3/5] END algorithm=kd_tree, n_neighbors=100, weights=uniform;, score=0.844 total time=   0.1s\n",
      "[CV 4/5] END algorithm=kd_tree, n_neighbors=100, weights=uniform;, score=0.833 total time=   0.1s\n"
     ]
    },
    {
     "name": "stderr",
     "output_type": "stream",
     "text": [
      "C:\\Users\\leatu\\anaconda3\\envs\\py39\\lib\\site-packages\\sklearn\\neighbors\\_base.py:501: UserWarning: cannot use tree with sparse input: using brute force\n",
      "  warnings.warn(\"cannot use tree with sparse input: using brute force\")\n",
      "C:\\Users\\leatu\\anaconda3\\envs\\py39\\lib\\site-packages\\sklearn\\neighbors\\_base.py:501: UserWarning: cannot use tree with sparse input: using brute force\n",
      "  warnings.warn(\"cannot use tree with sparse input: using brute force\")\n"
     ]
    },
    {
     "name": "stdout",
     "output_type": "stream",
     "text": [
      "[CV 5/5] END algorithm=kd_tree, n_neighbors=100, weights=uniform;, score=0.833 total time=   0.1s\n",
      "[CV 1/5] END algorithm=kd_tree, n_neighbors=100, weights=distance;, score=0.856 total time=   0.0s\n"
     ]
    },
    {
     "name": "stderr",
     "output_type": "stream",
     "text": [
      "C:\\Users\\leatu\\anaconda3\\envs\\py39\\lib\\site-packages\\sklearn\\neighbors\\_base.py:501: UserWarning: cannot use tree with sparse input: using brute force\n",
      "  warnings.warn(\"cannot use tree with sparse input: using brute force\")\n",
      "C:\\Users\\leatu\\anaconda3\\envs\\py39\\lib\\site-packages\\sklearn\\neighbors\\_base.py:501: UserWarning: cannot use tree with sparse input: using brute force\n",
      "  warnings.warn(\"cannot use tree with sparse input: using brute force\")\n"
     ]
    },
    {
     "name": "stdout",
     "output_type": "stream",
     "text": [
      "[CV 2/5] END algorithm=kd_tree, n_neighbors=100, weights=distance;, score=0.875 total time=   0.0s\n",
      "[CV 3/5] END algorithm=kd_tree, n_neighbors=100, weights=distance;, score=0.879 total time=   0.0s\n"
     ]
    },
    {
     "name": "stderr",
     "output_type": "stream",
     "text": [
      "C:\\Users\\leatu\\anaconda3\\envs\\py39\\lib\\site-packages\\sklearn\\neighbors\\_base.py:501: UserWarning: cannot use tree with sparse input: using brute force\n",
      "  warnings.warn(\"cannot use tree with sparse input: using brute force\")\n",
      "C:\\Users\\leatu\\anaconda3\\envs\\py39\\lib\\site-packages\\sklearn\\neighbors\\_base.py:501: UserWarning: cannot use tree with sparse input: using brute force\n",
      "  warnings.warn(\"cannot use tree with sparse input: using brute force\")\n"
     ]
    },
    {
     "name": "stdout",
     "output_type": "stream",
     "text": [
      "[CV 4/5] END algorithm=kd_tree, n_neighbors=100, weights=distance;, score=0.871 total time=   0.1s\n",
      "[CV 5/5] END algorithm=kd_tree, n_neighbors=100, weights=distance;, score=0.877 total time=   0.0s\n"
     ]
    },
    {
     "name": "stderr",
     "output_type": "stream",
     "text": [
      "C:\\Users\\leatu\\anaconda3\\envs\\py39\\lib\\site-packages\\sklearn\\neighbors\\_base.py:501: UserWarning: cannot use tree with sparse input: using brute force\n",
      "  warnings.warn(\"cannot use tree with sparse input: using brute force\")\n"
     ]
    },
    {
     "name": "stdout",
     "output_type": "stream",
     "text": [
      "[CV 1/5] END algorithm=brute, n_neighbors=5, weights=uniform;, score=0.931 total time=   0.0s\n",
      "[CV 2/5] END algorithm=brute, n_neighbors=5, weights=uniform;, score=0.919 total time=   0.0s\n",
      "[CV 3/5] END algorithm=brute, n_neighbors=5, weights=uniform;, score=0.944 total time=   0.0s\n",
      "[CV 4/5] END algorithm=brute, n_neighbors=5, weights=uniform;, score=0.915 total time=   0.0s\n",
      "[CV 5/5] END algorithm=brute, n_neighbors=5, weights=uniform;, score=0.929 total time=   0.1s\n",
      "[CV 1/5] END algorithm=brute, n_neighbors=5, weights=distance;, score=0.942 total time=   0.0s\n",
      "[CV 2/5] END algorithm=brute, n_neighbors=5, weights=distance;, score=0.931 total time=   0.0s\n",
      "[CV 3/5] END algorithm=brute, n_neighbors=5, weights=distance;, score=0.956 total time=   0.0s\n",
      "[CV 4/5] END algorithm=brute, n_neighbors=5, weights=distance;, score=0.925 total time=   0.0s\n",
      "[CV 5/5] END algorithm=brute, n_neighbors=5, weights=distance;, score=0.944 total time=   0.0s\n",
      "[CV 1/5] END algorithm=brute, n_neighbors=10, weights=uniform;, score=0.902 total time=   0.1s\n",
      "[CV 2/5] END algorithm=brute, n_neighbors=10, weights=uniform;, score=0.869 total time=   0.1s\n",
      "[CV 3/5] END algorithm=brute, n_neighbors=10, weights=uniform;, score=0.894 total time=   0.1s\n",
      "[CV 4/5] END algorithm=brute, n_neighbors=10, weights=uniform;, score=0.875 total time=   0.1s\n",
      "[CV 5/5] END algorithm=brute, n_neighbors=10, weights=uniform;, score=0.883 total time=   0.1s\n",
      "[CV 1/5] END algorithm=brute, n_neighbors=10, weights=distance;, score=0.933 total time=   0.0s\n",
      "[CV 2/5] END algorithm=brute, n_neighbors=10, weights=distance;, score=0.925 total time=   0.0s\n",
      "[CV 3/5] END algorithm=brute, n_neighbors=10, weights=distance;, score=0.931 total time=   0.0s\n",
      "[CV 4/5] END algorithm=brute, n_neighbors=10, weights=distance;, score=0.904 total time=   0.0s\n",
      "[CV 5/5] END algorithm=brute, n_neighbors=10, weights=distance;, score=0.935 total time=   0.0s\n",
      "[CV 1/5] END algorithm=brute, n_neighbors=20, weights=uniform;, score=0.883 total time=   0.1s\n",
      "[CV 2/5] END algorithm=brute, n_neighbors=20, weights=uniform;, score=0.863 total time=   0.1s\n",
      "[CV 3/5] END algorithm=brute, n_neighbors=20, weights=uniform;, score=0.885 total time=   0.1s\n",
      "[CV 4/5] END algorithm=brute, n_neighbors=20, weights=uniform;, score=0.865 total time=   0.1s\n",
      "[CV 5/5] END algorithm=brute, n_neighbors=20, weights=uniform;, score=0.871 total time=   0.1s\n",
      "[CV 1/5] END algorithm=brute, n_neighbors=20, weights=distance;, score=0.919 total time=   0.1s\n",
      "[CV 2/5] END algorithm=brute, n_neighbors=20, weights=distance;, score=0.912 total time=   0.1s\n",
      "[CV 3/5] END algorithm=brute, n_neighbors=20, weights=distance;, score=0.925 total time=   0.1s\n",
      "[CV 4/5] END algorithm=brute, n_neighbors=20, weights=distance;, score=0.906 total time=   0.0s\n",
      "[CV 5/5] END algorithm=brute, n_neighbors=20, weights=distance;, score=0.917 total time=   0.1s\n",
      "[CV 1/5] END algorithm=brute, n_neighbors=50, weights=uniform;, score=0.844 total time=   0.1s\n",
      "[CV 2/5] END algorithm=brute, n_neighbors=50, weights=uniform;, score=0.852 total time=   0.1s\n",
      "[CV 3/5] END algorithm=brute, n_neighbors=50, weights=uniform;, score=0.852 total time=   0.1s\n",
      "[CV 4/5] END algorithm=brute, n_neighbors=50, weights=uniform;, score=0.844 total time=   0.1s\n",
      "[CV 5/5] END algorithm=brute, n_neighbors=50, weights=uniform;, score=0.846 total time=   0.1s\n",
      "[CV 1/5] END algorithm=brute, n_neighbors=50, weights=distance;, score=0.883 total time=   0.0s\n",
      "[CV 2/5] END algorithm=brute, n_neighbors=50, weights=distance;, score=0.896 total time=   0.0s\n",
      "[CV 3/5] END algorithm=brute, n_neighbors=50, weights=distance;, score=0.894 total time=   0.0s\n",
      "[CV 4/5] END algorithm=brute, n_neighbors=50, weights=distance;, score=0.885 total time=   0.0s\n",
      "[CV 5/5] END algorithm=brute, n_neighbors=50, weights=distance;, score=0.887 total time=   0.0s\n",
      "[CV 1/5] END algorithm=brute, n_neighbors=100, weights=uniform;, score=0.831 total time=   0.0s\n",
      "[CV 2/5] END algorithm=brute, n_neighbors=100, weights=uniform;, score=0.833 total time=   0.0s\n",
      "[CV 3/5] END algorithm=brute, n_neighbors=100, weights=uniform;, score=0.844 total time=   0.0s\n",
      "[CV 4/5] END algorithm=brute, n_neighbors=100, weights=uniform;, score=0.833 total time=   0.1s\n",
      "[CV 5/5] END algorithm=brute, n_neighbors=100, weights=uniform;, score=0.833 total time=   0.1s\n",
      "[CV 1/5] END algorithm=brute, n_neighbors=100, weights=distance;, score=0.856 total time=   0.1s\n",
      "[CV 2/5] END algorithm=brute, n_neighbors=100, weights=distance;, score=0.875 total time=   0.0s\n",
      "[CV 3/5] END algorithm=brute, n_neighbors=100, weights=distance;, score=0.879 total time=   0.0s\n",
      "[CV 4/5] END algorithm=brute, n_neighbors=100, weights=distance;, score=0.871 total time=   0.0s\n",
      "[CV 5/5] END algorithm=brute, n_neighbors=100, weights=distance;, score=0.877 total time=   0.0s\n"
     ]
    },
    {
     "data": {
      "text/plain": [
       "GridSearchCV(cv=5, estimator=KNeighborsClassifier(),\n",
       "             param_grid=[{'algorithm': ['auto', 'ball_tree', 'kd_tree',\n",
       "                                        'brute'],\n",
       "                          'n_neighbors': [5, 10, 20, 50, 100],\n",
       "                          'weights': ['uniform', 'distance']}],\n",
       "             verbose=3)"
      ]
     },
     "execution_count": 53,
     "metadata": {},
     "output_type": "execute_result"
    }
   ],
   "source": [
    "from sklearn.neighbors import KNeighborsClassifier\n",
    "\n",
    "knn_clf = KNeighborsClassifier()\n",
    "knn_clf_param_grid = [{\"n_neighbors\":[5, 10, 20, 50, 100],\n",
    "                       \"weights\": [\"uniform\", \"distance\"],\n",
    "                       \"algorithm\":[\"auto\", \"ball_tree\", \"kd_tree\", \"brute\"]\n",
    "                      }]\n",
    "knn_clf_grid_search = GridSearchCV(knn_clf, knn_clf_param_grid, cv=5, verbose=3)\n",
    "knn_clf_grid_search.fit(X_train_transformed, y_train)"
   ]
  },
  {
   "cell_type": "code",
   "execution_count": 54,
   "id": "7f5f6f49",
   "metadata": {},
   "outputs": [
    {
     "data": {
      "text/plain": [
       "{'algorithm': 'auto', 'n_neighbors': 5, 'weights': 'distance'}"
      ]
     },
     "execution_count": 54,
     "metadata": {},
     "output_type": "execute_result"
    }
   ],
   "source": [
    "knn_clf_grid_search.best_params_"
   ]
  },
  {
   "cell_type": "code",
   "execution_count": 55,
   "id": "ddaae7a6",
   "metadata": {},
   "outputs": [
    {
     "data": {
      "text/plain": [
       "0.9395833333333332"
      ]
     },
     "execution_count": 55,
     "metadata": {},
     "output_type": "execute_result"
    }
   ],
   "source": [
    "knn_clf_grid_search.best_score_"
   ]
  }
 ],
 "metadata": {
  "kernelspec": {
   "display_name": "Python 3 (ipykernel)",
   "language": "python",
   "name": "python3"
  },
  "language_info": {
   "codemirror_mode": {
    "name": "ipython",
    "version": 3
   },
   "file_extension": ".py",
   "mimetype": "text/x-python",
   "name": "python",
   "nbconvert_exporter": "python",
   "pygments_lexer": "ipython3",
   "version": "3.9.7"
  }
 },
 "nbformat": 4,
 "nbformat_minor": 5
}
